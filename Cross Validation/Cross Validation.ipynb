{
 "cells": [
  {
   "cell_type": "code",
   "execution_count": 23,
   "id": "5bcb09da",
   "metadata": {},
   "outputs": [],
   "source": [
    "from sklearn.datasets import load_breast_cancer\n",
    "from sklearn.ensemble import RandomForestClassifier\n",
    "from sklearn.model_selection import KFold\n",
    "from sklearn.metrics import accuracy_score"
   ]
  },
  {
   "cell_type": "code",
   "execution_count": 26,
   "id": "9a6ddedf",
   "metadata": {},
   "outputs": [],
   "source": [
    "\n",
    "# Load the Breast Cancer dataset\n",
    "cancer = load_breast_cancer()\n",
    "X, y = cancer.data, cancer.target\n",
    "\n",
    "# Split the dataset into training and testing sets\n",
    "X_train, X_test, y_train, y_test = train_test_split(X, y, test_size=0.2, random_state=42)\n",
    "\n"
   ]
  },
  {
   "cell_type": "code",
   "execution_count": 28,
   "id": "b398dfdc",
   "metadata": {},
   "outputs": [
    {
     "name": "stdout",
     "output_type": "stream",
     "text": [
      "Average accuracy using K-Fold CV: 0.96\n"
     ]
    }
   ],
   "source": [
    "# Initialize K-Fold Cross-Validation\n",
    "num_folds = 5\n",
    "kf = KFold(n_splits=num_folds)\n",
    "\n",
    "# Initialize a Random Forest classifier\n",
    "model = RandomForestClassifier()\n",
    "\n",
    "# List to store accuracy scores\n",
    "accuracy_scores = []\n",
    "\n",
    "# Perform K-Fold Cross-Validation\n",
    "for train_indices, val_indices in kf.split(X):\n",
    "    X_train, y_train = X[train_indices], y[train_indices]\n",
    "    X_val, y_val = X[val_indices], y[val_indices]\n",
    "    \n",
    "    # Train the model on the training data\n",
    "    model.fit(X_train, y_train)\n",
    "    \n",
    "    # Make predictions on the validation data\n",
    "    y_pred = model.predict(X_val)\n",
    "    \n",
    "    # Calculate accuracy and store it\n",
    "    accuracy = accuracy_score(y_val, y_pred)\n",
    "    accuracy_scores.append(accuracy)\n",
    "\n",
    "# Calculate average accuracy\n",
    "average_accuracy = sum(accuracy_scores) / num_folds\n",
    "print(f'Average accuracy using K-Fold CV: {average_accuracy:.2f}')"
   ]
  },
  {
   "cell_type": "code",
   "execution_count": 29,
   "id": "71443d24",
   "metadata": {},
   "outputs": [
    {
     "name": "stdout",
     "output_type": "stream",
     "text": [
      "Average accuracy using Stratified K-Fold CV: 0.96\n"
     ]
    }
   ],
   "source": [
    "# Initialize the number of folds\n",
    "num_folds = 5\n",
    "\n",
    "# Initialize Stratified K-Fold Cross-Validation\n",
    "skf = StratifiedKFold(n_splits=num_folds)\n",
    "\n",
    "# Initialize a Random Forest classifier\n",
    "model = RandomForestClassifier()\n",
    "\n",
    "# List to store accuracy scores\n",
    "accuracy_scores = []\n",
    "\n",
    "# Perform Stratified K-Fold Cross-Validation\n",
    "for train_indices, val_indices in skf.split(X, y):\n",
    "    X_train, y_train = X[train_indices], y[train_indices]\n",
    "    X_val, y_val = X[val_indices], y[val_indices]\n",
    "    \n",
    "    # Train the model on the training data\n",
    "    model.fit(X_train, y_train)\n",
    "    \n",
    "    # Make predictions on the validation data\n",
    "    y_pred = model.predict(X_val)\n",
    "    \n",
    "    # Calculate accuracy and store it\n",
    "    accuracy = accuracy_score(y_val, y_pred)\n",
    "    accuracy_scores.append(accuracy)\n",
    "\n",
    "# Calculate average accuracy\n",
    "average_accuracy = sum(accuracy_scores) / num_folds\n",
    "print(f'Average accuracy using Stratified K-Fold CV: {average_accuracy:.2f}')"
   ]
  },
  {
   "cell_type": "code",
   "execution_count": 30,
   "id": "24a9ee3a",
   "metadata": {},
   "outputs": [
    {
     "name": "stdout",
     "output_type": "stream",
     "text": [
      "Average accuracy using LOOCV: 0.96\n"
     ]
    }
   ],
   "source": [
    "# Initialize Leave-One-Out Cross-Validation\n",
    "loo = LeaveOneOut()\n",
    "\n",
    "# Initialize a Random Forest classifier\n",
    "model = RandomForestClassifier()\n",
    "\n",
    "# List to store accuracy scores\n",
    "accuracy_scores = []\n",
    "\n",
    "# Perform Leave-One-Out Cross-Validation\n",
    "for train_indices, val_index in loo.split(X):\n",
    "    X_train, y_train = X[train_indices], y[train_indices]\n",
    "    X_val, y_val = X[val_index], y[val_index]\n",
    "    \n",
    "    # Train the model on the training data\n",
    "    model.fit(X_train, y_train)\n",
    "    \n",
    "    # Make predictions on the validation data\n",
    "    y_pred = model.predict(X_val)\n",
    "    \n",
    "    # Calculate accuracy and store it\n",
    "    accuracy = accuracy_score(y_val, y_pred)\n",
    "    accuracy_scores.append(accuracy)\n",
    "\n",
    "# Calculate average accuracy\n",
    "average_accuracy = sum(accuracy_scores) / len(X)\n",
    "print(f'Average accuracy using LOOCV: {average_accuracy:.2f}')"
   ]
  },
  {
   "cell_type": "code",
   "execution_count": null,
   "id": "39881ed7",
   "metadata": {},
   "outputs": [],
   "source": []
  },
  {
   "cell_type": "code",
   "execution_count": null,
   "id": "62ebaab1",
   "metadata": {},
   "outputs": [],
   "source": []
  }
 ],
 "metadata": {
  "kernelspec": {
   "display_name": "Python 3 (ipykernel)",
   "language": "python",
   "name": "python3"
  },
  "language_info": {
   "codemirror_mode": {
    "name": "ipython",
    "version": 3
   },
   "file_extension": ".py",
   "mimetype": "text/x-python",
   "name": "python",
   "nbconvert_exporter": "python",
   "pygments_lexer": "ipython3",
   "version": "3.8.13"
  }
 },
 "nbformat": 4,
 "nbformat_minor": 5
}
