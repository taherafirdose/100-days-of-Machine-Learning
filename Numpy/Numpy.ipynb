{
 "cells": [
  {
   "cell_type": "markdown",
   "id": "b66d5f71",
   "metadata": {},
   "source": [
    "What is Numpy?\n",
    "\n",
    "NumPy is a Python library that provides support for large, multi-dimensional arrays and matrices, as well as a wide range of mathematical operations to manipulate these arrays. It is widely used in scientific computing, data analysis, and machine learning."
   ]
  },
  {
   "cell_type": "markdown",
   "id": "ff8a348c",
   "metadata": {},
   "source": [
    "How to install Numpy?\n",
    "\n",
    "To install NumPy, you can use pip, which is a package installer for Python. Here are the steps to install NumPy using pip:\n",
    "\n",
    "Open a command prompt or terminal on your computer.\n",
    "Type the following command to install NumPy using pip: pip install numpy\n",
    "Press Enter and wait for the installation to complete.\n",
    "\n",
    "Alternatively, if you are using Anaconda, you can install NumPy by opening the Anaconda prompt and typing the following command:\n",
    "\n",
    "conda install numpy\n",
    "\n",
    "Once NumPy is installed, you can import it in your Python code using the following statement:\n",
    "\n",
    "import numpy as np"
   ]
  },
  {
   "cell_type": "code",
   "execution_count": 1,
   "id": "6aad09f3",
   "metadata": {},
   "outputs": [],
   "source": [
    "import numpy as np\n",
    "\n",
    "#Now the NumPy package can be referred to as np instead of numpy.\n"
   ]
  },
  {
   "cell_type": "code",
   "execution_count": 2,
   "id": "d4e1d684",
   "metadata": {},
   "outputs": [
    {
     "name": "stdout",
     "output_type": "stream",
     "text": [
      "1.22.3\n"
     ]
    }
   ],
   "source": [
    "\n",
    "# To check your installed version of Numpy use the command\n",
    "\n",
    "print (np.__version__)"
   ]
  },
  {
   "cell_type": "markdown",
   "id": "3fdce553",
   "metadata": {},
   "source": [
    "np.array() -  This command creates a NumPy array from a Python list or tuple."
   ]
  },
  {
   "cell_type": "code",
   "execution_count": 3,
   "id": "11c122e0",
   "metadata": {},
   "outputs": [
    {
     "name": "stdout",
     "output_type": "stream",
     "text": [
      "[1 2 3 4 5]\n"
     ]
    }
   ],
   "source": [
    "#Create a 1 dimension array\n",
    "\n",
    "a = np.array([1, 2, 3, 4, 5])\n",
    "print(a)"
   ]
  },
  {
   "cell_type": "code",
   "execution_count": 4,
   "id": "f8ceca1d",
   "metadata": {},
   "outputs": [
    {
     "name": "stdout",
     "output_type": "stream",
     "text": [
      "[[1 2]\n",
      " [3 4]]\n"
     ]
    }
   ],
   "source": [
    "#create 2D arrays\n",
    "\n",
    "b=np.array([[1,2],[3,4]])\n",
    "print(b)"
   ]
  },
  {
   "cell_type": "code",
   "execution_count": 5,
   "id": "aeb0232f",
   "metadata": {},
   "outputs": [
    {
     "name": "stdout",
     "output_type": "stream",
     "text": [
      "[[[1 2]\n",
      "  [2 4]]\n",
      "\n",
      " [[3 4]\n",
      "  [5 6]]]\n"
     ]
    }
   ],
   "source": [
    "#create 3D arrays\n",
    "\n",
    "c=np.array([[[1,2],[2,4]],[[3,4],[5,6]]])\n",
    "print(c)"
   ]
  },
  {
   "cell_type": "code",
   "execution_count": 6,
   "id": "1c77d1f2",
   "metadata": {},
   "outputs": [
    {
     "name": "stdout",
     "output_type": "stream",
     "text": [
      "1\n",
      "2\n",
      "3\n"
     ]
    }
   ],
   "source": [
    "# Check the dimensions of array\n",
    "# To check the dimensions of a NumPy array, you can use the ndim attribute\n",
    "\n",
    "\n",
    "print(a.ndim)\n",
    "print(b.ndim)\n",
    "print(c.ndim)\n"
   ]
  },
  {
   "cell_type": "code",
   "execution_count": 7,
   "id": "f581cd98",
   "metadata": {},
   "outputs": [
    {
     "data": {
      "text/plain": [
       "array([[1., 0., 0.],\n",
       "       [0., 1., 0.],\n",
       "       [0., 0., 1.]])"
      ]
     },
     "execution_count": 7,
     "metadata": {},
     "output_type": "execute_result"
    }
   ],
   "source": [
    "#Create a 3-D array with ones on the diagonal and zeros elsewhere.\n",
    "\n",
    "np.eye(3)"
   ]
  },
  {
   "cell_type": "code",
   "execution_count": 8,
   "id": "a1a2c474",
   "metadata": {},
   "outputs": [
    {
     "data": {
      "text/plain": [
       "array([[1., 0., 0.],\n",
       "       [0., 1., 0.],\n",
       "       [0., 0., 1.]])"
      ]
     },
     "execution_count": 8,
     "metadata": {},
     "output_type": "execute_result"
    }
   ],
   "source": [
    "np.identity(3)"
   ]
  },
  {
   "cell_type": "code",
   "execution_count": 9,
   "id": "739f8a6d",
   "metadata": {},
   "outputs": [
    {
     "name": "stdout",
     "output_type": "stream",
     "text": [
      "[[0. 0. 0. 0.]\n",
      " [0. 0. 0. 0.]\n",
      " [0. 0. 0. 0.]]\n"
     ]
    }
   ],
   "source": [
    "#np.zeros() - This command creates a NumPy array filled with zeros.#\n",
    "arr=np.zeros((3,4))\n",
    "print(arr)"
   ]
  },
  {
   "cell_type": "code",
   "execution_count": 10,
   "id": "e826622b",
   "metadata": {},
   "outputs": [
    {
     "data": {
      "text/plain": [
       "array([[1., 1.],\n",
       "       [1., 1.],\n",
       "       [1., 1.]])"
      ]
     },
     "execution_count": 10,
     "metadata": {},
     "output_type": "execute_result"
    }
   ],
   "source": [
    "#Create a new array of 3*2 float numbers, filled with ones and type float.\n",
    "\n",
    "np.ones((3,2))"
   ]
  },
  {
   "cell_type": "code",
   "execution_count": 11,
   "id": "188f87c3",
   "metadata": {},
   "outputs": [
    {
     "data": {
      "text/plain": [
       "array([[6, 6, 6, 6, 6],\n",
       "       [6, 6, 6, 6, 6]])"
      ]
     },
     "execution_count": 11,
     "metadata": {},
     "output_type": "execute_result"
    }
   ],
   "source": [
    "#Create a new array of 2*5 uints, filled with 6.\n",
    "\n",
    "np.full((2,5),6)"
   ]
  },
  {
   "cell_type": "code",
   "execution_count": 12,
   "id": "84ecc3ed",
   "metadata": {},
   "outputs": [
    {
     "data": {
      "text/plain": [
       "array([[6, 6, 6, 6, 6],\n",
       "       [6, 6, 6, 6, 6]], dtype=uint32)"
      ]
     },
     "execution_count": 12,
     "metadata": {},
     "output_type": "execute_result"
    }
   ],
   "source": [
    "np.ones([2, 5], dtype=np.uint) * 6"
   ]
  },
  {
   "cell_type": "markdown",
   "id": "757bc5ce",
   "metadata": {},
   "source": [
    "# Numerical ranges"
   ]
  },
  {
   "cell_type": "code",
   "execution_count": 13,
   "id": "dce550ba",
   "metadata": {},
   "outputs": [
    {
     "data": {
      "text/plain": [
       "array([  2,   4,   6,   8,  10,  12,  14,  16,  18,  20,  22,  24,  26,\n",
       "        28,  30,  32,  34,  36,  38,  40,  42,  44,  46,  48,  50,  52,\n",
       "        54,  56,  58,  60,  62,  64,  66,  68,  70,  72,  74,  76,  78,\n",
       "        80,  82,  84,  86,  88,  90,  92,  94,  96,  98, 100])"
      ]
     },
     "execution_count": 13,
     "metadata": {},
     "output_type": "execute_result"
    }
   ],
   "source": [
    "#Create an array of 2, 4, 6, 8, ..., 100.\n",
    "\n",
    "np.arange(2,101,2)\n"
   ]
  },
  {
   "cell_type": "code",
   "execution_count": 14,
   "id": "6e10d6ee",
   "metadata": {},
   "outputs": [
    {
     "data": {
      "text/plain": [
       "array([ 3.        ,  3.14285714,  3.28571429,  3.42857143,  3.57142857,\n",
       "        3.71428571,  3.85714286,  4.        ,  4.14285714,  4.28571429,\n",
       "        4.42857143,  4.57142857,  4.71428571,  4.85714286,  5.        ,\n",
       "        5.14285714,  5.28571429,  5.42857143,  5.57142857,  5.71428571,\n",
       "        5.85714286,  6.        ,  6.14285714,  6.28571429,  6.42857143,\n",
       "        6.57142857,  6.71428571,  6.85714286,  7.        ,  7.14285714,\n",
       "        7.28571429,  7.42857143,  7.57142857,  7.71428571,  7.85714286,\n",
       "        8.        ,  8.14285714,  8.28571429,  8.42857143,  8.57142857,\n",
       "        8.71428571,  8.85714286,  9.        ,  9.14285714,  9.28571429,\n",
       "        9.42857143,  9.57142857,  9.71428571,  9.85714286, 10.        ])"
      ]
     },
     "execution_count": 14,
     "metadata": {},
     "output_type": "execute_result"
    }
   ],
   "source": [
    "#Create a 1-D array of 50 evenly spaced elements between 3. and 10., inclusive.\n",
    "\n",
    "np.linspace(3,10,50)"
   ]
  },
  {
   "cell_type": "code",
   "execution_count": 15,
   "id": "fc8e7170",
   "metadata": {},
   "outputs": [
    {
     "data": {
      "text/plain": [
       "array([1.00000000e+03, 1.38038426e+03, 1.90546072e+03, 2.63026799e+03,\n",
       "       3.63078055e+03, 5.01187234e+03, 6.91830971e+03, 9.54992586e+03,\n",
       "       1.31825674e+04, 1.81970086e+04, 2.51188643e+04, 3.46736850e+04,\n",
       "       4.78630092e+04, 6.60693448e+04, 9.12010839e+04, 1.25892541e+05,\n",
       "       1.73780083e+05, 2.39883292e+05, 3.31131121e+05, 4.57088190e+05,\n",
       "       6.30957344e+05, 8.70963590e+05, 1.20226443e+06, 1.65958691e+06,\n",
       "       2.29086765e+06, 3.16227766e+06, 4.36515832e+06, 6.02559586e+06,\n",
       "       8.31763771e+06, 1.14815362e+07, 1.58489319e+07, 2.18776162e+07,\n",
       "       3.01995172e+07, 4.16869383e+07, 5.75439937e+07, 7.94328235e+07,\n",
       "       1.09647820e+08, 1.51356125e+08, 2.08929613e+08, 2.88403150e+08,\n",
       "       3.98107171e+08, 5.49540874e+08, 7.58577575e+08, 1.04712855e+09,\n",
       "       1.44543977e+09, 1.99526231e+09, 2.75422870e+09, 3.80189396e+09,\n",
       "       5.24807460e+09, 7.24435960e+09])"
      ]
     },
     "execution_count": 15,
     "metadata": {},
     "output_type": "execute_result"
    }
   ],
   "source": [
    "#Create a 1-D array of 50 element spaced evenly on a log scale between 3. and 10., exclusive.\n",
    "\n",
    "np.logspace(3., 10., 50, endpoint=False)"
   ]
  },
  {
   "cell_type": "markdown",
   "id": "1bcef7d0",
   "metadata": {},
   "source": [
    "# NumPy Array Indexing"
   ]
  },
  {
   "cell_type": "code",
   "execution_count": 16,
   "id": "d7f00b6c",
   "metadata": {},
   "outputs": [
    {
     "data": {
      "text/plain": [
       "1"
      ]
     },
     "execution_count": 16,
     "metadata": {},
     "output_type": "execute_result"
    }
   ],
   "source": [
    "#Get the first element from the following array:\n",
    "\n",
    "a= np.array([1,2,3,4])\n",
    "\n",
    "a[0] #Index starts from 0"
   ]
  },
  {
   "cell_type": "code",
   "execution_count": 17,
   "id": "5ed64bef",
   "metadata": {},
   "outputs": [
    {
     "data": {
      "text/plain": [
       "2"
      ]
     },
     "execution_count": 17,
     "metadata": {},
     "output_type": "execute_result"
    }
   ],
   "source": [
    "#Get the second element from the following array.\n",
    "\n",
    "a[1]"
   ]
  },
  {
   "cell_type": "code",
   "execution_count": 18,
   "id": "c52a7cf1",
   "metadata": {},
   "outputs": [
    {
     "name": "stdout",
     "output_type": "stream",
     "text": [
      "[[1 2 3 4]\n",
      " [5 6 7 8]]\n"
     ]
    },
    {
     "data": {
      "text/plain": [
       "6"
      ]
     },
     "execution_count": 18,
     "metadata": {},
     "output_type": "execute_result"
    }
   ],
   "source": [
    "#Access 2-D Arrays\n",
    "#access 2nd element on 1st row\n",
    "\n",
    "b= np.array([[1,2,3,4],[5,6,7,8]])\n",
    "print(b)\n",
    "b[1,1]\n"
   ]
  },
  {
   "cell_type": "code",
   "execution_count": 19,
   "id": "b535107f",
   "metadata": {},
   "outputs": [
    {
     "name": "stdout",
     "output_type": "stream",
     "text": [
      "[[1 2 3 4]\n",
      " [5 6 7 8]\n",
      " [4 2 1 1]]\n"
     ]
    },
    {
     "data": {
      "text/plain": [
       "1"
      ]
     },
     "execution_count": 19,
     "metadata": {},
     "output_type": "execute_result"
    }
   ],
   "source": [
    "#Access the element on the 2nd row, 4th column:\n",
    "\n",
    "a=np.array([[1,2,3,4],[5,6,7,8],[4,2,1,1]])\n",
    "print(a)\n",
    "a[2,3]"
   ]
  },
  {
   "cell_type": "code",
   "execution_count": 20,
   "id": "34fc7407",
   "metadata": {},
   "outputs": [
    {
     "data": {
      "text/plain": [
       "6"
      ]
     },
     "execution_count": 20,
     "metadata": {},
     "output_type": "execute_result"
    }
   ],
   "source": [
    "#Access 3-D Arrays\n",
    "\n",
    "#Access the third element of the second array of the first array:\n",
    "\n",
    "\n",
    "arr = np.array([[[1, 2, 3], [4, 5, 6]], [[7, 8, 9], [10, 11, 12]]])\n",
    "\n",
    "arr[0,1,2]"
   ]
  },
  {
   "cell_type": "markdown",
   "id": "c7f350f4",
   "metadata": {},
   "source": [
    "#Negative Indexing"
   ]
  },
  {
   "cell_type": "code",
   "execution_count": 21,
   "id": "c2c213d0",
   "metadata": {},
   "outputs": [
    {
     "name": "stdout",
     "output_type": "stream",
     "text": [
      "[[ 1  2  3  4  5]\n",
      " [ 6  7  8  9 10]]\n"
     ]
    },
    {
     "data": {
      "text/plain": [
       "10"
      ]
     },
     "execution_count": 21,
     "metadata": {},
     "output_type": "execute_result"
    }
   ],
   "source": [
    "arr = np.array([[1,2,3,4,5], [6,7,8,9,10]])\n",
    "print(arr)\n",
    "arr[1,-1] #2nd row and last column"
   ]
  },
  {
   "cell_type": "markdown",
   "id": "0762bca3",
   "metadata": {},
   "source": [
    "# Slicing arrays"
   ]
  },
  {
   "cell_type": "code",
   "execution_count": 22,
   "id": "d31d37d2",
   "metadata": {},
   "outputs": [
    {
     "data": {
      "text/plain": [
       "array([2, 3, 4, 5, 6, 7])"
      ]
     },
     "execution_count": 22,
     "metadata": {},
     "output_type": "execute_result"
    }
   ],
   "source": [
    "#A-Slice elements from index 1 to index 6 from the following array\n",
    "\n",
    "arr = np.array([1, 2, 3, 4, 5, 6, 7,8,9])\n",
    "\n",
    "arr[1:7]"
   ]
  },
  {
   "cell_type": "code",
   "execution_count": 23,
   "id": "ae48765b",
   "metadata": {},
   "outputs": [
    {
     "data": {
      "text/plain": [
       "array([3, 4, 5, 6, 7, 8, 9])"
      ]
     },
     "execution_count": 23,
     "metadata": {},
     "output_type": "execute_result"
    }
   ],
   "source": [
    "#Slice elements from index 2 to the end of the array\n",
    "\n",
    "arr[2:]"
   ]
  },
  {
   "cell_type": "code",
   "execution_count": 24,
   "id": "84e58878",
   "metadata": {},
   "outputs": [
    {
     "data": {
      "text/plain": [
       "array([1, 2, 3, 4, 5])"
      ]
     },
     "execution_count": 24,
     "metadata": {},
     "output_type": "execute_result"
    }
   ],
   "source": [
    "#Slice elements from the beginning to index 5\n",
    "arr[:5]"
   ]
  },
  {
   "cell_type": "code",
   "execution_count": 25,
   "id": "ad25ca4a",
   "metadata": {},
   "outputs": [
    {
     "data": {
      "text/plain": [
       "array([2, 4, 6])"
      ]
     },
     "execution_count": 25,
     "metadata": {},
     "output_type": "execute_result"
    }
   ],
   "source": [
    "#Return every other element from index 1 to index 6\n",
    "\n",
    "arr[1:6:2]"
   ]
  },
  {
   "cell_type": "code",
   "execution_count": 26,
   "id": "ae10975d",
   "metadata": {},
   "outputs": [
    {
     "data": {
      "text/plain": [
       "array([1, 3, 5, 7, 9])"
      ]
     },
     "execution_count": 26,
     "metadata": {},
     "output_type": "execute_result"
    }
   ],
   "source": [
    "#Return every other element from the entire array\n",
    "\n",
    "arr[::2]"
   ]
  },
  {
   "cell_type": "code",
   "execution_count": 27,
   "id": "feb833f1",
   "metadata": {},
   "outputs": [
    {
     "data": {
      "text/plain": [
       "array([7, 8, 9])"
      ]
     },
     "execution_count": 27,
     "metadata": {},
     "output_type": "execute_result"
    }
   ],
   "source": [
    "#Slicing 2-D Arrays\n",
    "\n",
    "#From the second element, slice elements from index 1 to index 4 (not included):\n",
    "\n",
    "arr = np.array([[1, 2, 3, 4, 5], [6, 7, 8, 9, 10]])\n",
    "\n",
    "arr[1,1:4]"
   ]
  },
  {
   "cell_type": "code",
   "execution_count": 28,
   "id": "2fdb6bc2",
   "metadata": {},
   "outputs": [
    {
     "data": {
      "text/plain": [
       "array([3, 8])"
      ]
     },
     "execution_count": 28,
     "metadata": {},
     "output_type": "execute_result"
    }
   ],
   "source": [
    "#From both elements, return index 2:\n",
    "\n",
    "arr[:,2]"
   ]
  },
  {
   "cell_type": "code",
   "execution_count": 29,
   "id": "8374194e",
   "metadata": {},
   "outputs": [
    {
     "data": {
      "text/plain": [
       "array([[2, 3, 4],\n",
       "       [7, 8, 9]])"
      ]
     },
     "execution_count": 29,
     "metadata": {},
     "output_type": "execute_result"
    }
   ],
   "source": [
    "#From both elements, slice index 1 to index 4 (not included), this will return a 2-D array:\n",
    "\n",
    "arr[:,1:4]"
   ]
  },
  {
   "cell_type": "markdown",
   "id": "0b6f6d06",
   "metadata": {},
   "source": [
    "NumPy Data Types\n",
    "NumPy has some extra data types, and refer to data types with one character, like i for integers, u for unsigned integers etc.\n",
    "\n",
    "Below is a list of all data types in NumPy and the characters used to represent them.\n",
    "\n",
    "i - integer\n",
    "b - boolean\n",
    "u - unsigned integer\n",
    "f - float\n",
    "c - complex float\n",
    "m - timedelta\n",
    "M - datetime\n",
    "O - object\n",
    "S - string\n",
    "U - unicode string\n",
    "V - fixed chunk of memory for other type ( void )"
   ]
  },
  {
   "cell_type": "code",
   "execution_count": 30,
   "id": "85a49233",
   "metadata": {},
   "outputs": [
    {
     "data": {
      "text/plain": [
       "dtype('int32')"
      ]
     },
     "execution_count": 30,
     "metadata": {},
     "output_type": "execute_result"
    }
   ],
   "source": [
    "#Checking the Data Type of an Array\n",
    "\n",
    "a = np.array([1, 2, 3, 4])\n",
    "a.dtype"
   ]
  },
  {
   "cell_type": "code",
   "execution_count": 31,
   "id": "9a34ed54",
   "metadata": {},
   "outputs": [
    {
     "data": {
      "text/plain": [
       "dtype('<U1')"
      ]
     },
     "execution_count": 31,
     "metadata": {},
     "output_type": "execute_result"
    }
   ],
   "source": [
    "#data type of an array containing strings:\n",
    "\n",
    "b=np.array(['a','b','c'])\n",
    "b.dtype"
   ]
  },
  {
   "cell_type": "code",
   "execution_count": 32,
   "id": "7e54bf48",
   "metadata": {},
   "outputs": [
    {
     "data": {
      "text/plain": [
       "dtype('<U6')"
      ]
     },
     "execution_count": 32,
     "metadata": {},
     "output_type": "execute_result"
    }
   ],
   "source": [
    "b=np.array(['Data','Numpy','Pandas'])\n",
    "b.dtype"
   ]
  },
  {
   "cell_type": "code",
   "execution_count": 33,
   "id": "2caac8be",
   "metadata": {},
   "outputs": [
    {
     "data": {
      "text/plain": [
       "dtype('S1')"
      ]
     },
     "execution_count": 33,
     "metadata": {},
     "output_type": "execute_result"
    }
   ],
   "source": [
    "#Creating Arrays With a required Data Type\n",
    "\n",
    "a = np.array([1, 2, 3, 4], dtype='S')\n",
    "a.dtype"
   ]
  },
  {
   "cell_type": "code",
   "execution_count": 34,
   "id": "b1bf7dfd",
   "metadata": {},
   "outputs": [
    {
     "name": "stdout",
     "output_type": "stream",
     "text": [
      "float32\n",
      "[1. 2. 3. 4.]\n"
     ]
    }
   ],
   "source": [
    "#changing array from int to float\n",
    "a = np.array([1, 2, 3, 4], dtype='f')\n",
    "print(a.dtype)\n",
    "print(a)"
   ]
  },
  {
   "cell_type": "code",
   "execution_count": 35,
   "id": "3b8a7e65",
   "metadata": {},
   "outputs": [
    {
     "name": "stdout",
     "output_type": "stream",
     "text": [
      "[ True False  True]\n",
      "bool\n"
     ]
    }
   ],
   "source": [
    "#Change data type from integer to boolean:\n",
    "arr = np.array([1, 0, 3])\n",
    "\n",
    "newarr = arr.astype(bool)\n",
    "\n",
    "print(newarr)\n",
    "print(newarr.dtype)"
   ]
  },
  {
   "cell_type": "markdown",
   "id": "5cf767a5",
   "metadata": {},
   "source": [
    "# NumPy Array Shape"
   ]
  },
  {
   "cell_type": "markdown",
   "id": "a35ba130",
   "metadata": {},
   "source": [
    "In NumPy, the shape attribute is used to get the dimensions of an array. It returns a tuple representing the size of each dimension of the array."
   ]
  },
  {
   "cell_type": "code",
   "execution_count": 36,
   "id": "4279af14",
   "metadata": {},
   "outputs": [
    {
     "name": "stdout",
     "output_type": "stream",
     "text": [
      "(2, 4)\n"
     ]
    }
   ],
   "source": [
    "arr = np.array([[1, 2, 3, 4], [5, 6, 7, 8]])\n",
    "\n",
    "print(arr.shape)"
   ]
  },
  {
   "cell_type": "code",
   "execution_count": 37,
   "id": "5dd727d8",
   "metadata": {},
   "outputs": [
    {
     "name": "stdout",
     "output_type": "stream",
     "text": [
      "[[[1 2 3 4]]]\n",
      "shape of array : (1, 1, 4)\n"
     ]
    }
   ],
   "source": [
    "arr = np.array([1, 2, 3, 4], ndmin=3)\n",
    "\n",
    "print(arr)\n",
    "print('shape of array :', arr.shape)"
   ]
  },
  {
   "cell_type": "markdown",
   "id": "05299599",
   "metadata": {},
   "source": [
    "# NumPy Array Reshaping"
   ]
  },
  {
   "cell_type": "markdown",
   "id": "9e7b90d8",
   "metadata": {},
   "source": [
    "NumPy Array Reshaping is a technique to change the shape of an existing array without changing its data. The reshape() function in NumPy is used to reshape an array. It takes a tuple as an argument that specifies the new shape of the array."
   ]
  },
  {
   "cell_type": "code",
   "execution_count": 38,
   "id": "9859d420",
   "metadata": {},
   "outputs": [
    {
     "name": "stdout",
     "output_type": "stream",
     "text": [
      "[[ 0  1  2  3  4  5]\n",
      " [ 6  7  8  9 10 11]\n",
      " [12 13 14 15 16 17]\n",
      " [18 19 20 21 22 23]]\n",
      "[[ 0  1  2  3]\n",
      " [ 4  5  6  7]\n",
      " [ 8  9 10 11]\n",
      " [12 13 14 15]\n",
      " [16 17 18 19]\n",
      " [20 21 22 23]]\n"
     ]
    }
   ],
   "source": [
    "# Create a 2-dimensional NumPy array with 4 rows and 6 columns\n",
    "arr = np.arange(24).reshape(4, 6)\n",
    "\n",
    "# Reshape the array to have 6 rows and 4 columns\n",
    "new_arr = arr.reshape(6, 4)\n",
    "\n",
    "# Print both arrays\n",
    "print(arr)\n",
    "print(new_arr)"
   ]
  },
  {
   "cell_type": "code",
   "execution_count": 39,
   "id": "78d1b862",
   "metadata": {},
   "outputs": [
    {
     "name": "stdout",
     "output_type": "stream",
     "text": [
      "[[[ 0  1  2  3]\n",
      "  [ 4  5  6  7]\n",
      "  [ 8  9 10 11]]\n",
      "\n",
      " [[12 13 14 15]\n",
      "  [16 17 18 19]\n",
      "  [20 21 22 23]]]\n",
      "*************\n",
      "[[[ 0  1]\n",
      "  [ 2  3]\n",
      "  [ 4  5]]\n",
      "\n",
      " [[ 6  7]\n",
      "  [ 8  9]\n",
      "  [10 11]]\n",
      "\n",
      " [[12 13]\n",
      "  [14 15]\n",
      "  [16 17]]\n",
      "\n",
      " [[18 19]\n",
      "  [20 21]\n",
      "  [22 23]]]\n"
     ]
    }
   ],
   "source": [
    "# Create a 3-dimensional NumPy array with 2 planes, 3 rows, and 4 columns\n",
    "arr = np.arange(24).reshape(2, 3, 4)\n",
    "\n",
    "# Reshape the array to have 4 planes, 3 rows, and 2 columns\n",
    "new_arr = arr.reshape(4, 3, 2)\n",
    "\n",
    "# Print both arrays\n",
    "print(arr)\n",
    "print('*************')\n",
    "print(new_arr)"
   ]
  },
  {
   "cell_type": "markdown",
   "id": "6e3f83ff",
   "metadata": {},
   "source": [
    "# NumPy Array Iterating"
   ]
  },
  {
   "cell_type": "markdown",
   "id": "4327f8f5",
   "metadata": {},
   "source": [
    "NumPy Array Iterating refers to accessing each element of an array using loops or other iterators. In NumPy, we can iterate over the elements of an array using various techniques like for loops, while loops, and NumPy functions like nditer()."
   ]
  },
  {
   "cell_type": "code",
   "execution_count": 40,
   "id": "5565f010",
   "metadata": {},
   "outputs": [
    {
     "name": "stdout",
     "output_type": "stream",
     "text": [
      "1\n",
      "2\n",
      "3\n",
      "4\n",
      "5\n"
     ]
    }
   ],
   "source": [
    "#Iterating over the elements of a 1-D array using a for loop:\n",
    "\n",
    "arr = np.array([1, 2, 3, 4, 5])\n",
    "for i in arr:\n",
    "    print(i)"
   ]
  },
  {
   "cell_type": "code",
   "execution_count": 41,
   "id": "b8098b46",
   "metadata": {},
   "outputs": [
    {
     "name": "stdout",
     "output_type": "stream",
     "text": [
      "1\n",
      "2\n",
      "3\n",
      "4\n",
      "5\n"
     ]
    }
   ],
   "source": [
    "# Iterate over the elements of the array using nditer()\n",
    "for i in np.nditer(arr):\n",
    "    print(i)"
   ]
  },
  {
   "cell_type": "code",
   "execution_count": 42,
   "id": "7686d383",
   "metadata": {},
   "outputs": [
    {
     "name": "stdout",
     "output_type": "stream",
     "text": [
      "[1 2 3]\n",
      "[4 5 6]\n",
      "[7 8 9]\n"
     ]
    }
   ],
   "source": [
    "arr = np.array([[1, 2, 3], [4, 5, 6], [7, 8, 9]])\n",
    "               \n",
    "# Iterate over the elements of the array using nested loops\n",
    "for x in arr:\n",
    "  print(x)"
   ]
  },
  {
   "cell_type": "code",
   "execution_count": 43,
   "id": "c75ada04",
   "metadata": {},
   "outputs": [
    {
     "name": "stdout",
     "output_type": "stream",
     "text": [
      "1\n",
      "2\n",
      "3\n",
      "4\n",
      "5\n",
      "6\n",
      "7\n",
      "8\n",
      "9\n"
     ]
    }
   ],
   "source": [
    "#Iterate on each scalar element of the 2-D array:\n",
    "\n",
    "for x in arr:\n",
    "  for y in x:\n",
    "    print(y)"
   ]
  },
  {
   "cell_type": "code",
   "execution_count": 44,
   "id": "fe5f8713",
   "metadata": {},
   "outputs": [
    {
     "name": "stdout",
     "output_type": "stream",
     "text": [
      "1\n",
      "2\n",
      "3\n",
      "4\n",
      "5\n",
      "6\n",
      "7\n",
      "8\n",
      "9\n"
     ]
    }
   ],
   "source": [
    "# Iterate over the elements of the array using nditer()\n",
    "arr = np.array([[1, 2, 3], [4, 5, 6], [7, 8, 9]])\n",
    "for element in np.nditer(arr):\n",
    "               print(element)\n",
    "               \n",
    "    "
   ]
  },
  {
   "cell_type": "markdown",
   "id": "a63b7ed1",
   "metadata": {},
   "source": [
    "Iterating 3-D Arrays"
   ]
  },
  {
   "cell_type": "code",
   "execution_count": 45,
   "id": "4f55e8f0",
   "metadata": {},
   "outputs": [
    {
     "name": "stdout",
     "output_type": "stream",
     "text": [
      "[[1 2 3]\n",
      " [4 5 6]]\n",
      "[[ 7  8  9]\n",
      " [10 11 12]]\n"
     ]
    }
   ],
   "source": [
    "arr = np.array([[[1, 2, 3], [4, 5, 6]], [[7, 8, 9], [10, 11, 12]]])\n",
    "\n",
    "for x in arr:\n",
    "  print(x)"
   ]
  },
  {
   "cell_type": "code",
   "execution_count": 46,
   "id": "e8917d45",
   "metadata": {},
   "outputs": [
    {
     "name": "stdout",
     "output_type": "stream",
     "text": [
      "1\n",
      "2\n",
      "3\n",
      "4\n",
      "5\n",
      "6\n",
      "7\n",
      "8\n",
      "9\n",
      "10\n",
      "11\n",
      "12\n"
     ]
    }
   ],
   "source": [
    "arr = np.array([[[1, 2, 3], [4, 5, 6]], [[7, 8, 9], [10, 11, 12]]])\n",
    "\n",
    "for x in arr:\n",
    "  for y in x:\n",
    "    for z in y:\n",
    "      print(z)"
   ]
  },
  {
   "cell_type": "code",
   "execution_count": 47,
   "id": "8c98b3bd",
   "metadata": {},
   "outputs": [
    {
     "name": "stdout",
     "output_type": "stream",
     "text": [
      "1\n",
      "3\n",
      "5\n",
      "7\n"
     ]
    }
   ],
   "source": [
    "#Iterating With Different Step Size\n",
    "arr = np.array([[1, 2, 3, 4], [5, 6, 7, 8]])\n",
    "for x in np.nditer(arr[:, ::2]):\n",
    "  print(x)"
   ]
  },
  {
   "cell_type": "markdown",
   "id": "74587866",
   "metadata": {},
   "source": [
    "Joins\n",
    "\n",
    "NumPy Array Joins refer to the process of combining two or more arrays to form a new array. There are several ways to join arrays in NumPy, including concatenate(), stack(), hstack(), and vstack()."
   ]
  },
  {
   "cell_type": "code",
   "execution_count": 48,
   "id": "f03a6477",
   "metadata": {},
   "outputs": [
    {
     "name": "stdout",
     "output_type": "stream",
     "text": [
      "[1 2 3 4 5 6]\n"
     ]
    }
   ],
   "source": [
    "#concatenate(): This function is used to concatenate two or more arrays along a specified axis.\n",
    "\n",
    "a = np.array([1, 2, 3])\n",
    "b = np.array([4, 5, 6])\n",
    "c = np.concatenate((a, b))\n",
    "\n",
    "print(c)"
   ]
  },
  {
   "cell_type": "code",
   "execution_count": 49,
   "id": "a5d2a52e",
   "metadata": {},
   "outputs": [
    {
     "name": "stdout",
     "output_type": "stream",
     "text": [
      "[[1 2 5 6]\n",
      " [3 4 7 8]]\n"
     ]
    }
   ],
   "source": [
    "#Join two 2-D arrays along rows (axis=1):\n",
    "\n",
    "arr1 = np.array([[1, 2], [3, 4]])\n",
    "\n",
    "arr2 = np.array([[5, 6], [7, 8]])\n",
    "\n",
    "arr = np.concatenate((arr1, arr2), axis=1)\n",
    "\n",
    "print(arr)"
   ]
  },
  {
   "cell_type": "code",
   "execution_count": 50,
   "id": "0495ef97",
   "metadata": {},
   "outputs": [
    {
     "name": "stdout",
     "output_type": "stream",
     "text": [
      "[[1 2 3]\n",
      " [4 5 6]]\n"
     ]
    }
   ],
   "source": [
    "#stack(): This function is used to stack arrays along a new axis\n",
    "\n",
    "a = np.array([1, 2, 3])\n",
    "b = np.array([4, 5, 6])\n",
    "c = np.stack((a, b))\n",
    "\n",
    "print(c)"
   ]
  },
  {
   "cell_type": "code",
   "execution_count": 51,
   "id": "78ffe6a7",
   "metadata": {},
   "outputs": [
    {
     "name": "stdout",
     "output_type": "stream",
     "text": [
      "[1 2 3 4 5 6]\n"
     ]
    }
   ],
   "source": [
    "#hstack(): This function is used to horizontally stack two or more arrays.\n",
    "\n",
    "a = np.array([1, 2, 3])\n",
    "b = np.array([4, 5, 6])\n",
    "c = np.hstack((a, b))\n",
    "\n",
    "print(c)"
   ]
  },
  {
   "cell_type": "code",
   "execution_count": 52,
   "id": "ef4dd1b1",
   "metadata": {},
   "outputs": [
    {
     "name": "stdout",
     "output_type": "stream",
     "text": [
      "[[1 2 3]\n",
      " [4 5 6]]\n"
     ]
    }
   ],
   "source": [
    "#vstack(): This function is used to vertically stack two or more arrays.\n",
    "\n",
    "a = np.array([1, 2, 3])\n",
    "b = np.array([4, 5, 6])\n",
    "c = np.vstack((a, b))\n",
    "\n",
    "print(c)"
   ]
  },
  {
   "cell_type": "code",
   "execution_count": 53,
   "id": "d270ffaa",
   "metadata": {},
   "outputs": [
    {
     "name": "stdout",
     "output_type": "stream",
     "text": [
      "[[[1 4]\n",
      "  [2 5]\n",
      "  [3 6]]]\n"
     ]
    }
   ],
   "source": [
    "#Stacking Along Height (depth)\n",
    "\n",
    "arr1 = np.array([1, 2, 3])\n",
    "\n",
    "arr2 = np.array([4, 5, 6])\n",
    "\n",
    "arr = np.dstack((arr1, arr2))\n",
    "\n",
    "print(arr)"
   ]
  },
  {
   "cell_type": "markdown",
   "id": "6e27738f",
   "metadata": {},
   "source": [
    "#Split"
   ]
  },
  {
   "cell_type": "markdown",
   "id": "a29f85ee",
   "metadata": {},
   "source": [
    "In NumPy, array splitting refers to the process of breaking a single array into multiple smaller arrays. We can split NumPy arrays using the split(), hsplit(), and vsplit() functions"
   ]
  },
  {
   "cell_type": "code",
   "execution_count": 54,
   "id": "ea3fb3f4",
   "metadata": {},
   "outputs": [
    {
     "name": "stdout",
     "output_type": "stream",
     "text": [
      "[[1 2 3]\n",
      " [4 5 6]]\n",
      "[[ 7  8  9]\n",
      " [10 11 12]]\n"
     ]
    }
   ],
   "source": [
    "# Create a 2D array\n",
    "a = np.array([[1, 2, 3], [4, 5, 6], [7, 8, 9], [10, 11, 12]])\n",
    "\n",
    "# Split the array into two equal-sized arrays along the first axis\n",
    "b, c = np.split(a, 2)\n",
    "\n",
    "print(b)\n",
    "print(c)"
   ]
  },
  {
   "cell_type": "code",
   "execution_count": 55,
   "id": "f6004fe8",
   "metadata": {},
   "outputs": [
    {
     "name": "stdout",
     "output_type": "stream",
     "text": [
      "[array([1, 2]), array([3, 4]), array([5]), array([6])]\n"
     ]
    }
   ],
   "source": [
    "#If the array has less elements than required, it will adjust from the end accordingly.\n",
    "arr = np.array([1, 2, 3, 4, 5, 6])\n",
    "\n",
    "newarr = np.array_split(arr, 4)\n",
    "\n",
    "print(newarr)"
   ]
  },
  {
   "cell_type": "code",
   "execution_count": 56,
   "id": "8a7dfc53",
   "metadata": {},
   "outputs": [
    {
     "name": "stdout",
     "output_type": "stream",
     "text": [
      "[[ 1]\n",
      " [ 4]\n",
      " [ 7]\n",
      " [10]\n",
      " [13]\n",
      " [16]]\n",
      "[[ 2]\n",
      " [ 5]\n",
      " [ 8]\n",
      " [11]\n",
      " [14]\n",
      " [17]]\n",
      "[[ 3]\n",
      " [ 6]\n",
      " [ 9]\n",
      " [12]\n",
      " [15]\n",
      " [18]]\n"
     ]
    }
   ],
   "source": [
    "#Split the 2-D array into three 2-D arrays along rows.\n",
    "\n",
    "a = np.array([[1, 2, 3], [4, 5, 6], [7, 8, 9], [10, 11, 12], [13, 14, 15], [16, 17, 18]])\n",
    "\n",
    "newarr = np.array_split(a, 3, axis=1)\n",
    "print(newarr[0])\n",
    "print(newarr[1])\n",
    "print(newarr[2])"
   ]
  },
  {
   "cell_type": "markdown",
   "id": "2d60034f",
   "metadata": {},
   "source": [
    "# Numpy Search"
   ]
  },
  {
   "cell_type": "markdown",
   "id": "7e8c9454",
   "metadata": {},
   "source": [
    "In NumPy, searching an array means finding the indices of elements that satisfy a given condition. The functions where(), argwhere(), and nonzero() can be used to search for elements"
   ]
  },
  {
   "cell_type": "code",
   "execution_count": 57,
   "id": "694a907c",
   "metadata": {},
   "outputs": [
    {
     "name": "stdout",
     "output_type": "stream",
     "text": [
      "(array([5, 6, 7, 8], dtype=int64),)\n"
     ]
    }
   ],
   "source": [
    "# Create a 1D array\n",
    "a = np.array([1, 2, 3, 4, 5, 6, 7, 8, 9])\n",
    "\n",
    "# Find the indices of elements that are greater than 5\n",
    "indices = np.where(a > 5)\n",
    "\n",
    "print(indices)"
   ]
  },
  {
   "cell_type": "code",
   "execution_count": 58,
   "id": "c7e6ad35",
   "metadata": {},
   "outputs": [
    {
     "name": "stdout",
     "output_type": "stream",
     "text": [
      "[[1 2]\n",
      " [2 0]\n",
      " [2 1]\n",
      " [2 2]]\n"
     ]
    }
   ],
   "source": [
    "# Create a 2D array\n",
    "a = np.array([[1, 2, 3], [4, 5, 6], [7, 8, 9]])\n",
    "\n",
    "# Find the indices of elements that are greater than 5\n",
    "indices = np.argwhere(a > 5)\n",
    "\n",
    "print(indices)"
   ]
  },
  {
   "cell_type": "markdown",
   "id": "2a6e5942",
   "metadata": {},
   "source": [
    "# Sorting"
   ]
  },
  {
   "cell_type": "markdown",
   "id": "3dde3f85",
   "metadata": {},
   "source": [
    "NumPy sorting refers to the process of arranging the elements of an array in a particular order. NumPy provides several functions for sorting arrays, such as sort()"
   ]
  },
  {
   "cell_type": "code",
   "execution_count": 59,
   "id": "b65ee2b6",
   "metadata": {},
   "outputs": [
    {
     "name": "stdout",
     "output_type": "stream",
     "text": [
      "[0 1 2 3]\n"
     ]
    }
   ],
   "source": [
    "arr = np.array([3, 2, 0, 1])\n",
    "\n",
    "print(np.sort(arr))"
   ]
  },
  {
   "cell_type": "code",
   "execution_count": 60,
   "id": "7858d8d8",
   "metadata": {},
   "outputs": [
    {
     "name": "stdout",
     "output_type": "stream",
     "text": [
      "['apple' 'banana' 'cherry']\n"
     ]
    }
   ],
   "source": [
    "#Sort the array alphabetically:\n",
    "\n",
    "arr = np.array(['banana', 'cherry', 'apple'])\n",
    "print(np.sort(arr))"
   ]
  },
  {
   "cell_type": "code",
   "execution_count": 61,
   "id": "42a6f709",
   "metadata": {},
   "outputs": [
    {
     "name": "stdout",
     "output_type": "stream",
     "text": [
      "[False  True  True]\n"
     ]
    }
   ],
   "source": [
    "#Sort a boolean array:\n",
    "\n",
    "arr = np.array([True, False, True])\n",
    "\n",
    "print(np.sort(arr))"
   ]
  },
  {
   "cell_type": "code",
   "execution_count": 62,
   "id": "1bb353a5",
   "metadata": {},
   "outputs": [
    {
     "name": "stdout",
     "output_type": "stream",
     "text": [
      "[[2 3 4]\n",
      " [0 1 5]]\n"
     ]
    }
   ],
   "source": [
    "#Sort a 2-D array:\n",
    "\n",
    "arr = np.array([[3, 2, 4], [5, 0, 1]])\n",
    "\n",
    "print(np.sort(arr))"
   ]
  }
 ],
 "metadata": {
  "kernelspec": {
   "display_name": "Python 3 (ipykernel)",
   "language": "python",
   "name": "python3"
  },
  "language_info": {
   "codemirror_mode": {
    "name": "ipython",
    "version": 3
   },
   "file_extension": ".py",
   "mimetype": "text/x-python",
   "name": "python",
   "nbconvert_exporter": "python",
   "pygments_lexer": "ipython3",
   "version": "3.8.13"
  }
 },
 "nbformat": 4,
 "nbformat_minor": 5
}
