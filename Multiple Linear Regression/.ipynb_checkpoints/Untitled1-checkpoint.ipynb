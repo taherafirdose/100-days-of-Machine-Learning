{
 "cells": [
  {
   "cell_type": "code",
   "execution_count": 8,
   "id": "3db0a7e4",
   "metadata": {},
   "outputs": [],
   "source": [
    "import numpy as np\n",
    "import pandas as pd\n",
    "import matplotlib.pyplot as plt\n",
    "import seaborn as sns\n",
    "from sklearn.model_selection import train_test_split\n",
    "from matplotlib.animation import FuncAnimation"
   ]
  },
  {
   "cell_type": "code",
   "execution_count": 2,
   "id": "b3adeb7a",
   "metadata": {},
   "outputs": [],
   "source": [
    "import matplotlib.animation as animation\n",
    "from mpl_toolkits.mplot3d import Axes3D\n",
    "import celluloid\n",
    "from celluloid import Camera\n",
    "from matplotlib import cm\n",
    "from matplotlib import gridspec\n",
    "from sklearn.linear_model import LinearRegression"
   ]
  },
  {
   "cell_type": "code",
   "execution_count": 3,
   "id": "293dfdd4",
   "metadata": {},
   "outputs": [],
   "source": [
    "df = pd.read_csv('data.csv')"
   ]
  },
  {
   "cell_type": "code",
   "execution_count": 4,
   "id": "fcd7a0ce",
   "metadata": {},
   "outputs": [],
   "source": [
    "X=df.iloc[:,2:4]\n",
    "y=df.iloc[:,-1]"
   ]
  },
  {
   "cell_type": "code",
   "execution_count": 11,
   "id": "ff3acdcd",
   "metadata": {},
   "outputs": [
    {
     "data": {
      "image/png": "[encoded data removed]",
      "text/plain": [
       "<Figure size 640x480 with 1 Axes>"
      ]
     },
     "metadata": {},
     "output_type": "display_data"
    }
   ],
   "source": [
    "# Create a figure and axis\n",
    "fig, ax = plt.subplots()\n",
    "\n",
    "# Set the limits for x and y axes\n",
    "ax.set_xlim(X['Weight'].min(), X['Weight'].max())\n",
    "ax.set_ylim(y.min(), y.max())\n",
    "\n",
    "# Create an empty line object\n",
    "line, = ax.plot([], [], lw=2)\n"
   ]
  },
  {
   "cell_type": "code",
   "execution_count": 9,
   "id": "0cdcb718",
   "metadata": {},
   "outputs": [],
   "source": [
    "# Define the update function for each frame\n",
    "def update(frame):\n",
    "    # Fit the model on a subset of the data\n",
    "    sample_size = int(frame + 1)\n",
    "    model = LinearRegression()\n",
    "    model.fit(X[:sample_size], y[:sample_size])\n",
    "\n",
    "    # Generate a grid of points for visualization\n",
    "    x1_vals = np.linspace(X['Weight'].min(), X['Weight'].max(), 10)\n",
    "    x2_vals = np.linspace(X['Volume'].min(), X['Volume'].max(), 10)\n",
    "    x1_vals, x2_vals = np.meshgrid(x1_vals, x2_vals)\n",
    "\n",
    "    # Predict the target variable for the grid of points\n",
    "    X_pred = np.column_stack((x1_vals.flatten(), x2_vals.flatten()))\n",
    "    y_pred = model.predict(X_pred)\n",
    "    y_pred = y_pred.reshape(x1_vals.shape)\n",
    "\n",
    "    # Clear the previous plot\n",
    "    ax.clear()\n",
    "\n",
    "    # Plot the actual data points\n",
    "    ax.scatter(X['Weight'], X['Volume'], y, c='b', marker='o')\n",
    "\n",
    "    # Plot the regression plane\n",
    "    ax.plot_surface(x1_vals, x2_vals, y_pred, alpha=0.5)\n",
    "\n",
    "    # Set labels and title\n",
    "    ax.set_xlabel('Weight')\n",
    "    ax.set_ylabel('Volume')\n",
    "    ax.set_zlabel('Price')\n",
    "    ax.set_title('Multilinear Regression')\n",
    "\n",
    "    return fig,\n",
    "\n"
   ]
  },
  {
   "cell_type": "code",
   "execution_count": 10,
   "id": "265002b4",
   "metadata": {},
   "outputs": [],
   "source": [
    "# Create the animation\n",
    "animation = FuncAnimation(fig, update, frames=len(X), init_func=init, blit=True)\n",
    "\n",
    "# Display the animation\n",
    "plt.show()"
   ]
  },
  {
   "cell_type": "code",
   "execution_count": null,
   "id": "e4300b45",
   "metadata": {},
   "outputs": [],
   "source": []
  }
 ],
 "metadata": {
  "kernelspec": {
   "display_name": "Python 3 (ipykernel)",
   "language": "python",
   "name": "python3"
  },
  "language_info": {
   "codemirror_mode": {
    "name": "ipython",
    "version": 3
   },
   "file_extension": ".py",
   "mimetype": "text/x-python",
   "name": "python",
   "nbconvert_exporter": "python",
   "pygments_lexer": "ipython3",
   "version": "3.8.13"
  }
 },
 "nbformat": 4,
 "nbformat_minor": 5
}
