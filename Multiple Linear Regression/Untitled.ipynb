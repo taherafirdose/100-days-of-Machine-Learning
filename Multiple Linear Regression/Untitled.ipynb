{
 "cells": [
  {
   "cell_type": "code",
   "execution_count": 15,
   "id": "afce2b1a",
   "metadata": {},
   "outputs": [],
   "source": [
    "import pandas as pd\n",
    "import numpy as np"
   ]
  },
  {
   "cell_type": "code",
   "execution_count": 3,
   "id": "c76a084e",
   "metadata": {},
   "outputs": [
    {
     "name": "stdout",
     "output_type": "stream",
     "text": [
      "0    25\n",
      "1    28\n",
      "2    30\n",
      "3    26\n",
      "4    29\n",
      "5    31\n",
      "6    27\n",
      "dtype: int64\n"
     ]
    }
   ],
   "source": [
    "temperatures = [25, 28, 30, 26, 29, 31, 27]\n",
    "series = pd.Series(temperatures)\n",
    "print(series)"
   ]
  },
  {
   "cell_type": "code",
   "execution_count": 4,
   "id": "28ccb0d6",
   "metadata": {},
   "outputs": [
    {
     "name": "stdout",
     "output_type": "stream",
     "text": [
      "0    10\n",
      "1    10\n",
      "2    10\n",
      "3    10\n",
      "4    10\n",
      "dtype: int64\n"
     ]
    }
   ],
   "source": [
    "import pandas as pd\n",
    "\n",
    "value = 10\n",
    "series = pd.Series(value, index=[0, 1, 2, 3, 4])\n",
    "print(series)"
   ]
  },
  {
   "cell_type": "code",
   "execution_count": 5,
   "id": "6bcc6f49",
   "metadata": {},
   "outputs": [
    {
     "name": "stdout",
     "output_type": "stream",
     "text": [
      "0    25\n",
      "1    28\n",
      "2    30\n",
      "3    26\n",
      "4    29\n",
      "5    31\n",
      "6    27\n",
      "dtype: int64\n"
     ]
    }
   ],
   "source": [
    "import pandas as pd\n",
    "\n",
    "temperatures = [25, 28, 30, 26, 29, 31, 27]\n",
    "series = pd.Series(temperatures)\n",
    "print(series)"
   ]
  },
  {
   "cell_type": "code",
   "execution_count": 6,
   "id": "e27add08",
   "metadata": {},
   "outputs": [
    {
     "name": "stdout",
     "output_type": "stream",
     "text": [
      "John     25\n",
      "Jane     30\n",
      "Mike     35\n",
      "Emily    28\n",
      "Alex     32\n",
      "dtype: int64\n"
     ]
    }
   ],
   "source": [
    "import pandas as pd\n",
    "\n",
    "ages = [25, 30, 35, 28, 32]\n",
    "index_labels = ['John', 'Jane', 'Mike', 'Emily', 'Alex']\n",
    "series = pd.Series(ages, index=index_labels)\n",
    "print(series)"
   ]
  },
  {
   "cell_type": "code",
   "execution_count": 7,
   "id": "9b4c1353",
   "metadata": {},
   "outputs": [
    {
     "name": "stdout",
     "output_type": "stream",
     "text": [
      "   Name  Age      City\n",
      "0  John   25  New York\n",
      "1  Jane   30     Paris\n",
      "2  Mike   35    London\n"
     ]
    }
   ],
   "source": [
    "import pandas as pd\n",
    "\n",
    "data = {'Name': ['John', 'Jane', 'Mike'],\n",
    "        'Age': [25, 30, 35],\n",
    "        'City': ['New York', 'Paris', 'London']}\n",
    "df = pd.DataFrame(data)\n",
    "print(df)"
   ]
  },
  {
   "cell_type": "code",
   "execution_count": 8,
   "id": "f1678a97",
   "metadata": {},
   "outputs": [
    {
     "name": "stdout",
     "output_type": "stream",
     "text": [
      "   Name  Age      City\n",
      "A  John   25  New York\n",
      "B  Jane   30     Paris\n",
      "C  Mike   35    London\n"
     ]
    }
   ],
   "source": [
    "import pandas as pd\n",
    "\n",
    "data = {'Name': ['John', 'Jane', 'Mike'],\n",
    "        'Age': [25, 30, 35],\n",
    "        'City': ['New York', 'Paris', 'London']}\n",
    "df = pd.DataFrame(data, index=['A', 'B', 'C'])\n",
    "print(df)"
   ]
  },
  {
   "cell_type": "code",
   "execution_count": 9,
   "id": "0400a1a6",
   "metadata": {},
   "outputs": [
    {
     "name": "stdout",
     "output_type": "stream",
     "text": [
      "object\n"
     ]
    }
   ],
   "source": [
    "# Create a Series of strings\n",
    "s = pd.Series([\"apple\", \"banana\", \"cherry\"])\n",
    "\n",
    "# Check the datatype of the Series\n",
    "print(s.dtype)"
   ]
  },
  {
   "cell_type": "code",
   "execution_count": 10,
   "id": "599bbddf",
   "metadata": {},
   "outputs": [
    {
     "name": "stdout",
     "output_type": "stream",
     "text": [
      "name      object\n",
      "gender    object\n",
      "hobby     object\n",
      "dtype: object\n"
     ]
    }
   ],
   "source": [
    "# Create a DataFrame with object columns\n",
    "df = pd.DataFrame({\"name\": [\"Alice\", \"Bob\", \"Charlie\"],\n",
    "                   \"gender\": [\"F\", \"M\", \"M\"],\n",
    "                   \"hobby\": [\"reading\", \"gaming\", \"cooking\"]})\n",
    "\n",
    "# Check the datatypes of all the columns\n",
    "print(df.dtypes)"
   ]
  },
  {
   "cell_type": "code",
   "execution_count": 11,
   "id": "50a26ce4",
   "metadata": {},
   "outputs": [
    {
     "name": "stdout",
     "output_type": "stream",
     "text": [
      "int64\n"
     ]
    }
   ],
   "source": [
    "# Create a Series of integers\n",
    "s = pd.Series([1, 2, 3, 4])\n",
    "\n",
    "# Check the datatype of the Series\n",
    "print(s.dtype)"
   ]
  },
  {
   "cell_type": "code",
   "execution_count": 12,
   "id": "53440fd0",
   "metadata": {},
   "outputs": [
    {
     "name": "stdout",
     "output_type": "stream",
     "text": [
      "id       int64\n",
      "age      int64\n",
      "score    int64\n",
      "dtype: object\n"
     ]
    }
   ],
   "source": [
    "# Create a DataFrame with int64 columns\n",
    "df = pd.DataFrame({\"id\": [1, 2, 3],\n",
    "                   \"age\": [25, 30, 35],\n",
    "                   \"score\": [80, 90, 100]})\n",
    "\n",
    "# Check the datatypes of all the columns\n",
    "print(df.dtypes)"
   ]
  },
  {
   "cell_type": "code",
   "execution_count": 13,
   "id": "ccdb3224",
   "metadata": {},
   "outputs": [
    {
     "name": "stdout",
     "output_type": "stream",
     "text": [
      "float64\n"
     ]
    }
   ],
   "source": [
    "# Create a Series of floats\n",
    "\n",
    "s = pd.Series([1.0, 2.5, 3.2])\n",
    "\n",
    "# Check the datatype of the Series\n",
    "\n",
    "print(s.dtype)"
   ]
  },
  {
   "cell_type": "code",
   "execution_count": 16,
   "id": "bcbf345d",
   "metadata": {},
   "outputs": [
    {
     "name": "stdout",
     "output_type": "stream",
     "text": [
      "price          float64\n",
      "discount       float64\n",
      "final_price    float64\n",
      "dtype: object\n"
     ]
    }
   ],
   "source": [
    "df = pd.DataFrame({\"price\": [10.0, np.nan, 15.0],\n",
    "\n",
    "                   \"discount\": [0.1, np.nan, np.nan],\n",
    "\n",
    "                   \"final_price\": [9.0,np.nan, np.nan]})\n",
    "\n",
    "\n",
    "# Check the datatypes of all the columns\n",
    "\n",
    "print(df.dtypes)"
   ]
  },
  {
   "cell_type": "code",
   "execution_count": 17,
   "id": "5e181c65",
   "metadata": {},
   "outputs": [
    {
     "name": "stdout",
     "output_type": "stream",
     "text": [
      "bool\n"
     ]
    }
   ],
   "source": [
    "# Create a Series of booleans\n",
    "s = pd.Series([True, False, True])\n",
    "\n",
    "# Check the datatype of the Series\n",
    "print(s.dtype)"
   ]
  },
  {
   "cell_type": "code",
   "execution_count": 18,
   "id": "f6165e2d",
   "metadata": {},
   "outputs": [
    {
     "name": "stdout",
     "output_type": "stream",
     "text": [
      "is_even        bool\n",
      "is_positive    bool\n",
      "is_prime       bool\n",
      "dtype: object\n"
     ]
    }
   ],
   "source": [
    "# Create a DataFrame with bool columns\n",
    "df = pd.DataFrame({\"is_even\": [True, False, True],\n",
    "                   \"is_positive\": [True, True, False],\n",
    "                   \"is_prime\": [False, True, False]})\n",
    "\n",
    "# Check the datatypes of all the columns\n",
    "print(df.dtypes)"
   ]
  }
 ],
 "metadata": {
  "kernelspec": {
   "display_name": "Python 3 (ipykernel)",
   "language": "python",
   "name": "python3"
  },
  "language_info": {
   "codemirror_mode": {
    "name": "ipython",
    "version": 3
   },
   "file_extension": ".py",
   "mimetype": "text/x-python",
   "name": "python",
   "nbconvert_exporter": "python",
   "pygments_lexer": "ipython3",
   "version": "3.8.13"
  }
 },
 "nbformat": 4,
 "nbformat_minor": 5
}
