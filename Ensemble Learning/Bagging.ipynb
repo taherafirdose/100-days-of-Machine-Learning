{
 "cells": [
  {
   "cell_type": "code",
   "execution_count": 1,
   "id": "d3c2c823",
   "metadata": {},
   "outputs": [],
   "source": [
    "from sklearn.datasets import load_breast_cancer\n",
    "from sklearn.model_selection import train_test_split\n",
    "from sklearn.ensemble import BaggingClassifier\n",
    "from sklearn.tree import DecisionTreeClassifier\n",
    "from sklearn.metrics import accuracy_score\n",
    "from sklearn.svm import SVC"
   ]
  },
  {
   "cell_type": "code",
   "execution_count": 2,
   "id": "a638fa6c",
   "metadata": {},
   "outputs": [],
   "source": [
    "data = load_breast_cancer()\n",
    "X, y = data.data, data.target"
   ]
  },
  {
   "cell_type": "code",
   "execution_count": 3,
   "id": "6f57867a",
   "metadata": {},
   "outputs": [],
   "source": [
    "# Split the dataset into training and testing sets\n",
    "X_train, X_test, y_train, y_test = train_test_split(X, y, test_size=0.2, random_state=91)"
   ]
  },
  {
   "cell_type": "code",
   "execution_count": 4,
   "id": "def6f52f",
   "metadata": {},
   "outputs": [],
   "source": [
    "# Create a base model (e.g., Decision Tree)\n",
    "base_model = DecisionTreeClassifier(random_state=91)\n"
   ]
  },
  {
   "cell_type": "code",
   "execution_count": 5,
   "id": "8867fa9f",
   "metadata": {},
   "outputs": [],
   "source": [
    "# Create a Bagging classifier with 100 base models\n",
    "bagging_classifier = BaggingClassifier(base_model, n_estimators=100, random_state=91)\n"
   ]
  },
  {
   "cell_type": "code",
   "execution_count": 6,
   "id": "616c64c9",
   "metadata": {},
   "outputs": [
    {
     "name": "stdout",
     "output_type": "stream",
     "text": [
      "Accuracy: 0.97\n"
     ]
    }
   ],
   "source": [
    "# Fit the Bagging classifier on the training data\n",
    "bagging_classifier.fit(X_train, y_train)\n",
    "\n",
    "# Make predictions on the test data\n",
    "predictions = bagging_classifier.predict(X_test)\n",
    "\n",
    "# Evaluate the accuracy of the Bagging classifier\n",
    "accuracy = accuracy_score(y_test, predictions)\n",
    "print(f\"Accuracy: {accuracy:.2f}\")"
   ]
  },
  {
   "cell_type": "code",
   "execution_count": 8,
   "id": "2261221c",
   "metadata": {},
   "outputs": [],
   "source": [
    "from sklearn.svm import SVC\n",
    "\n",
    "# Create an SVM base model\n",
    "base_model_svm = SVC(kernel='linear', random_state=91)"
   ]
  },
  {
   "cell_type": "code",
   "execution_count": 9,
   "id": "20460ea9",
   "metadata": {},
   "outputs": [],
   "source": [
    "# Create a Bagging classifier with 100 base SVM models\n",
    "bagging_classifier_svm = BaggingClassifier(base_model_svm, n_estimators=100, random_state=91)"
   ]
  },
  {
   "cell_type": "code",
   "execution_count": 10,
   "id": "8149120e",
   "metadata": {},
   "outputs": [
    {
     "name": "stdout",
     "output_type": "stream",
     "text": [
      "SVM-based Bagging Accuracy: 0.97\n"
     ]
    }
   ],
   "source": [
    "bagging_classifier_svm.fit(X_train, y_train)\n",
    "\n",
    "# Make predictions on the test data\n",
    "predictions_svm = bagging_classifier_svm.predict(X_test)\n",
    "\n",
    "# Evaluate the accuracy of the Bagging classifier with SVMs\n",
    "accuracy_svm = accuracy_score(y_test, predictions_svm)\n",
    "print(f\"SVM-based Bagging Accuracy: {accuracy_svm:.2f}\")"
   ]
  }
 ],
 "metadata": {
  "kernelspec": {
   "display_name": "Python 3 (ipykernel)",
   "language": "python",
   "name": "python3"
  },
  "language_info": {
   "codemirror_mode": {
    "name": "ipython",
    "version": 3
   },
   "file_extension": ".py",
   "mimetype": "text/x-python",
   "name": "python",
   "nbconvert_exporter": "python",
   "pygments_lexer": "ipython3",
   "version": "3.8.13"
  }
 },
 "nbformat": 4,
 "nbformat_minor": 5
}
