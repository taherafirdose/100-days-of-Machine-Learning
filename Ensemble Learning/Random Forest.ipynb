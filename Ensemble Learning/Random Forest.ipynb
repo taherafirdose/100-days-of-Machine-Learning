{
 "cells": [
  {
   "cell_type": "code",
   "execution_count": 21,
   "id": "910ba209",
   "metadata": {},
   "outputs": [],
   "source": [
    "import pandas as pd\n",
    "from sklearn.model_selection import train_test_split\n",
    "from sklearn.ensemble import RandomForestClassifier\n",
    "from sklearn.metrics import accuracy_score\n",
    "from sklearn.tree import plot_tree\n",
    "import matplotlib.pyplot as plt"
   ]
  },
  {
   "cell_type": "code",
   "execution_count": 2,
   "id": "9665442e",
   "metadata": {},
   "outputs": [],
   "source": [
    "# Load the Titanic dataset\n",
    "url = \"https://raw.githubusercontent.com/datasciencedojo/datasets/master/titanic.csv\"\n",
    "data = pd.read_csv(url)\n",
    "\n",
    "# Preprocessing: Drop irrelevant columns and handle missing values\n",
    "data = data.drop(['PassengerId', 'Name', 'Ticket', 'Cabin'], axis=1)\n",
    "data = pd.get_dummies(data, columns=['Sex', 'Embarked'], drop_first=True)\n",
    "data = data.fillna(data.median())\n",
    "\n",
    "# Splitting into features and target variable\n",
    "X = data.drop('Survived', axis=1)\n",
    "y = data['Survived']"
   ]
  },
  {
   "cell_type": "code",
   "execution_count": 5,
   "id": "538fc43b",
   "metadata": {},
   "outputs": [
    {
     "name": "stdout",
     "output_type": "stream",
     "text": [
      "The shape of X (891, 8)\n"
     ]
    }
   ],
   "source": [
    "print('The shape of X', X.shape)\n"
   ]
  },
  {
   "cell_type": "code",
   "execution_count": 7,
   "id": "b126d82d",
   "metadata": {},
   "outputs": [],
   "source": [
    "# Splitting the data into training and testing sets\n",
    "X_train, X_test, y_train, y_test = train_test_split(X, y, test_size=0.2, random_state=91)\n"
   ]
  },
  {
   "cell_type": "code",
   "execution_count": 31,
   "id": "70708c70",
   "metadata": {},
   "outputs": [],
   "source": [
    "# Initialize the Random Forest model with default hyperparameters\n",
    "default_rf = RandomForestClassifier(random_state=91)\n",
    "\n",
    "# Train the model\n",
    "default_rf.fit(X_train, y_train)\n",
    "\n",
    "# Make predictions\n",
    "y_pred_default = default_rf.predict(X_test)\n",
    "\n"
   ]
  },
  {
   "cell_type": "code",
   "execution_count": 32,
   "id": "68400d57",
   "metadata": {},
   "outputs": [
    {
     "name": "stdout",
     "output_type": "stream",
     "text": [
      "Default Accuracy: 0.82\n"
     ]
    }
   ],
   "source": [
    "# Evaluate the model with default hyperparameters\n",
    "accuracy_default = accuracy_score(y_test, y_pred_default)\n",
    "print(f'Default Accuracy: {accuracy_default:.2f}')"
   ]
  },
  {
   "cell_type": "code",
   "execution_count": 34,
   "id": "a1589f3c",
   "metadata": {},
   "outputs": [],
   "source": [
    "# Initialize the Random Forest model with tuned hyperparameters\n",
    "tuned_rf = RandomForestClassifier(\n",
    "    n_estimators=100,\n",
    "    max_depth=10,\n",
    "    min_samples_split=2,\n",
    "    max_features='sqrt',\n",
    "    random_state=91\n",
    ")\n"
   ]
  },
  {
   "cell_type": "code",
   "execution_count": 35,
   "id": "239d61e7",
   "metadata": {},
   "outputs": [
    {
     "name": "stdout",
     "output_type": "stream",
     "text": [
      "Tuned Accuracy: 0.84\n"
     ]
    }
   ],
   "source": [
    "# Train the model\n",
    "tuned_rf.fit(X_train, y_train)\n",
    "\n",
    "# Make predictions\n",
    "y_pred_tuned = tuned_rf.predict(X_test)\n",
    "\n",
    "# Evaluate the model with tuned hyperparameters\n",
    "accuracy_tuned = accuracy_score(y_test, y_pred_tuned)\n",
    "print(f'Tuned Accuracy: {accuracy_tuned:.2f}')"
   ]
  }
 ],
 "metadata": {
  "kernelspec": {
   "display_name": "Python 3 (ipykernel)",
   "language": "python",
   "name": "python3"
  },
  "language_info": {
   "codemirror_mode": {
    "name": "ipython",
    "version": 3
   },
   "file_extension": ".py",
   "mimetype": "text/x-python",
   "name": "python",
   "nbconvert_exporter": "python",
   "pygments_lexer": "ipython3",
   "version": "3.8.13"
  }
 },
 "nbformat": 4,
 "nbformat_minor": 5
}
