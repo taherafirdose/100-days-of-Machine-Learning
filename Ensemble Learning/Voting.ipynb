{
 "cells": [
  {
   "cell_type": "code",
   "execution_count": 9,
   "id": "67c81d65",
   "metadata": {},
   "outputs": [],
   "source": [
    "# Importing necessary libraries\n",
    "from sklearn.datasets import load_breast_cancer\n",
    "from sklearn.model_selection import train_test_split\n",
    "from sklearn.ensemble import VotingClassifier\n",
    "from sklearn.tree import DecisionTreeClassifier\n",
    "from sklearn.neighbors import KNeighborsClassifier\n",
    "from sklearn.svm import SVC\n",
    "from sklearn.metrics import accuracy_score\n"
   ]
  },
  {
   "cell_type": "code",
   "execution_count": 10,
   "id": "5095da6b",
   "metadata": {},
   "outputs": [],
   "source": [
    "# Loading and preprocessing data\n",
    "cancer = load_breast_cancer()\n",
    "X, y = cancer.data, cancer.target\n",
    "X_train, X_test, y_train, y_test = train_test_split(X, y, test_size=0.2, random_state=42)\n"
   ]
  },
  {
   "cell_type": "code",
   "execution_count": 11,
   "id": "70729c09",
   "metadata": {},
   "outputs": [],
   "source": [
    "# Creating base models\n",
    "decision_tree = DecisionTreeClassifier(random_state=42)\n",
    "knn = KNeighborsClassifier()\n",
    "svc = SVC(probability=True, random_state=42)\n"
   ]
  },
  {
   "cell_type": "code",
   "execution_count": 12,
   "id": "4ddbef5c",
   "metadata": {},
   "outputs": [
    {
     "name": "stderr",
     "output_type": "stream",
     "text": [
      "C:\\Users\\Alina\\anaconda3\\envs\\tesnorflow\\lib\\site-packages\\sklearn\\linear_model\\_logistic.py:444: ConvergenceWarning: lbfgs failed to converge (status=1):\n",
      "STOP: TOTAL NO. of ITERATIONS REACHED LIMIT.\n",
      "\n",
      "Increase the number of iterations (max_iter) or scale the data as shown in:\n",
      "    https://scikit-learn.org/stable/modules/preprocessing.html\n",
      "Please also refer to the documentation for alternative solver options:\n",
      "    https://scikit-learn.org/stable/modules/linear_model.html#logistic-regression\n",
      "  n_iter_i = _check_optimize_result(\n"
     ]
    }
   ],
   "source": [
    "# Building the Voting Classifiers\n",
    "# Hard Voting Classifier\n",
    "hard_voting_clf = VotingClassifier(estimators=[('dt', decision_tree), ('knn', knn), ('lr', logreg)], voting='hard')\n",
    "hard_voting_clf.fit(X_train, y_train)\n",
    "hard_voting_preds = hard_voting_clf.predict(X_test)\n",
    "hard_voting_accuracy = accuracy_score(y_test, hard_voting_preds)"
   ]
  },
  {
   "cell_type": "code",
   "execution_count": 13,
   "id": "28c904d2",
   "metadata": {},
   "outputs": [
    {
     "name": "stderr",
     "output_type": "stream",
     "text": [
      "C:\\Users\\Alina\\anaconda3\\envs\\tesnorflow\\lib\\site-packages\\sklearn\\linear_model\\_logistic.py:444: ConvergenceWarning: lbfgs failed to converge (status=1):\n",
      "STOP: TOTAL NO. of ITERATIONS REACHED LIMIT.\n",
      "\n",
      "Increase the number of iterations (max_iter) or scale the data as shown in:\n",
      "    https://scikit-learn.org/stable/modules/preprocessing.html\n",
      "Please also refer to the documentation for alternative solver options:\n",
      "    https://scikit-learn.org/stable/modules/linear_model.html#logistic-regression\n",
      "  n_iter_i = _check_optimize_result(\n"
     ]
    }
   ],
   "source": [
    "# Soft Voting Classifier\n",
    "soft_voting_clf = VotingClassifier(estimators=[('dt', decision_tree), ('knn', knn), ('lr', logreg)], voting='soft')\n",
    "soft_voting_clf.fit(X_train, y_train)\n",
    "soft_voting_preds = soft_voting_clf.predict(X_test)\n",
    "soft_voting_accuracy = accuracy_score(y_test, soft_voting_preds)\n"
   ]
  },
  {
   "cell_type": "code",
   "execution_count": 14,
   "id": "05cbbd63",
   "metadata": {},
   "outputs": [
    {
     "name": "stdout",
     "output_type": "stream",
     "text": [
      "Hard Voting Accuracy: 0.9649122807017544\n",
      "Soft Voting Accuracy: 0.9736842105263158\n"
     ]
    }
   ],
   "source": [
    "# Evaluating and comparing accuracies\n",
    "print(\"Hard Voting Accuracy:\", hard_voting_accuracy)\n",
    "print(\"Soft Voting Accuracy:\", soft_voting_accuracy)"
   ]
  }
 ],
 "metadata": {
  "kernelspec": {
   "display_name": "Python 3 (ipykernel)",
   "language": "python",
   "name": "python3"
  },
  "language_info": {
   "codemirror_mode": {
    "name": "ipython",
    "version": 3
   },
   "file_extension": ".py",
   "mimetype": "text/x-python",
   "name": "python",
   "nbconvert_exporter": "python",
   "pygments_lexer": "ipython3",
   "version": "3.8.13"
  }
 },
 "nbformat": 4,
 "nbformat_minor": 5
}
