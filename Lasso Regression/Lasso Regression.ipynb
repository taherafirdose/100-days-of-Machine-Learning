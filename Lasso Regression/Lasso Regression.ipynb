{
 "cells": [
  {
   "cell_type": "code",
   "execution_count": 1,
   "id": "1aabe65a",
   "metadata": {},
   "outputs": [],
   "source": [
    "import pandas as pd\n",
    "import numpy as np\n",
    "import matplotlib.pyplot as plt\n",
    "import seaborn as sns\n",
    "from sklearn.metrics import r2_score,mean_squared_error\n",
    "from sklearn.preprocessing import StandardScaler\n",
    "from sklearn.linear_model import LassoCV,Lasso\n",
    "from sklearn.preprocessing import StandardScaler\n",
    "from sklearn.pipeline import Pipeline"
   ]
  },
  {
   "cell_type": "code",
   "execution_count": 2,
   "id": "ee414033",
   "metadata": {
    "scrolled": true
   },
   "outputs": [
    {
     "name": "stderr",
     "output_type": "stream",
     "text": [
      "C:\\Users\\Alina\\anaconda3\\envs\\tesnorflow\\lib\\site-packages\\sklearn\\utils\\deprecation.py:87: FutureWarning: Function load_boston is deprecated; `load_boston` is deprecated in 1.0 and will be removed in 1.2.\n",
      "\n",
      "    The Boston housing prices dataset has an ethical problem. You can refer to\n",
      "    the documentation of this function for further details.\n",
      "\n",
      "    The scikit-learn maintainers therefore strongly discourage the use of this\n",
      "    dataset unless the purpose of the code is to study and educate about\n",
      "    ethical issues in data science and machine learning.\n",
      "\n",
      "    In this special case, you can fetch the dataset from the original\n",
      "    source::\n",
      "\n",
      "        import pandas as pd\n",
      "        import numpy as np\n",
      "\n",
      "        data_url = \"http://lib.stat.cmu.edu/datasets/boston\"\n",
      "        raw_df = pd.read_csv(data_url, sep=\"\\s+\", skiprows=22, header=None)\n",
      "        data = np.hstack([raw_df.values[::2, :], raw_df.values[1::2, :2]])\n",
      "        target = raw_df.values[1::2, 2]\n",
      "\n",
      "    Alternative datasets include the California housing dataset (i.e.\n",
      "    :func:`~sklearn.datasets.fetch_california_housing`) and the Ames housing\n",
      "    dataset. You can load the datasets as follows::\n",
      "\n",
      "        from sklearn.datasets import fetch_california_housing\n",
      "        housing = fetch_california_housing()\n",
      "\n",
      "    for the California housing dataset and::\n",
      "\n",
      "        from sklearn.datasets import fetch_openml\n",
      "        housing = fetch_openml(name=\"house_prices\", as_frame=True)\n",
      "\n",
      "    for the Ames housing dataset.\n",
      "  warnings.warn(msg, category=FutureWarning)\n"
     ]
    }
   ],
   "source": [
    "from sklearn.datasets import load_boston\n",
    "\n",
    "data=load_boston(return_X_y=False)"
   ]
  },
  {
   "cell_type": "code",
   "execution_count": 3,
   "id": "8c8a06f1",
   "metadata": {},
   "outputs": [],
   "source": [
    "df=pd.DataFrame(data.data,columns=data.feature_names)"
   ]
  },
  {
   "cell_type": "code",
   "execution_count": 4,
   "id": "5c6aa056",
   "metadata": {},
   "outputs": [
    {
     "data": {
      "text/html": [
       "<div>\n",
       "<style scoped>\n",
       "    .dataframe tbody tr th:only-of-type {\n",
       "        vertical-align: middle;\n",
       "    }\n",
       "\n",
       "    .dataframe tbody tr th {\n",
       "        vertical-align: top;\n",
       "    }\n",
       "\n",
       "    .dataframe thead th {\n",
       "        text-align: right;\n",
       "    }\n",
       "</style>\n",
       "<table border=\"1\" class=\"dataframe\">\n",
       "  <thead>\n",
       "    <tr style=\"text-align: right;\">\n",
       "      <th></th>\n",
       "      <th>CRIM</th>\n",
       "      <th>ZN</th>\n",
       "      <th>INDUS</th>\n",
       "      <th>CHAS</th>\n",
       "      <th>NOX</th>\n",
       "      <th>RM</th>\n",
       "      <th>AGE</th>\n",
       "      <th>DIS</th>\n",
       "      <th>RAD</th>\n",
       "      <th>TAX</th>\n",
       "      <th>PTRATIO</th>\n",
       "      <th>B</th>\n",
       "      <th>LSTAT</th>\n",
       "    </tr>\n",
       "  </thead>\n",
       "  <tbody>\n",
       "    <tr>\n",
       "      <th>0</th>\n",
       "      <td>0.00632</td>\n",
       "      <td>18.0</td>\n",
       "      <td>2.31</td>\n",
       "      <td>0.0</td>\n",
       "      <td>0.538</td>\n",
       "      <td>6.575</td>\n",
       "      <td>65.2</td>\n",
       "      <td>4.0900</td>\n",
       "      <td>1.0</td>\n",
       "      <td>296.0</td>\n",
       "      <td>15.3</td>\n",
       "      <td>396.90</td>\n",
       "      <td>4.98</td>\n",
       "    </tr>\n",
       "    <tr>\n",
       "      <th>1</th>\n",
       "      <td>0.02731</td>\n",
       "      <td>0.0</td>\n",
       "      <td>7.07</td>\n",
       "      <td>0.0</td>\n",
       "      <td>0.469</td>\n",
       "      <td>6.421</td>\n",
       "      <td>78.9</td>\n",
       "      <td>4.9671</td>\n",
       "      <td>2.0</td>\n",
       "      <td>242.0</td>\n",
       "      <td>17.8</td>\n",
       "      <td>396.90</td>\n",
       "      <td>9.14</td>\n",
       "    </tr>\n",
       "    <tr>\n",
       "      <th>2</th>\n",
       "      <td>0.02729</td>\n",
       "      <td>0.0</td>\n",
       "      <td>7.07</td>\n",
       "      <td>0.0</td>\n",
       "      <td>0.469</td>\n",
       "      <td>7.185</td>\n",
       "      <td>61.1</td>\n",
       "      <td>4.9671</td>\n",
       "      <td>2.0</td>\n",
       "      <td>242.0</td>\n",
       "      <td>17.8</td>\n",
       "      <td>392.83</td>\n",
       "      <td>4.03</td>\n",
       "    </tr>\n",
       "    <tr>\n",
       "      <th>3</th>\n",
       "      <td>0.03237</td>\n",
       "      <td>0.0</td>\n",
       "      <td>2.18</td>\n",
       "      <td>0.0</td>\n",
       "      <td>0.458</td>\n",
       "      <td>6.998</td>\n",
       "      <td>45.8</td>\n",
       "      <td>6.0622</td>\n",
       "      <td>3.0</td>\n",
       "      <td>222.0</td>\n",
       "      <td>18.7</td>\n",
       "      <td>394.63</td>\n",
       "      <td>2.94</td>\n",
       "    </tr>\n",
       "    <tr>\n",
       "      <th>4</th>\n",
       "      <td>0.06905</td>\n",
       "      <td>0.0</td>\n",
       "      <td>2.18</td>\n",
       "      <td>0.0</td>\n",
       "      <td>0.458</td>\n",
       "      <td>7.147</td>\n",
       "      <td>54.2</td>\n",
       "      <td>6.0622</td>\n",
       "      <td>3.0</td>\n",
       "      <td>222.0</td>\n",
       "      <td>18.7</td>\n",
       "      <td>396.90</td>\n",
       "      <td>5.33</td>\n",
       "    </tr>\n",
       "    <tr>\n",
       "      <th>...</th>\n",
       "      <td>...</td>\n",
       "      <td>...</td>\n",
       "      <td>...</td>\n",
       "      <td>...</td>\n",
       "      <td>...</td>\n",
       "      <td>...</td>\n",
       "      <td>...</td>\n",
       "      <td>...</td>\n",
       "      <td>...</td>\n",
       "      <td>...</td>\n",
       "      <td>...</td>\n",
       "      <td>...</td>\n",
       "      <td>...</td>\n",
       "    </tr>\n",
       "    <tr>\n",
       "      <th>501</th>\n",
       "      <td>0.06263</td>\n",
       "      <td>0.0</td>\n",
       "      <td>11.93</td>\n",
       "      <td>0.0</td>\n",
       "      <td>0.573</td>\n",
       "      <td>6.593</td>\n",
       "      <td>69.1</td>\n",
       "      <td>2.4786</td>\n",
       "      <td>1.0</td>\n",
       "      <td>273.0</td>\n",
       "      <td>21.0</td>\n",
       "      <td>391.99</td>\n",
       "      <td>9.67</td>\n",
       "    </tr>\n",
       "    <tr>\n",
       "      <th>502</th>\n",
       "      <td>0.04527</td>\n",
       "      <td>0.0</td>\n",
       "      <td>11.93</td>\n",
       "      <td>0.0</td>\n",
       "      <td>0.573</td>\n",
       "      <td>6.120</td>\n",
       "      <td>76.7</td>\n",
       "      <td>2.2875</td>\n",
       "      <td>1.0</td>\n",
       "      <td>273.0</td>\n",
       "      <td>21.0</td>\n",
       "      <td>396.90</td>\n",
       "      <td>9.08</td>\n",
       "    </tr>\n",
       "    <tr>\n",
       "      <th>503</th>\n",
       "      <td>0.06076</td>\n",
       "      <td>0.0</td>\n",
       "      <td>11.93</td>\n",
       "      <td>0.0</td>\n",
       "      <td>0.573</td>\n",
       "      <td>6.976</td>\n",
       "      <td>91.0</td>\n",
       "      <td>2.1675</td>\n",
       "      <td>1.0</td>\n",
       "      <td>273.0</td>\n",
       "      <td>21.0</td>\n",
       "      <td>396.90</td>\n",
       "      <td>5.64</td>\n",
       "    </tr>\n",
       "    <tr>\n",
       "      <th>504</th>\n",
       "      <td>0.10959</td>\n",
       "      <td>0.0</td>\n",
       "      <td>11.93</td>\n",
       "      <td>0.0</td>\n",
       "      <td>0.573</td>\n",
       "      <td>6.794</td>\n",
       "      <td>89.3</td>\n",
       "      <td>2.3889</td>\n",
       "      <td>1.0</td>\n",
       "      <td>273.0</td>\n",
       "      <td>21.0</td>\n",
       "      <td>393.45</td>\n",
       "      <td>6.48</td>\n",
       "    </tr>\n",
       "    <tr>\n",
       "      <th>505</th>\n",
       "      <td>0.04741</td>\n",
       "      <td>0.0</td>\n",
       "      <td>11.93</td>\n",
       "      <td>0.0</td>\n",
       "      <td>0.573</td>\n",
       "      <td>6.030</td>\n",
       "      <td>80.8</td>\n",
       "      <td>2.5050</td>\n",
       "      <td>1.0</td>\n",
       "      <td>273.0</td>\n",
       "      <td>21.0</td>\n",
       "      <td>396.90</td>\n",
       "      <td>7.88</td>\n",
       "    </tr>\n",
       "  </tbody>\n",
       "</table>\n",
       "<p>506 rows × 13 columns</p>\n",
       "</div>"
      ],
      "text/plain": [
       "        CRIM    ZN  INDUS  CHAS    NOX     RM   AGE     DIS  RAD    TAX  \\\n",
       "0    0.00632  18.0   2.31   0.0  0.538  6.575  65.2  4.0900  1.0  296.0   \n",
       "1    0.02731   0.0   7.07   0.0  0.469  6.421  78.9  4.9671  2.0  242.0   \n",
       "2    0.02729   0.0   7.07   0.0  0.469  7.185  61.1  4.9671  2.0  242.0   \n",
       "3    0.03237   0.0   2.18   0.0  0.458  6.998  45.8  6.0622  3.0  222.0   \n",
       "4    0.06905   0.0   2.18   0.0  0.458  7.147  54.2  6.0622  3.0  222.0   \n",
       "..       ...   ...    ...   ...    ...    ...   ...     ...  ...    ...   \n",
       "501  0.06263   0.0  11.93   0.0  0.573  6.593  69.1  2.4786  1.0  273.0   \n",
       "502  0.04527   0.0  11.93   0.0  0.573  6.120  76.7  2.2875  1.0  273.0   \n",
       "503  0.06076   0.0  11.93   0.0  0.573  6.976  91.0  2.1675  1.0  273.0   \n",
       "504  0.10959   0.0  11.93   0.0  0.573  6.794  89.3  2.3889  1.0  273.0   \n",
       "505  0.04741   0.0  11.93   0.0  0.573  6.030  80.8  2.5050  1.0  273.0   \n",
       "\n",
       "     PTRATIO       B  LSTAT  \n",
       "0       15.3  396.90   4.98  \n",
       "1       17.8  396.90   9.14  \n",
       "2       17.8  392.83   4.03  \n",
       "3       18.7  394.63   2.94  \n",
       "4       18.7  396.90   5.33  \n",
       "..       ...     ...    ...  \n",
       "501     21.0  391.99   9.67  \n",
       "502     21.0  396.90   9.08  \n",
       "503     21.0  396.90   5.64  \n",
       "504     21.0  393.45   6.48  \n",
       "505     21.0  396.90   7.88  \n",
       "\n",
       "[506 rows x 13 columns]"
      ]
     },
     "execution_count": 4,
     "metadata": {},
     "output_type": "execute_result"
    }
   ],
   "source": [
    "df"
   ]
  },
  {
   "cell_type": "code",
   "execution_count": 5,
   "id": "94152f17",
   "metadata": {},
   "outputs": [],
   "source": [
    "df['Target']=data.target"
   ]
  },
  {
   "cell_type": "code",
   "execution_count": 6,
   "id": "f130182e",
   "metadata": {},
   "outputs": [],
   "source": [
    "X= df.drop(columns='Target')\n",
    "Y=df['Target']"
   ]
  },
  {
   "cell_type": "code",
   "execution_count": 7,
   "id": "f309fd65",
   "metadata": {},
   "outputs": [],
   "source": [
    "from sklearn.model_selection import train_test_split\n",
    "\n",
    "X_train,X_test,y_train,y_test = train_test_split(X,Y,test_size=0.3,random_state=91)"
   ]
  },
  {
   "cell_type": "code",
   "execution_count": 8,
   "id": "4d3710b9",
   "metadata": {},
   "outputs": [
    {
     "data": {
      "text/html": [
       "<style>#sk-container-id-1 {color: black;background-color: white;}#sk-container-id-1 pre{padding: 0;}#sk-container-id-1 div.sk-toggleable {background-color: white;}#sk-container-id-1 label.sk-toggleable__label {cursor: pointer;display: block;width: 100%;margin-bottom: 0;padding: 0.3em;box-sizing: border-box;text-align: center;}#sk-container-id-1 label.sk-toggleable__label-arrow:before {content: \"▸\";float: left;margin-right: 0.25em;color: #696969;}#sk-container-id-1 label.sk-toggleable__label-arrow:hover:before {color: black;}#sk-container-id-1 div.sk-estimator:hover label.sk-toggleable__label-arrow:before {color: black;}#sk-container-id-1 div.sk-toggleable__content {max-height: 0;max-width: 0;overflow: hidden;text-align: left;background-color: #f0f8ff;}#sk-container-id-1 div.sk-toggleable__content pre {margin: 0.2em;color: black;border-radius: 0.25em;background-color: #f0f8ff;}#sk-container-id-1 input.sk-toggleable__control:checked~div.sk-toggleable__content {max-height: 200px;max-width: 100%;overflow: auto;}#sk-container-id-1 input.sk-toggleable__control:checked~label.sk-toggleable__label-arrow:before {content: \"▾\";}#sk-container-id-1 div.sk-estimator input.sk-toggleable__control:checked~label.sk-toggleable__label {background-color: #d4ebff;}#sk-container-id-1 div.sk-label input.sk-toggleable__control:checked~label.sk-toggleable__label {background-color: #d4ebff;}#sk-container-id-1 input.sk-hidden--visually {border: 0;clip: rect(1px 1px 1px 1px);clip: rect(1px, 1px, 1px, 1px);height: 1px;margin: -1px;overflow: hidden;padding: 0;position: absolute;width: 1px;}#sk-container-id-1 div.sk-estimator {font-family: monospace;background-color: #f0f8ff;border: 1px dotted black;border-radius: 0.25em;box-sizing: border-box;margin-bottom: 0.5em;}#sk-container-id-1 div.sk-estimator:hover {background-color: #d4ebff;}#sk-container-id-1 div.sk-parallel-item::after {content: \"\";width: 100%;border-bottom: 1px solid gray;flex-grow: 1;}#sk-container-id-1 div.sk-label:hover label.sk-toggleable__label {background-color: #d4ebff;}#sk-container-id-1 div.sk-serial::before {content: \"\";position: absolute;border-left: 1px solid gray;box-sizing: border-box;top: 0;bottom: 0;left: 50%;z-index: 0;}#sk-container-id-1 div.sk-serial {display: flex;flex-direction: column;align-items: center;background-color: white;padding-right: 0.2em;padding-left: 0.2em;position: relative;}#sk-container-id-1 div.sk-item {position: relative;z-index: 1;}#sk-container-id-1 div.sk-parallel {display: flex;align-items: stretch;justify-content: center;background-color: white;position: relative;}#sk-container-id-1 div.sk-item::before, #sk-container-id-1 div.sk-parallel-item::before {content: \"\";position: absolute;border-left: 1px solid gray;box-sizing: border-box;top: 0;bottom: 0;left: 50%;z-index: -1;}#sk-container-id-1 div.sk-parallel-item {display: flex;flex-direction: column;z-index: 1;position: relative;background-color: white;}#sk-container-id-1 div.sk-parallel-item:first-child::after {align-self: flex-end;width: 50%;}#sk-container-id-1 div.sk-parallel-item:last-child::after {align-self: flex-start;width: 50%;}#sk-container-id-1 div.sk-parallel-item:only-child::after {width: 0;}#sk-container-id-1 div.sk-dashed-wrapped {border: 1px dashed gray;margin: 0 0.4em 0.5em 0.4em;box-sizing: border-box;padding-bottom: 0.4em;background-color: white;}#sk-container-id-1 div.sk-label label {font-family: monospace;font-weight: bold;display: inline-block;line-height: 1.2em;}#sk-container-id-1 div.sk-label-container {text-align: center;}#sk-container-id-1 div.sk-container {/* jupyter's `normalize.less` sets `[hidden] { display: none; }` but bootstrap.min.css set `[hidden] { display: none !important; }` so we also need the `!important` here to be able to override the default hidden behavior on the sphinx rendered scikit-learn.org. See: https://github.com/scikit-learn/scikit-learn/issues/21755 */display: inline-block !important;position: relative;}#sk-container-id-1 div.sk-text-repr-fallback {display: none;}</style><div id=\"sk-container-id-1\" class=\"sk-top-container\"><div class=\"sk-text-repr-fallback\"><pre>LinearRegression()</pre><b>In a Jupyter environment, please rerun this cell to show the HTML representation or trust the notebook. <br />On GitHub, the HTML representation is unable to render, please try loading this page with nbviewer.org.</b></div><div class=\"sk-container\" hidden><div class=\"sk-item\"><div class=\"sk-estimator sk-toggleable\"><input class=\"sk-toggleable__control sk-hidden--visually\" id=\"sk-estimator-id-1\" type=\"checkbox\" checked><label for=\"sk-estimator-id-1\" class=\"sk-toggleable__label sk-toggleable__label-arrow\">LinearRegression</label><div class=\"sk-toggleable__content\"><pre>LinearRegression()</pre></div></div></div></div></div>"
      ],
      "text/plain": [
       "LinearRegression()"
      ]
     },
     "execution_count": 8,
     "metadata": {},
     "output_type": "execute_result"
    }
   ],
   "source": [
    "from sklearn.linear_model import LinearRegression\n",
    "\n",
    "lr=LinearRegression()\n",
    "lr.fit(X_train,y_train)"
   ]
  },
  {
   "cell_type": "code",
   "execution_count": 9,
   "id": "08f417c0",
   "metadata": {},
   "outputs": [
    {
     "data": {
      "text/plain": [
       "array([-1.59496437e-01,  4.99248313e-02,  2.89360229e-02,  9.19531894e-01,\n",
       "       -1.75135848e+01,  3.70315495e+00,  1.04296178e-03, -1.58419514e+00,\n",
       "        3.45143638e-01, -1.46359546e-02, -1.00320587e+00,  1.14201859e-02,\n",
       "       -5.04826055e-01])"
      ]
     },
     "execution_count": 9,
     "metadata": {},
     "output_type": "execute_result"
    }
   ],
   "source": [
    "lr.coef_"
   ]
  },
  {
   "cell_type": "code",
   "execution_count": 10,
   "id": "7fdbac38",
   "metadata": {},
   "outputs": [
    {
     "data": {
      "text/plain": [
       "38.03553331945657"
      ]
     },
     "execution_count": 10,
     "metadata": {},
     "output_type": "execute_result"
    }
   ],
   "source": [
    "lr.intercept_\n"
   ]
  },
  {
   "cell_type": "code",
   "execution_count": 11,
   "id": "8f9e7d76",
   "metadata": {},
   "outputs": [],
   "source": [
    "y_pred=lr.predict(X_test)\n",
    "pred_train=lr.predict(X_train)"
   ]
  },
  {
   "cell_type": "code",
   "execution_count": 12,
   "id": "52659572",
   "metadata": {},
   "outputs": [
    {
     "name": "stdout",
     "output_type": "stream",
     "text": [
      "R squared on training set  74.968\n",
      "R squared on test set 70.198\n"
     ]
    }
   ],
   "source": [
    "\n",
    "print('R squared on training set ', round(lr.score(X_train, y_train)*100, 3))\n",
    "print('R squared on test set', round(lr.score(X_test, y_test)*100, 3))"
   ]
  },
  {
   "cell_type": "code",
   "execution_count": 13,
   "id": "1e8640ba",
   "metadata": {},
   "outputs": [
    {
     "name": "stdout",
     "output_type": "stream",
     "text": [
      "MSE training set 21.59\n",
      "MSE test set 23.885\n"
     ]
    }
   ],
   "source": [
    "mse_train = mean_squared_error(y_train, pred_train)\n",
    "print('MSE training set', round(mse_train, 3))\n",
    "\n",
    "\n",
    "mse_test =mean_squared_error(y_test, y_pred)\n",
    "print('MSE test set', round(mse_test, 3))"
   ]
  },
  {
   "cell_type": "code",
   "execution_count": 14,
   "id": "948c52fe",
   "metadata": {},
   "outputs": [
    {
     "data": {
      "text/html": [
       "<style>#sk-container-id-2 {color: black;background-color: white;}#sk-container-id-2 pre{padding: 0;}#sk-container-id-2 div.sk-toggleable {background-color: white;}#sk-container-id-2 label.sk-toggleable__label {cursor: pointer;display: block;width: 100%;margin-bottom: 0;padding: 0.3em;box-sizing: border-box;text-align: center;}#sk-container-id-2 label.sk-toggleable__label-arrow:before {content: \"▸\";float: left;margin-right: 0.25em;color: #696969;}#sk-container-id-2 label.sk-toggleable__label-arrow:hover:before {color: black;}#sk-container-id-2 div.sk-estimator:hover label.sk-toggleable__label-arrow:before {color: black;}#sk-container-id-2 div.sk-toggleable__content {max-height: 0;max-width: 0;overflow: hidden;text-align: left;background-color: #f0f8ff;}#sk-container-id-2 div.sk-toggleable__content pre {margin: 0.2em;color: black;border-radius: 0.25em;background-color: #f0f8ff;}#sk-container-id-2 input.sk-toggleable__control:checked~div.sk-toggleable__content {max-height: 200px;max-width: 100%;overflow: auto;}#sk-container-id-2 input.sk-toggleable__control:checked~label.sk-toggleable__label-arrow:before {content: \"▾\";}#sk-container-id-2 div.sk-estimator input.sk-toggleable__control:checked~label.sk-toggleable__label {background-color: #d4ebff;}#sk-container-id-2 div.sk-label input.sk-toggleable__control:checked~label.sk-toggleable__label {background-color: #d4ebff;}#sk-container-id-2 input.sk-hidden--visually {border: 0;clip: rect(1px 1px 1px 1px);clip: rect(1px, 1px, 1px, 1px);height: 1px;margin: -1px;overflow: hidden;padding: 0;position: absolute;width: 1px;}#sk-container-id-2 div.sk-estimator {font-family: monospace;background-color: #f0f8ff;border: 1px dotted black;border-radius: 0.25em;box-sizing: border-box;margin-bottom: 0.5em;}#sk-container-id-2 div.sk-estimator:hover {background-color: #d4ebff;}#sk-container-id-2 div.sk-parallel-item::after {content: \"\";width: 100%;border-bottom: 1px solid gray;flex-grow: 1;}#sk-container-id-2 div.sk-label:hover label.sk-toggleable__label {background-color: #d4ebff;}#sk-container-id-2 div.sk-serial::before {content: \"\";position: absolute;border-left: 1px solid gray;box-sizing: border-box;top: 0;bottom: 0;left: 50%;z-index: 0;}#sk-container-id-2 div.sk-serial {display: flex;flex-direction: column;align-items: center;background-color: white;padding-right: 0.2em;padding-left: 0.2em;position: relative;}#sk-container-id-2 div.sk-item {position: relative;z-index: 1;}#sk-container-id-2 div.sk-parallel {display: flex;align-items: stretch;justify-content: center;background-color: white;position: relative;}#sk-container-id-2 div.sk-item::before, #sk-container-id-2 div.sk-parallel-item::before {content: \"\";position: absolute;border-left: 1px solid gray;box-sizing: border-box;top: 0;bottom: 0;left: 50%;z-index: -1;}#sk-container-id-2 div.sk-parallel-item {display: flex;flex-direction: column;z-index: 1;position: relative;background-color: white;}#sk-container-id-2 div.sk-parallel-item:first-child::after {align-self: flex-end;width: 50%;}#sk-container-id-2 div.sk-parallel-item:last-child::after {align-self: flex-start;width: 50%;}#sk-container-id-2 div.sk-parallel-item:only-child::after {width: 0;}#sk-container-id-2 div.sk-dashed-wrapped {border: 1px dashed gray;margin: 0 0.4em 0.5em 0.4em;box-sizing: border-box;padding-bottom: 0.4em;background-color: white;}#sk-container-id-2 div.sk-label label {font-family: monospace;font-weight: bold;display: inline-block;line-height: 1.2em;}#sk-container-id-2 div.sk-label-container {text-align: center;}#sk-container-id-2 div.sk-container {/* jupyter's `normalize.less` sets `[hidden] { display: none; }` but bootstrap.min.css set `[hidden] { display: none !important; }` so we also need the `!important` here to be able to override the default hidden behavior on the sphinx rendered scikit-learn.org. See: https://github.com/scikit-learn/scikit-learn/issues/21755 */display: inline-block !important;position: relative;}#sk-container-id-2 div.sk-text-repr-fallback {display: none;}</style><div id=\"sk-container-id-2\" class=\"sk-top-container\"><div class=\"sk-text-repr-fallback\"><pre>Lasso(alpha=1)</pre><b>In a Jupyter environment, please rerun this cell to show the HTML representation or trust the notebook. <br />On GitHub, the HTML representation is unable to render, please try loading this page with nbviewer.org.</b></div><div class=\"sk-container\" hidden><div class=\"sk-item\"><div class=\"sk-estimator sk-toggleable\"><input class=\"sk-toggleable__control sk-hidden--visually\" id=\"sk-estimator-id-2\" type=\"checkbox\" checked><label for=\"sk-estimator-id-2\" class=\"sk-toggleable__label sk-toggleable__label-arrow\">Lasso</label><div class=\"sk-toggleable__content\"><pre>Lasso(alpha=1)</pre></div></div></div></div></div>"
      ],
      "text/plain": [
       "Lasso(alpha=1)"
      ]
     },
     "execution_count": 14,
     "metadata": {},
     "output_type": "execute_result"
    }
   ],
   "source": [
    "from sklearn.linear_model import Lasso,LassoCV\n",
    "\n",
    "lasso = Lasso(alpha=1)\n",
    "lasso.fit(X_train, y_train)\n",
    "\n"
   ]
  },
  {
   "cell_type": "code",
   "execution_count": 15,
   "id": "a79ecbe1",
   "metadata": {},
   "outputs": [
    {
     "data": {
      "text/plain": [
       "42.30444141175519"
      ]
     },
     "execution_count": 15,
     "metadata": {},
     "output_type": "execute_result"
    }
   ],
   "source": [
    "lasso.intercept_"
   ]
  },
  {
   "cell_type": "code",
   "execution_count": 16,
   "id": "f6c5f9d9",
   "metadata": {},
   "outputs": [
    {
     "data": {
      "text/plain": [
       "array([-0.09292278,  0.05627423, -0.        ,  0.        , -0.        ,\n",
       "        0.77290255,  0.018177  , -0.83770588,  0.27782578, -0.01707107,\n",
       "       -0.66386855,  0.00878415, -0.75115889])"
      ]
     },
     "execution_count": 16,
     "metadata": {},
     "output_type": "execute_result"
    }
   ],
   "source": [
    "lasso.coef_"
   ]
  },
  {
   "cell_type": "code",
   "execution_count": 17,
   "id": "09581199",
   "metadata": {},
   "outputs": [
    {
     "name": "stdout",
     "output_type": "stream",
     "text": [
      "R squared training set 69.618\n",
      "R squared test set 64.11\n"
     ]
    }
   ],
   "source": [
    "print('R squared training set', round(lasso.score(X_train, y_train)*100, 3))\n",
    "print('R squared test set', round(lasso.score(X_test, y_test)*100, 3))"
   ]
  },
  {
   "cell_type": "code",
   "execution_count": 18,
   "id": "4f0b4762",
   "metadata": {},
   "outputs": [
    {
     "name": "stdout",
     "output_type": "stream",
     "text": [
      "MSE training set 26.2042\n",
      "MSE test set 28.7641\n"
     ]
    }
   ],
   "source": [
    "#MSE for the training and test set.\n",
    "\n",
    "\n",
    "\n",
    "# Training data\n",
    "pred_train = lasso.predict(X_train)\n",
    "mse_train = mean_squared_error(y_train, pred_train)\n",
    "print('MSE training set', round(mse_train, 4))\n",
    "\n",
    "# Test data\n",
    "pred = lasso.predict(X_test)\n",
    "mse_test =mean_squared_error(y_test, pred)\n",
    "print('MSE test set', round(mse_test, 4))"
   ]
  },
  {
   "cell_type": "code",
   "execution_count": 19,
   "id": "87ae921c",
   "metadata": {},
   "outputs": [
    {
     "name": "stdout",
     "output_type": "stream",
     "text": [
      "The r2 score for alpha 0.01 is 0.6993891349041714 \n",
      "The mean squared error for alpha 0.01 is 24.09256070173152\n",
      "\n",
      "\n",
      "The r2 score for alpha 10.110909090909091 is 0.469342645885388 \n",
      "The mean squared error for alpha 10.110909090909091 is 42.52971532399857\n",
      "\n",
      "\n",
      "The r2 score for alpha 20.211818181818185 is 0.3719043291190989 \n",
      "The mean squared error for alpha 20.211818181818185 is 50.338942580698095\n",
      "\n",
      "\n",
      "The r2 score for alpha 30.312727272727276 is 0.22019698946383692 \n",
      "The mean squared error for alpha 30.312727272727276 is 62.4975792566461\n",
      "\n",
      "\n",
      "The r2 score for alpha 40.413636363636364 is 0.2043314637259146 \n",
      "The mean squared error for alpha 40.413636363636364 is 63.769127248711946\n",
      "\n",
      "\n",
      "The r2 score for alpha 50.514545454545456 is 0.19189143647228357 \n",
      "The mean squared error for alpha 50.514545454545456 is 64.76613749198361\n",
      "\n",
      "\n",
      "The r2 score for alpha 60.61545454545455 is 0.18695572975783092 \n",
      "The mean squared error for alpha 60.61545454545455 is 65.16171139642645\n",
      "\n",
      "\n",
      "The r2 score for alpha 70.71636363636365 is 0.18531887332598163 \n",
      "The mean squared error for alpha 70.71636363636365 is 65.29289781555929\n",
      "\n",
      "\n",
      "The r2 score for alpha 80.81727272727274 is 0.1833150170676372 \n",
      "The mean squared error for alpha 80.81727272727274 is 65.45349756143447\n",
      "\n",
      "\n",
      "The r2 score for alpha 90.91818181818182 is 0.1809422681351439 \n",
      "The mean squared error for alpha 90.91818181818182 is 65.64366233697524\n",
      "\n",
      "\n",
      "The r2 score for alpha 101.01909090909092 is 0.17820059269426802 \n",
      "The mean squared error for alpha 101.01909090909092 is 65.86339485383783\n",
      "\n",
      "\n",
      "The r2 score for alpha 111.12000000000002 is 0.17508903996953062 \n",
      "The mean squared error for alpha 111.12000000000002 is 66.11277131224853\n",
      "\n",
      "\n",
      "The r2 score for alpha 121.2209090909091 is 0.17160985335049528 \n",
      "The mean squared error for alpha 121.2209090909091 is 66.3916119149827\n",
      "\n",
      "\n",
      "The r2 score for alpha 131.32181818181817 is 0.17153837346205736 \n",
      "The mean squared error for alpha 131.32181818181817 is 66.39734069511377\n",
      "\n",
      "\n",
      "The r2 score for alpha 141.4227272727273 is 0.1717481143027858 \n",
      "The mean squared error for alpha 141.4227272727273 is 66.38053094362567\n",
      "\n",
      "\n",
      "The r2 score for alpha 151.52363636363637 is 0.17186167909231587 \n",
      "The mean squared error for alpha 151.52363636363637 is 66.37142925468818\n",
      "\n",
      "\n",
      "The r2 score for alpha 161.62454545454545 is 0.1718790678306471 \n",
      "The mean squared error for alpha 161.62454545454545 is 66.37003562830132\n",
      "\n",
      "\n",
      "The r2 score for alpha 171.72545454545454 is 0.1718002805177803 \n",
      "The mean squared error for alpha 171.72545454545454 is 66.37635006446506\n",
      "\n",
      "\n",
      "The r2 score for alpha 181.82636363636362 is 0.1716253171537152 \n",
      "The mean squared error for alpha 181.82636363636362 is 66.39037256317938\n",
      "\n",
      "\n",
      "The r2 score for alpha 191.92727272727274 is 0.1713541777384513 \n",
      "The mean squared error for alpha 191.92727272727274 is 66.41210312444434\n",
      "\n",
      "\n",
      "The r2 score for alpha 202.02818181818182 is 0.17098686227198934 \n",
      "The mean squared error for alpha 202.02818181818182 is 66.44154174825988\n",
      "\n",
      "\n",
      "The r2 score for alpha 212.1290909090909 is 0.17052337075432888 \n",
      "The mean squared error for alpha 212.1290909090909 is 66.47868843462602\n",
      "\n",
      "\n",
      "The r2 score for alpha 222.23000000000002 is 0.16996370318546972 \n",
      "The mean squared error for alpha 222.23000000000002 is 66.52354318354281\n",
      "\n",
      "\n",
      "The r2 score for alpha 232.3309090909091 is 0.1693078595654125 \n",
      "The mean squared error for alpha 232.3309090909091 is 66.57610599501017\n",
      "\n",
      "\n",
      "The r2 score for alpha 242.4318181818182 is 0.16855583989415668 \n",
      "The mean squared error for alpha 242.4318181818182 is 66.63637686902814\n",
      "\n",
      "\n",
      "The r2 score for alpha 252.53272727272727 is 0.16770764417170247 \n",
      "The mean squared error for alpha 252.53272727272727 is 66.70435580559673\n",
      "\n",
      "\n",
      "The r2 score for alpha 262.63363636363636 is 0.1667632723980499 \n",
      "The mean squared error for alpha 262.63363636363636 is 66.78004280471592\n",
      "\n",
      "\n",
      "The r2 score for alpha 272.73454545454547 is 0.16572272457319892 \n",
      "The mean squared error for alpha 272.73454545454547 is 66.86343786638572\n",
      "\n",
      "\n",
      "The r2 score for alpha 282.8354545454546 is 0.16458600069714935 \n",
      "The mean squared error for alpha 282.8354545454546 is 66.95454099060613\n",
      "\n",
      "\n",
      "The r2 score for alpha 292.93636363636364 is 0.16335310076990173 \n",
      "The mean squared error for alpha 292.93636363636364 is 67.05335217737712\n",
      "\n",
      "\n",
      "The r2 score for alpha 303.03727272727275 is 0.1620240247914556 \n",
      "The mean squared error for alpha 303.03727272727275 is 67.15987142669873\n",
      "\n",
      "\n",
      "The r2 score for alpha 313.1381818181818 is 0.16059877276181067 \n",
      "The mean squared error for alpha 313.1381818181818 is 67.27409873857098\n",
      "\n",
      "\n",
      "The r2 score for alpha 323.2390909090909 is 0.15907734468096757 \n",
      "The mean squared error for alpha 323.2390909090909 is 67.3960341129938\n",
      "\n",
      "\n",
      "The r2 score for alpha 333.34000000000003 is 0.1574597405489263 \n",
      "The mean squared error for alpha 333.34000000000003 is 67.52567754996723\n",
      "\n",
      "\n",
      "The r2 score for alpha 343.4409090909091 is 0.15574596036568644 \n",
      "The mean squared error for alpha 343.4409090909091 is 67.66302904949127\n",
      "\n",
      "\n",
      "The r2 score for alpha 353.5418181818182 is 0.15393600413124808 \n",
      "The mean squared error for alpha 353.5418181818182 is 67.80808861156592\n",
      "\n",
      "\n",
      "The r2 score for alpha 363.64272727272726 is 0.15202987184561134 \n",
      "The mean squared error for alpha 363.64272727272726 is 67.96085623619119\n",
      "\n",
      "\n",
      "The r2 score for alpha 373.74363636363637 is 0.15002756350877622 \n",
      "The mean squared error for alpha 373.74363636363637 is 68.12133192336704\n",
      "\n",
      "\n",
      "The r2 score for alpha 383.8445454545455 is 0.1479290791207427 \n",
      "The mean squared error for alpha 383.8445454545455 is 68.2895156730935\n",
      "\n",
      "\n",
      "The r2 score for alpha 393.94545454545454 is 0.1457344186815107 \n",
      "The mean squared error for alpha 393.94545454545454 is 68.46540748537059\n",
      "\n",
      "\n",
      "The r2 score for alpha 404.04636363636365 is 0.14344358219108044 \n",
      "The mean squared error for alpha 404.04636363636365 is 68.64900736019827\n",
      "\n",
      "\n",
      "The r2 score for alpha 414.14727272727276 is 0.14105656964945157 \n",
      "The mean squared error for alpha 414.14727272727276 is 68.84031529757655\n",
      "\n",
      "\n",
      "The r2 score for alpha 424.2481818181818 is 0.1385733810566243 \n",
      "The mean squared error for alpha 424.2481818181818 is 69.03933129750546\n",
      "\n",
      "\n",
      "The r2 score for alpha 434.34909090909093 is 0.1359940164125989 \n",
      "The mean squared error for alpha 434.34909090909093 is 69.24605535998494\n",
      "\n",
      "\n",
      "The r2 score for alpha 444.45000000000005 is 0.13331847571737498 \n",
      "The mean squared error for alpha 444.45000000000005 is 69.46048748501505\n",
      "\n",
      "\n",
      "The r2 score for alpha 454.5509090909091 is 0.13054675897095225 \n",
      "The mean squared error for alpha 454.5509090909091 is 69.68262767259577\n",
      "\n",
      "\n",
      "The r2 score for alpha 464.6518181818182 is 0.12767886617333157 \n",
      "The mean squared error for alpha 464.6518181818182 is 69.91247592272708\n",
      "\n",
      "\n",
      "The r2 score for alpha 474.75272727272727 is 0.1247147973245124 \n",
      "The mean squared error for alpha 474.75272727272727 is 70.15003223540901\n",
      "\n",
      "\n",
      "The r2 score for alpha 484.8536363636364 is 0.12165455242449474 \n",
      "The mean squared error for alpha 484.8536363636364 is 70.39529661064154\n",
      "\n",
      "\n",
      "The r2 score for alpha 494.9545454545455 is 0.11849813147327848 \n",
      "The mean squared error for alpha 494.9545454545455 is 70.6482690484247\n",
      "\n",
      "\n",
      "The r2 score for alpha 505.05545454545455 is 0.11524553447086416 \n",
      "The mean squared error for alpha 505.05545454545455 is 70.90894954875843\n",
      "\n",
      "\n",
      "The r2 score for alpha 515.1563636363636 is 0.11189676141725124 \n",
      "The mean squared error for alpha 515.1563636363636 is 71.17733811164278\n",
      "\n",
      "\n",
      "The r2 score for alpha 525.2572727272727 is 0.10845181231244005 \n",
      "The mean squared error for alpha 525.2572727272727 is 71.45343473707774\n",
      "\n",
      "\n",
      "The r2 score for alpha 535.3581818181818 is 0.10491068715643026 \n",
      "The mean squared error for alpha 535.3581818181818 is 71.73723942506331\n",
      "\n",
      "\n",
      "The r2 score for alpha 545.459090909091 is 0.10127338594922197 \n",
      "The mean squared error for alpha 545.459090909091 is 72.0287521755995\n",
      "\n",
      "\n",
      "The r2 score for alpha 555.5600000000001 is 0.09753990869081575 \n",
      "The mean squared error for alpha 555.5600000000001 is 72.32797298868624\n",
      "\n",
      "\n",
      "The r2 score for alpha 565.6609090909092 is 0.0937102553812107 \n",
      "The mean squared error for alpha 565.6609090909092 is 72.63490186432364\n",
      "\n",
      "\n",
      "The r2 score for alpha 575.7618181818182 is 0.08978442602040726 \n",
      "The mean squared error for alpha 575.7618181818182 is 72.94953880251164\n",
      "\n",
      "\n",
      "The r2 score for alpha 585.8627272727273 is 0.08576242060840555 \n",
      "The mean squared error for alpha 585.8627272727273 is 73.27188380325023\n",
      "\n",
      "\n",
      "The r2 score for alpha 595.9636363636364 is 0.08164423914520536 \n",
      "The mean squared error for alpha 595.9636363636364 is 73.60193686653943\n",
      "\n",
      "\n",
      "The r2 score for alpha 606.0645454545455 is 0.07742988163080677 \n",
      "The mean squared error for alpha 606.0645454545455 is 73.93969799237924\n",
      "\n",
      "\n",
      "The r2 score for alpha 616.1654545454546 is 0.07311934806520981 \n",
      "The mean squared error for alpha 616.1654545454546 is 74.28516718076966\n",
      "\n",
      "\n",
      "The r2 score for alpha 626.2663636363636 is 0.06871263844841435 \n",
      "The mean squared error for alpha 626.2663636363636 is 74.63834443171068\n",
      "\n",
      "\n",
      "The r2 score for alpha 636.3672727272727 is 0.0642097527804204 \n",
      "The mean squared error for alpha 636.3672727272727 is 74.99922974520233\n",
      "\n",
      "\n",
      "The r2 score for alpha 646.4681818181818 is 0.05961069106122818 \n",
      "The mean squared error for alpha 646.4681818181818 is 75.36782312124456\n",
      "\n",
      "\n",
      "The r2 score for alpha 656.569090909091 is 0.05491545329083747 \n",
      "The mean squared error for alpha 656.569090909091 is 75.7441245598374\n",
      "\n",
      "\n",
      "The r2 score for alpha 666.6700000000001 is 0.05012403946924848 \n",
      "The mean squared error for alpha 666.6700000000001 is 76.12813406098086\n",
      "\n",
      "\n",
      "The r2 score for alpha 676.7709090909091 is 0.045236449596461004 \n",
      "The mean squared error for alpha 676.7709090909091 is 76.5198516246749\n",
      "\n",
      "\n",
      "The r2 score for alpha 686.8718181818182 is 0.04025268367247503 \n",
      "The mean squared error for alpha 686.8718181818182 is 76.91927725091958\n",
      "\n",
      "\n",
      "The r2 score for alpha 696.9727272727273 is 0.03517274169729101 \n",
      "The mean squared error for alpha 696.9727272727273 is 77.32641093971482\n",
      "\n",
      "\n",
      "The r2 score for alpha 707.0736363636364 is 0.029996623670908162 \n",
      "The mean squared error for alpha 707.0736363636364 is 77.74125269106071\n",
      "\n",
      "\n",
      "The r2 score for alpha 717.1745454545455 is 0.024724329593327043 \n",
      "The mean squared error for alpha 717.1745454545455 is 78.16380250495719\n",
      "\n",
      "\n",
      "The r2 score for alpha 727.2754545454545 is 0.01935585946454743 \n",
      "The mean squared error for alpha 727.2754545454545 is 78.59406038140428\n",
      "\n",
      "\n",
      "The r2 score for alpha 737.3763636363636 is 0.013891213284569659 \n",
      "The mean squared error for alpha 737.3763636363636 is 79.03202632040197\n",
      "\n",
      "\n",
      "The r2 score for alpha 747.4772727272727 is 0.008330391053393282 \n",
      "The mean squared error for alpha 747.4772727272727 is 79.47770032195027\n",
      "\n",
      "\n",
      "The r2 score for alpha 757.5781818181819 is 0.0026733927710184124 \n",
      "The mean squared error for alpha 757.5781818181819 is 79.93108238604918\n",
      "\n",
      "\n",
      "The r2 score for alpha 767.679090909091 is -0.0002066891774028523 \n",
      "The mean squared error for alpha 767.679090909091 is 80.16190753984455\n",
      "\n",
      "\n",
      "The r2 score for alpha 777.7800000000001 is -0.0002066891774028523 \n",
      "The mean squared error for alpha 777.7800000000001 is 80.16190753984455\n",
      "\n",
      "\n",
      "The r2 score for alpha 787.8809090909091 is -0.0002066891774028523 \n",
      "The mean squared error for alpha 787.8809090909091 is 80.16190753984455\n",
      "\n",
      "\n",
      "The r2 score for alpha 797.9818181818182 is -0.0002066891774028523 \n",
      "The mean squared error for alpha 797.9818181818182 is 80.16190753984455\n",
      "\n",
      "\n",
      "The r2 score for alpha 808.0827272727273 is -0.0002066891774028523 \n",
      "The mean squared error for alpha 808.0827272727273 is 80.16190753984455\n",
      "\n",
      "\n",
      "The r2 score for alpha 818.1836363636364 is -0.0002066891774028523 \n",
      "The mean squared error for alpha 818.1836363636364 is 80.16190753984455\n",
      "\n",
      "\n",
      "The r2 score for alpha 828.2845454545455 is -0.0002066891774028523 \n",
      "The mean squared error for alpha 828.2845454545455 is 80.16190753984455\n",
      "\n",
      "\n",
      "The r2 score for alpha 838.3854545454545 is -0.0002066891774028523 \n",
      "The mean squared error for alpha 838.3854545454545 is 80.16190753984455\n",
      "\n",
      "\n",
      "The r2 score for alpha 848.4863636363636 is -0.0002066891774028523 \n",
      "The mean squared error for alpha 848.4863636363636 is 80.16190753984455\n",
      "\n",
      "\n",
      "The r2 score for alpha 858.5872727272728 is -0.0002066891774028523 \n",
      "The mean squared error for alpha 858.5872727272728 is 80.16190753984455\n",
      "\n",
      "\n",
      "The r2 score for alpha 868.6881818181819 is -0.0002066891774028523 \n",
      "The mean squared error for alpha 868.6881818181819 is 80.16190753984455\n",
      "\n",
      "\n",
      "The r2 score for alpha 878.789090909091 is -0.0002066891774028523 \n",
      "The mean squared error for alpha 878.789090909091 is 80.16190753984455\n",
      "\n",
      "\n",
      "The r2 score for alpha 888.8900000000001 is -0.0002066891774028523 \n",
      "The mean squared error for alpha 888.8900000000001 is 80.16190753984455\n",
      "\n",
      "\n",
      "The r2 score for alpha 898.9909090909091 is -0.0002066891774028523 \n",
      "The mean squared error for alpha 898.9909090909091 is 80.16190753984455\n",
      "\n",
      "\n",
      "The r2 score for alpha 909.0918181818182 is -0.0002066891774028523 \n",
      "The mean squared error for alpha 909.0918181818182 is 80.16190753984455\n",
      "\n",
      "\n",
      "The r2 score for alpha 919.1927272727273 is -0.0002066891774028523 \n",
      "The mean squared error for alpha 919.1927272727273 is 80.16190753984455\n",
      "\n",
      "\n",
      "The r2 score for alpha 929.2936363636364 is -0.0002066891774028523 \n",
      "The mean squared error for alpha 929.2936363636364 is 80.16190753984455\n",
      "\n",
      "\n",
      "The r2 score for alpha 939.3945454545456 is -0.0002066891774028523 \n",
      "The mean squared error for alpha 939.3945454545456 is 80.16190753984455\n",
      "\n",
      "\n",
      "The r2 score for alpha 949.4954545454545 is -0.0002066891774028523 \n",
      "The mean squared error for alpha 949.4954545454545 is 80.16190753984455\n",
      "\n",
      "\n",
      "The r2 score for alpha 959.5963636363637 is -0.0002066891774028523 \n",
      "The mean squared error for alpha 959.5963636363637 is 80.16190753984455\n",
      "\n",
      "\n",
      "The r2 score for alpha 969.6972727272728 is -0.0002066891774028523 \n",
      "The mean squared error for alpha 969.6972727272728 is 80.16190753984455\n",
      "\n",
      "\n",
      "The r2 score for alpha 979.7981818181819 is -0.0002066891774028523 \n",
      "The mean squared error for alpha 979.7981818181819 is 80.16190753984455\n",
      "\n",
      "\n",
      "The r2 score for alpha 989.899090909091 is -0.0002066891774028523 \n",
      "The mean squared error for alpha 989.899090909091 is 80.16190753984455\n",
      "\n",
      "\n",
      "The r2 score for alpha 1000.0 is -0.0002066891774028523 \n",
      "The mean squared error for alpha 1000.0 is 80.16190753984455\n",
      "\n",
      "\n"
     ]
    }
   ],
   "source": [
    "alphas = np.linspace(0.01,1000,100)\n",
    "lasso = Lasso(max_iter=10000)\n",
    "coefs = []\n",
    "\n",
    "for a in alphas:\n",
    "    lasso.set_params(alpha=a)\n",
    "    lasso.fit(X_train, y_train)\n",
    "    coefs.append(lasso.coef_)\n",
    "    print('The r2 score for alpha {} is {} '.format(a , r2_score(y_test,lasso.predict(X_test))))\n",
    "    print('The mean squared error for alpha {} is {}'.format(a , mean_squared_error(y_test,lasso.predict(X_test))))\n",
    "    print('\\n')\n",
    "\n"
   ]
  },
  {
   "cell_type": "code",
   "execution_count": 20,
   "id": "02e78b97",
   "metadata": {},
   "outputs": [
    {
     "data": {
      "image/png": "[encoded data removed]",
      "text/plain": [
       "<Figure size 640x480 with 1 Axes>"
      ]
     },
     "metadata": {},
     "output_type": "display_data"
    }
   ],
   "source": [
    "ax = plt.gca()\n",
    "\n",
    "ax.plot(alphas, coefs)\n",
    "ax.set_xscale('log')\n",
    "plt.axis('tight')\n",
    "plt.xlabel('alpha')\n",
    "plt.ylabel('Coefficients')\n",
    "plt.title('Lasso coefficients changes with respect to alpha');"
   ]
  },
  {
   "cell_type": "code",
   "execution_count": 21,
   "id": "039f5f05",
   "metadata": {},
   "outputs": [
    {
     "data": {
      "text/html": [
       "<style>#sk-container-id-3 {color: black;background-color: white;}#sk-container-id-3 pre{padding: 0;}#sk-container-id-3 div.sk-toggleable {background-color: white;}#sk-container-id-3 label.sk-toggleable__label {cursor: pointer;display: block;width: 100%;margin-bottom: 0;padding: 0.3em;box-sizing: border-box;text-align: center;}#sk-container-id-3 label.sk-toggleable__label-arrow:before {content: \"▸\";float: left;margin-right: 0.25em;color: #696969;}#sk-container-id-3 label.sk-toggleable__label-arrow:hover:before {color: black;}#sk-container-id-3 div.sk-estimator:hover label.sk-toggleable__label-arrow:before {color: black;}#sk-container-id-3 div.sk-toggleable__content {max-height: 0;max-width: 0;overflow: hidden;text-align: left;background-color: #f0f8ff;}#sk-container-id-3 div.sk-toggleable__content pre {margin: 0.2em;color: black;border-radius: 0.25em;background-color: #f0f8ff;}#sk-container-id-3 input.sk-toggleable__control:checked~div.sk-toggleable__content {max-height: 200px;max-width: 100%;overflow: auto;}#sk-container-id-3 input.sk-toggleable__control:checked~label.sk-toggleable__label-arrow:before {content: \"▾\";}#sk-container-id-3 div.sk-estimator input.sk-toggleable__control:checked~label.sk-toggleable__label {background-color: #d4ebff;}#sk-container-id-3 div.sk-label input.sk-toggleable__control:checked~label.sk-toggleable__label {background-color: #d4ebff;}#sk-container-id-3 input.sk-hidden--visually {border: 0;clip: rect(1px 1px 1px 1px);clip: rect(1px, 1px, 1px, 1px);height: 1px;margin: -1px;overflow: hidden;padding: 0;position: absolute;width: 1px;}#sk-container-id-3 div.sk-estimator {font-family: monospace;background-color: #f0f8ff;border: 1px dotted black;border-radius: 0.25em;box-sizing: border-box;margin-bottom: 0.5em;}#sk-container-id-3 div.sk-estimator:hover {background-color: #d4ebff;}#sk-container-id-3 div.sk-parallel-item::after {content: \"\";width: 100%;border-bottom: 1px solid gray;flex-grow: 1;}#sk-container-id-3 div.sk-label:hover label.sk-toggleable__label {background-color: #d4ebff;}#sk-container-id-3 div.sk-serial::before {content: \"\";position: absolute;border-left: 1px solid gray;box-sizing: border-box;top: 0;bottom: 0;left: 50%;z-index: 0;}#sk-container-id-3 div.sk-serial {display: flex;flex-direction: column;align-items: center;background-color: white;padding-right: 0.2em;padding-left: 0.2em;position: relative;}#sk-container-id-3 div.sk-item {position: relative;z-index: 1;}#sk-container-id-3 div.sk-parallel {display: flex;align-items: stretch;justify-content: center;background-color: white;position: relative;}#sk-container-id-3 div.sk-item::before, #sk-container-id-3 div.sk-parallel-item::before {content: \"\";position: absolute;border-left: 1px solid gray;box-sizing: border-box;top: 0;bottom: 0;left: 50%;z-index: -1;}#sk-container-id-3 div.sk-parallel-item {display: flex;flex-direction: column;z-index: 1;position: relative;background-color: white;}#sk-container-id-3 div.sk-parallel-item:first-child::after {align-self: flex-end;width: 50%;}#sk-container-id-3 div.sk-parallel-item:last-child::after {align-self: flex-start;width: 50%;}#sk-container-id-3 div.sk-parallel-item:only-child::after {width: 0;}#sk-container-id-3 div.sk-dashed-wrapped {border: 1px dashed gray;margin: 0 0.4em 0.5em 0.4em;box-sizing: border-box;padding-bottom: 0.4em;background-color: white;}#sk-container-id-3 div.sk-label label {font-family: monospace;font-weight: bold;display: inline-block;line-height: 1.2em;}#sk-container-id-3 div.sk-label-container {text-align: center;}#sk-container-id-3 div.sk-container {/* jupyter's `normalize.less` sets `[hidden] { display: none; }` but bootstrap.min.css set `[hidden] { display: none !important; }` so we also need the `!important` here to be able to override the default hidden behavior on the sphinx rendered scikit-learn.org. See: https://github.com/scikit-learn/scikit-learn/issues/21755 */display: inline-block !important;position: relative;}#sk-container-id-3 div.sk-text-repr-fallback {display: none;}</style><div id=\"sk-container-id-3\" class=\"sk-top-container\"><div class=\"sk-text-repr-fallback\"><pre>Pipeline(steps=[(&#x27;scaler&#x27;, StandardScaler()),\n",
       "                (&#x27;lasso&#x27;,\n",
       "                 LassoCV(alphas=array([66.18647275,  1.02730248, 22.6565714 , 69.29316353, 39.67644794,\n",
       "       33.90385471, 77.49575652, 61.72839854, 64.11463228, 39.12873711,\n",
       "       36.96669549, 89.39712513, 71.68056316,  8.43664756,  6.89767015,\n",
       "       35.61312544, 99.98018403, 25.91204893, 32.54621142, 35.06016903,\n",
       "       32.37442735, 86.96399256, 76.84435077, 80....\n",
       "       60.12590602, 41.68734521, 84.23536164, 15.67983923, 83.7192162 ,\n",
       "       74.27716656, 21.03037171, 14.29505354, 41.00450205, 81.66707972,\n",
       "       92.03021279, 15.34723702, 81.24006611, 16.05753488, 80.57624449,\n",
       "       52.26135486, 41.42656354,  9.71978416, 83.84015848, 87.12932748,\n",
       "        0.51403229, 76.35161696, 96.93415314, 79.45361861, 18.07396486,\n",
       "       22.32841341, 56.2218652 , 70.7327092 , 45.63332689, 67.66779836]),\n",
       "                         cv=10, random_state=91))])</pre><b>In a Jupyter environment, please rerun this cell to show the HTML representation or trust the notebook. <br />On GitHub, the HTML representation is unable to render, please try loading this page with nbviewer.org.</b></div><div class=\"sk-container\" hidden><div class=\"sk-item sk-dashed-wrapped\"><div class=\"sk-label-container\"><div class=\"sk-label sk-toggleable\"><input class=\"sk-toggleable__control sk-hidden--visually\" id=\"sk-estimator-id-3\" type=\"checkbox\" ><label for=\"sk-estimator-id-3\" class=\"sk-toggleable__label sk-toggleable__label-arrow\">Pipeline</label><div class=\"sk-toggleable__content\"><pre>Pipeline(steps=[(&#x27;scaler&#x27;, StandardScaler()),\n",
       "                (&#x27;lasso&#x27;,\n",
       "                 LassoCV(alphas=array([66.18647275,  1.02730248, 22.6565714 , 69.29316353, 39.67644794,\n",
       "       33.90385471, 77.49575652, 61.72839854, 64.11463228, 39.12873711,\n",
       "       36.96669549, 89.39712513, 71.68056316,  8.43664756,  6.89767015,\n",
       "       35.61312544, 99.98018403, 25.91204893, 32.54621142, 35.06016903,\n",
       "       32.37442735, 86.96399256, 76.84435077, 80....\n",
       "       60.12590602, 41.68734521, 84.23536164, 15.67983923, 83.7192162 ,\n",
       "       74.27716656, 21.03037171, 14.29505354, 41.00450205, 81.66707972,\n",
       "       92.03021279, 15.34723702, 81.24006611, 16.05753488, 80.57624449,\n",
       "       52.26135486, 41.42656354,  9.71978416, 83.84015848, 87.12932748,\n",
       "        0.51403229, 76.35161696, 96.93415314, 79.45361861, 18.07396486,\n",
       "       22.32841341, 56.2218652 , 70.7327092 , 45.63332689, 67.66779836]),\n",
       "                         cv=10, random_state=91))])</pre></div></div></div><div class=\"sk-serial\"><div class=\"sk-item\"><div class=\"sk-estimator sk-toggleable\"><input class=\"sk-toggleable__control sk-hidden--visually\" id=\"sk-estimator-id-4\" type=\"checkbox\" ><label for=\"sk-estimator-id-4\" class=\"sk-toggleable__label sk-toggleable__label-arrow\">StandardScaler</label><div class=\"sk-toggleable__content\"><pre>StandardScaler()</pre></div></div></div><div class=\"sk-item\"><div class=\"sk-estimator sk-toggleable\"><input class=\"sk-toggleable__control sk-hidden--visually\" id=\"sk-estimator-id-5\" type=\"checkbox\" ><label for=\"sk-estimator-id-5\" class=\"sk-toggleable__label sk-toggleable__label-arrow\">LassoCV</label><div class=\"sk-toggleable__content\"><pre>LassoCV(alphas=array([66.18647275,  1.02730248, 22.6565714 , 69.29316353, 39.67644794,\n",
       "       33.90385471, 77.49575652, 61.72839854, 64.11463228, 39.12873711,\n",
       "       36.96669549, 89.39712513, 71.68056316,  8.43664756,  6.89767015,\n",
       "       35.61312544, 99.98018403, 25.91204893, 32.54621142, 35.06016903,\n",
       "       32.37442735, 86.96399256, 76.84435077, 80.34918996, 92.51527845,\n",
       "       21.9779114 , 22.69243425, 95.545159...\n",
       "       60.12590602, 41.68734521, 84.23536164, 15.67983923, 83.7192162 ,\n",
       "       74.27716656, 21.03037171, 14.29505354, 41.00450205, 81.66707972,\n",
       "       92.03021279, 15.34723702, 81.24006611, 16.05753488, 80.57624449,\n",
       "       52.26135486, 41.42656354,  9.71978416, 83.84015848, 87.12932748,\n",
       "        0.51403229, 76.35161696, 96.93415314, 79.45361861, 18.07396486,\n",
       "       22.32841341, 56.2218652 , 70.7327092 , 45.63332689, 67.66779836]),\n",
       "        cv=10, random_state=91)</pre></div></div></div></div></div></div></div>"
      ],
      "text/plain": [
       "Pipeline(steps=[('scaler', StandardScaler()),\n",
       "                ('lasso',\n",
       "                 LassoCV(alphas=array([66.18647275,  1.02730248, 22.6565714 , 69.29316353, 39.67644794,\n",
       "       33.90385471, 77.49575652, 61.72839854, 64.11463228, 39.12873711,\n",
       "       36.96669549, 89.39712513, 71.68056316,  8.43664756,  6.89767015,\n",
       "       35.61312544, 99.98018403, 25.91204893, 32.54621142, 35.06016903,\n",
       "       32.37442735, 86.96399256, 76.84435077, 80....\n",
       "       60.12590602, 41.68734521, 84.23536164, 15.67983923, 83.7192162 ,\n",
       "       74.27716656, 21.03037171, 14.29505354, 41.00450205, 81.66707972,\n",
       "       92.03021279, 15.34723702, 81.24006611, 16.05753488, 80.57624449,\n",
       "       52.26135486, 41.42656354,  9.71978416, 83.84015848, 87.12932748,\n",
       "        0.51403229, 76.35161696, 96.93415314, 79.45361861, 18.07396486,\n",
       "       22.32841341, 56.2218652 , 70.7327092 , 45.63332689, 67.66779836]),\n",
       "                         cv=10, random_state=91))])"
      ]
     },
     "execution_count": 21,
     "metadata": {},
     "output_type": "execute_result"
    }
   ],
   "source": [
    "\n",
    "\n",
    "alphas=np.random.uniform(0,100,500)\n",
    "\n",
    "# Define the steps of the pipeline\n",
    "steps = [\n",
    "    ('scaler', StandardScaler()), \n",
    "    ('lasso', LassoCV(alphas=alphas, cv=10, random_state=91)) \n",
    "]\n",
    "\n",
    "# Create the pipeline\n",
    "pipeline = Pipeline(steps)\n",
    "\n",
    "# Fit the pipeline to the data\n",
    "pipeline.fit(X_train, y_train)\n",
    "\n",
    "\n"
   ]
  },
  {
   "cell_type": "code",
   "execution_count": 22,
   "id": "95ade0cd",
   "metadata": {},
   "outputs": [
    {
     "data": {
      "text/plain": [
       "0.4202452563541792"
      ]
     },
     "execution_count": 22,
     "metadata": {},
     "output_type": "execute_result"
    }
   ],
   "source": [
    "best_alpha = pipeline.named_steps['lasso'].alpha_\n",
    "best_alpha"
   ]
  },
  {
   "cell_type": "code",
   "execution_count": 23,
   "id": "06c27b0a",
   "metadata": {},
   "outputs": [
    {
     "data": {
      "text/html": [
       "<style>#sk-container-id-4 {color: black;background-color: white;}#sk-container-id-4 pre{padding: 0;}#sk-container-id-4 div.sk-toggleable {background-color: white;}#sk-container-id-4 label.sk-toggleable__label {cursor: pointer;display: block;width: 100%;margin-bottom: 0;padding: 0.3em;box-sizing: border-box;text-align: center;}#sk-container-id-4 label.sk-toggleable__label-arrow:before {content: \"▸\";float: left;margin-right: 0.25em;color: #696969;}#sk-container-id-4 label.sk-toggleable__label-arrow:hover:before {color: black;}#sk-container-id-4 div.sk-estimator:hover label.sk-toggleable__label-arrow:before {color: black;}#sk-container-id-4 div.sk-toggleable__content {max-height: 0;max-width: 0;overflow: hidden;text-align: left;background-color: #f0f8ff;}#sk-container-id-4 div.sk-toggleable__content pre {margin: 0.2em;color: black;border-radius: 0.25em;background-color: #f0f8ff;}#sk-container-id-4 input.sk-toggleable__control:checked~div.sk-toggleable__content {max-height: 200px;max-width: 100%;overflow: auto;}#sk-container-id-4 input.sk-toggleable__control:checked~label.sk-toggleable__label-arrow:before {content: \"▾\";}#sk-container-id-4 div.sk-estimator input.sk-toggleable__control:checked~label.sk-toggleable__label {background-color: #d4ebff;}#sk-container-id-4 div.sk-label input.sk-toggleable__control:checked~label.sk-toggleable__label {background-color: #d4ebff;}#sk-container-id-4 input.sk-hidden--visually {border: 0;clip: rect(1px 1px 1px 1px);clip: rect(1px, 1px, 1px, 1px);height: 1px;margin: -1px;overflow: hidden;padding: 0;position: absolute;width: 1px;}#sk-container-id-4 div.sk-estimator {font-family: monospace;background-color: #f0f8ff;border: 1px dotted black;border-radius: 0.25em;box-sizing: border-box;margin-bottom: 0.5em;}#sk-container-id-4 div.sk-estimator:hover {background-color: #d4ebff;}#sk-container-id-4 div.sk-parallel-item::after {content: \"\";width: 100%;border-bottom: 1px solid gray;flex-grow: 1;}#sk-container-id-4 div.sk-label:hover label.sk-toggleable__label {background-color: #d4ebff;}#sk-container-id-4 div.sk-serial::before {content: \"\";position: absolute;border-left: 1px solid gray;box-sizing: border-box;top: 0;bottom: 0;left: 50%;z-index: 0;}#sk-container-id-4 div.sk-serial {display: flex;flex-direction: column;align-items: center;background-color: white;padding-right: 0.2em;padding-left: 0.2em;position: relative;}#sk-container-id-4 div.sk-item {position: relative;z-index: 1;}#sk-container-id-4 div.sk-parallel {display: flex;align-items: stretch;justify-content: center;background-color: white;position: relative;}#sk-container-id-4 div.sk-item::before, #sk-container-id-4 div.sk-parallel-item::before {content: \"\";position: absolute;border-left: 1px solid gray;box-sizing: border-box;top: 0;bottom: 0;left: 50%;z-index: -1;}#sk-container-id-4 div.sk-parallel-item {display: flex;flex-direction: column;z-index: 1;position: relative;background-color: white;}#sk-container-id-4 div.sk-parallel-item:first-child::after {align-self: flex-end;width: 50%;}#sk-container-id-4 div.sk-parallel-item:last-child::after {align-self: flex-start;width: 50%;}#sk-container-id-4 div.sk-parallel-item:only-child::after {width: 0;}#sk-container-id-4 div.sk-dashed-wrapped {border: 1px dashed gray;margin: 0 0.4em 0.5em 0.4em;box-sizing: border-box;padding-bottom: 0.4em;background-color: white;}#sk-container-id-4 div.sk-label label {font-family: monospace;font-weight: bold;display: inline-block;line-height: 1.2em;}#sk-container-id-4 div.sk-label-container {text-align: center;}#sk-container-id-4 div.sk-container {/* jupyter's `normalize.less` sets `[hidden] { display: none; }` but bootstrap.min.css set `[hidden] { display: none !important; }` so we also need the `!important` here to be able to override the default hidden behavior on the sphinx rendered scikit-learn.org. See: https://github.com/scikit-learn/scikit-learn/issues/21755 */display: inline-block !important;position: relative;}#sk-container-id-4 div.sk-text-repr-fallback {display: none;}</style><div id=\"sk-container-id-4\" class=\"sk-top-container\"><div class=\"sk-text-repr-fallback\"><pre>Lasso(alpha=0.4202452563541792)</pre><b>In a Jupyter environment, please rerun this cell to show the HTML representation or trust the notebook. <br />On GitHub, the HTML representation is unable to render, please try loading this page with nbviewer.org.</b></div><div class=\"sk-container\" hidden><div class=\"sk-item\"><div class=\"sk-estimator sk-toggleable\"><input class=\"sk-toggleable__control sk-hidden--visually\" id=\"sk-estimator-id-6\" type=\"checkbox\" checked><label for=\"sk-estimator-id-6\" class=\"sk-toggleable__label sk-toggleable__label-arrow\">Lasso</label><div class=\"sk-toggleable__content\"><pre>Lasso(alpha=0.4202452563541792)</pre></div></div></div></div></div>"
      ],
      "text/plain": [
       "Lasso(alpha=0.4202452563541792)"
      ]
     },
     "execution_count": 23,
     "metadata": {},
     "output_type": "execute_result"
    }
   ],
   "source": [
    "# Set best alpha\n",
    "lasso_best = Lasso(alpha=best_alpha)\n",
    "lasso_best.fit(X_train, y_train)"
   ]
  },
  {
   "cell_type": "code",
   "execution_count": 24,
   "id": "a79b8a60",
   "metadata": {},
   "outputs": [
    {
     "data": {
      "text/plain": [
       "32.079624793763486"
      ]
     },
     "execution_count": 24,
     "metadata": {},
     "output_type": "execute_result"
    }
   ],
   "source": [
    "lasso_best.intercept_"
   ]
  },
  {
   "cell_type": "code",
   "execution_count": 25,
   "id": "52ae5f90",
   "metadata": {},
   "outputs": [
    {
     "data": {
      "text/plain": [
       "array([-0.13055419,  0.05383335, -0.02909087,  0.        , -0.        ,\n",
       "        2.59400683, -0.        , -1.1151073 ,  0.29337535, -0.01638249,\n",
       "       -0.73938652,  0.01100582, -0.61741132])"
      ]
     },
     "execution_count": 25,
     "metadata": {},
     "output_type": "execute_result"
    }
   ],
   "source": [
    "lasso_best.coef_"
   ]
  },
  {
   "cell_type": "code",
   "execution_count": 26,
   "id": "dae747e8",
   "metadata": {},
   "outputs": [],
   "source": [
    "y_pred=lasso_best.predict(X_test)\n",
    "pred_train = lasso_best.predict(X_train)"
   ]
  },
  {
   "cell_type": "code",
   "execution_count": 27,
   "id": "39f2e5d0",
   "metadata": {},
   "outputs": [
    {
     "name": "stdout",
     "output_type": "stream",
     "text": [
      "R2 score 0.5130276493843171\n"
     ]
    }
   ],
   "source": [
    "print('R2 score', r2_score(y_pred,y_test))"
   ]
  },
  {
   "cell_type": "code",
   "execution_count": 28,
   "id": "29bf95f0",
   "metadata": {},
   "outputs": [
    {
     "name": "stdout",
     "output_type": "stream",
     "text": [
      "mean squared eroor 25.944171691870096\n"
     ]
    }
   ],
   "source": [
    "print('mean squared eroor',mean_squared_error(y_test,y_pred))"
   ]
  },
  {
   "cell_type": "code",
   "execution_count": 29,
   "id": "1d80370c",
   "metadata": {},
   "outputs": [
    {
     "name": "stdout",
     "output_type": "stream",
     "text": [
      "R squared on training set with best alpha 73.093\n",
      "R squared on test set with best alpha 67.629\n"
     ]
    }
   ],
   "source": [
    "print('R squared on training set with best alpha', round(lasso_best.score(X_train, y_train)*100, 3))\n",
    "print('R squared on test set with best alpha', round(lasso_best.score(X_test, y_test)*100, 3))"
   ]
  },
  {
   "cell_type": "code",
   "execution_count": 30,
   "id": "cfbc2ea4",
   "metadata": {},
   "outputs": [
    {
     "name": "stdout",
     "output_type": "stream",
     "text": [
      "MSE training set 23.208\n",
      "MSE test set 25.944\n"
     ]
    }
   ],
   "source": [
    "mse_train = mean_squared_error(y_train, pred_train)\n",
    "print('MSE training set', round(mse_train, 3))\n",
    "\n",
    "\n",
    "mse_test =mean_squared_error(y_test, y_pred)\n",
    "print('MSE test set', round(mse_test, 3))"
   ]
  }
 ],
 "metadata": {
  "kernelspec": {
   "display_name": "Python 3 (ipykernel)",
   "language": "python",
   "name": "python3"
  },
  "language_info": {
   "codemirror_mode": {
    "name": "ipython",
    "version": 3
   },
   "file_extension": ".py",
   "mimetype": "text/x-python",
   "name": "python",
   "nbconvert_exporter": "python",
   "pygments_lexer": "ipython3",
   "version": "3.8.13"
  }
 },
 "nbformat": 4,
 "nbformat_minor": 5
}
