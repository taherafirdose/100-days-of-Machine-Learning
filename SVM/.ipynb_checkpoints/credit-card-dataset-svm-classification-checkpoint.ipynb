{
 "cells": [
  {
   "cell_type": "markdown",
   "metadata": {
    "_cell_guid": "4a36ed59-1b92-4395-bab1-2509f76518ae",
    "_uuid": "95e1df618273182dce3c07c4e5d316c6a54f08cf"
   },
   "source": [
    "@ Authors:\n",
    "\n",
    "LE BORGNE Pierre-Alexis :https://www.kaggle.com/pierra\n",
    "\n",
    "GUILLAUME Florian : https://www.kaggle.com/florianguillaume"
   ]
  },
  {
   "cell_type": "code",
   "execution_count": 1,
   "metadata": {
    "_cell_guid": "95f30dd3-7b08-4087-b156-5bf3250ce742",
    "_uuid": "dc31e50ac68836610ff16246bbda63d7ae6db49b",
    "collapsed": true
   },
   "outputs": [],
   "source": [
    "#Importing librairies\n",
    "\n",
    "import pandas as pd \n",
    "import numpy as np\n",
    "\n",
    "# Scikit-learn library: For SVM\n",
    "from sklearn import preprocessing\n",
    "from sklearn.metrics import confusion_matrix\n",
    "from sklearn import svm\n",
    "\n",
    "import itertools\n",
    "\n",
    "# Matplotlib library to plot the charts\n",
    "import matplotlib.pyplot as plt\n",
    "import matplotlib.mlab as mlab\n",
    "\n",
    "# Library for the statistic data vizualisation\n",
    "import seaborn\n",
    "\n",
    "%matplotlib inline\n",
    "\n"
   ]
  },
  {
   "cell_type": "markdown",
   "metadata": {
    "_cell_guid": "4c375090-4893-4b92-ad94-abb3fbc60e22",
    "_uuid": "504f7342684d5bb9d64acbd7f48c89c2846e69a9"
   },
   "source": [
    "# Data recuperation"
   ]
  },
  {
   "cell_type": "code",
   "execution_count": 2,
   "metadata": {
    "_cell_guid": "b3cd20ab-f13e-4083-9c36-9291414694c2",
    "_uuid": "232bc475856a4f5e92083e1757242020100ee284",
    "collapsed": true
   },
   "outputs": [],
   "source": [
    "data = pd.read_csv('../input/creditcard.csv') # Reading the file .csv\n",
    "df = pd.DataFrame(data) # Converting data to Panda DataFrame"
   ]
  },
  {
   "cell_type": "markdown",
   "metadata": {
    "_cell_guid": "ae7d0f5e-f323-46f6-a454-a2a8065af693",
    "_uuid": "dda60fcd5cb9953205c5ae716fcdf7cd5682f9eb"
   },
   "source": [
    "# Data Visualization"
   ]
  },
  {
   "cell_type": "code",
   "execution_count": 3,
   "metadata": {
    "_cell_guid": "baeaea24-4736-473a-a85c-cbc3ddde9ed3",
    "_uuid": "9d450721809ddf6aa0754b705062bfdf837d9c54",
    "collapsed": true
   },
   "outputs": [],
   "source": [
    "df = pd.DataFrame(data) # Converting data to Panda DataFrame"
   ]
  },
  {
   "cell_type": "code",
   "execution_count": 4,
   "metadata": {
    "_cell_guid": "6aade7ce-2b87-4cd0-a998-3a54ac14d4df",
    "_uuid": "4eafc2bb6228637b51ba4e1c97ded7456440cd0f"
   },
   "outputs": [
    {
     "data": {
      "text/html": [
       "<div>\n",
       "<style>\n",
       "    .dataframe thead tr:only-child th {\n",
       "        text-align: right;\n",
       "    }\n",
       "\n",
       "    .dataframe thead th {\n",
       "        text-align: left;\n",
       "    }\n",
       "\n",
       "    .dataframe tbody tr th {\n",
       "        vertical-align: top;\n",
       "    }\n",
       "</style>\n",
       "<table border=\"1\" class=\"dataframe\">\n",
       "  <thead>\n",
       "    <tr style=\"text-align: right;\">\n",
       "      <th></th>\n",
       "      <th>Time</th>\n",
       "      <th>V1</th>\n",
       "      <th>V2</th>\n",
       "      <th>V3</th>\n",
       "      <th>V4</th>\n",
       "      <th>V5</th>\n",
       "      <th>V6</th>\n",
       "      <th>V7</th>\n",
       "      <th>V8</th>\n",
       "      <th>V9</th>\n",
       "      <th>...</th>\n",
       "      <th>V21</th>\n",
       "      <th>V22</th>\n",
       "      <th>V23</th>\n",
       "      <th>V24</th>\n",
       "      <th>V25</th>\n",
       "      <th>V26</th>\n",
       "      <th>V27</th>\n",
       "      <th>V28</th>\n",
       "      <th>Amount</th>\n",
       "      <th>Class</th>\n",
       "    </tr>\n",
       "  </thead>\n",
       "  <tbody>\n",
       "    <tr>\n",
       "      <th>count</th>\n",
       "      <td>284807.000000</td>\n",
       "      <td>2.848070e+05</td>\n",
       "      <td>2.848070e+05</td>\n",
       "      <td>2.848070e+05</td>\n",
       "      <td>2.848070e+05</td>\n",
       "      <td>2.848070e+05</td>\n",
       "      <td>2.848070e+05</td>\n",
       "      <td>2.848070e+05</td>\n",
       "      <td>2.848070e+05</td>\n",
       "      <td>2.848070e+05</td>\n",
       "      <td>...</td>\n",
       "      <td>2.848070e+05</td>\n",
       "      <td>2.848070e+05</td>\n",
       "      <td>2.848070e+05</td>\n",
       "      <td>2.848070e+05</td>\n",
       "      <td>2.848070e+05</td>\n",
       "      <td>2.848070e+05</td>\n",
       "      <td>2.848070e+05</td>\n",
       "      <td>2.848070e+05</td>\n",
       "      <td>284807.000000</td>\n",
       "      <td>284807.000000</td>\n",
       "    </tr>\n",
       "    <tr>\n",
       "      <th>mean</th>\n",
       "      <td>94813.859575</td>\n",
       "      <td>3.919560e-15</td>\n",
       "      <td>5.688174e-16</td>\n",
       "      <td>-8.769071e-15</td>\n",
       "      <td>2.782312e-15</td>\n",
       "      <td>-1.552563e-15</td>\n",
       "      <td>2.010663e-15</td>\n",
       "      <td>-1.694249e-15</td>\n",
       "      <td>-1.927028e-16</td>\n",
       "      <td>-3.137024e-15</td>\n",
       "      <td>...</td>\n",
       "      <td>1.537294e-16</td>\n",
       "      <td>7.959909e-16</td>\n",
       "      <td>5.367590e-16</td>\n",
       "      <td>4.458112e-15</td>\n",
       "      <td>1.453003e-15</td>\n",
       "      <td>1.699104e-15</td>\n",
       "      <td>-3.660161e-16</td>\n",
       "      <td>-1.206049e-16</td>\n",
       "      <td>88.349619</td>\n",
       "      <td>0.001727</td>\n",
       "    </tr>\n",
       "    <tr>\n",
       "      <th>std</th>\n",
       "      <td>47488.145955</td>\n",
       "      <td>1.958696e+00</td>\n",
       "      <td>1.651309e+00</td>\n",
       "      <td>1.516255e+00</td>\n",
       "      <td>1.415869e+00</td>\n",
       "      <td>1.380247e+00</td>\n",
       "      <td>1.332271e+00</td>\n",
       "      <td>1.237094e+00</td>\n",
       "      <td>1.194353e+00</td>\n",
       "      <td>1.098632e+00</td>\n",
       "      <td>...</td>\n",
       "      <td>7.345240e-01</td>\n",
       "      <td>7.257016e-01</td>\n",
       "      <td>6.244603e-01</td>\n",
       "      <td>6.056471e-01</td>\n",
       "      <td>5.212781e-01</td>\n",
       "      <td>4.822270e-01</td>\n",
       "      <td>4.036325e-01</td>\n",
       "      <td>3.300833e-01</td>\n",
       "      <td>250.120109</td>\n",
       "      <td>0.041527</td>\n",
       "    </tr>\n",
       "    <tr>\n",
       "      <th>min</th>\n",
       "      <td>0.000000</td>\n",
       "      <td>-5.640751e+01</td>\n",
       "      <td>-7.271573e+01</td>\n",
       "      <td>-4.832559e+01</td>\n",
       "      <td>-5.683171e+00</td>\n",
       "      <td>-1.137433e+02</td>\n",
       "      <td>-2.616051e+01</td>\n",
       "      <td>-4.355724e+01</td>\n",
       "      <td>-7.321672e+01</td>\n",
       "      <td>-1.343407e+01</td>\n",
       "      <td>...</td>\n",
       "      <td>-3.483038e+01</td>\n",
       "      <td>-1.093314e+01</td>\n",
       "      <td>-4.480774e+01</td>\n",
       "      <td>-2.836627e+00</td>\n",
       "      <td>-1.029540e+01</td>\n",
       "      <td>-2.604551e+00</td>\n",
       "      <td>-2.256568e+01</td>\n",
       "      <td>-1.543008e+01</td>\n",
       "      <td>0.000000</td>\n",
       "      <td>0.000000</td>\n",
       "    </tr>\n",
       "    <tr>\n",
       "      <th>25%</th>\n",
       "      <td>54201.500000</td>\n",
       "      <td>-9.203734e-01</td>\n",
       "      <td>-5.985499e-01</td>\n",
       "      <td>-8.903648e-01</td>\n",
       "      <td>-8.486401e-01</td>\n",
       "      <td>-6.915971e-01</td>\n",
       "      <td>-7.682956e-01</td>\n",
       "      <td>-5.540759e-01</td>\n",
       "      <td>-2.086297e-01</td>\n",
       "      <td>-6.430976e-01</td>\n",
       "      <td>...</td>\n",
       "      <td>-2.283949e-01</td>\n",
       "      <td>-5.423504e-01</td>\n",
       "      <td>-1.618463e-01</td>\n",
       "      <td>-3.545861e-01</td>\n",
       "      <td>-3.171451e-01</td>\n",
       "      <td>-3.269839e-01</td>\n",
       "      <td>-7.083953e-02</td>\n",
       "      <td>-5.295979e-02</td>\n",
       "      <td>5.600000</td>\n",
       "      <td>0.000000</td>\n",
       "    </tr>\n",
       "    <tr>\n",
       "      <th>50%</th>\n",
       "      <td>84692.000000</td>\n",
       "      <td>1.810880e-02</td>\n",
       "      <td>6.548556e-02</td>\n",
       "      <td>1.798463e-01</td>\n",
       "      <td>-1.984653e-02</td>\n",
       "      <td>-5.433583e-02</td>\n",
       "      <td>-2.741871e-01</td>\n",
       "      <td>4.010308e-02</td>\n",
       "      <td>2.235804e-02</td>\n",
       "      <td>-5.142873e-02</td>\n",
       "      <td>...</td>\n",
       "      <td>-2.945017e-02</td>\n",
       "      <td>6.781943e-03</td>\n",
       "      <td>-1.119293e-02</td>\n",
       "      <td>4.097606e-02</td>\n",
       "      <td>1.659350e-02</td>\n",
       "      <td>-5.213911e-02</td>\n",
       "      <td>1.342146e-03</td>\n",
       "      <td>1.124383e-02</td>\n",
       "      <td>22.000000</td>\n",
       "      <td>0.000000</td>\n",
       "    </tr>\n",
       "    <tr>\n",
       "      <th>75%</th>\n",
       "      <td>139320.500000</td>\n",
       "      <td>1.315642e+00</td>\n",
       "      <td>8.037239e-01</td>\n",
       "      <td>1.027196e+00</td>\n",
       "      <td>7.433413e-01</td>\n",
       "      <td>6.119264e-01</td>\n",
       "      <td>3.985649e-01</td>\n",
       "      <td>5.704361e-01</td>\n",
       "      <td>3.273459e-01</td>\n",
       "      <td>5.971390e-01</td>\n",
       "      <td>...</td>\n",
       "      <td>1.863772e-01</td>\n",
       "      <td>5.285536e-01</td>\n",
       "      <td>1.476421e-01</td>\n",
       "      <td>4.395266e-01</td>\n",
       "      <td>3.507156e-01</td>\n",
       "      <td>2.409522e-01</td>\n",
       "      <td>9.104512e-02</td>\n",
       "      <td>7.827995e-02</td>\n",
       "      <td>77.165000</td>\n",
       "      <td>0.000000</td>\n",
       "    </tr>\n",
       "    <tr>\n",
       "      <th>max</th>\n",
       "      <td>172792.000000</td>\n",
       "      <td>2.454930e+00</td>\n",
       "      <td>2.205773e+01</td>\n",
       "      <td>9.382558e+00</td>\n",
       "      <td>1.687534e+01</td>\n",
       "      <td>3.480167e+01</td>\n",
       "      <td>7.330163e+01</td>\n",
       "      <td>1.205895e+02</td>\n",
       "      <td>2.000721e+01</td>\n",
       "      <td>1.559499e+01</td>\n",
       "      <td>...</td>\n",
       "      <td>2.720284e+01</td>\n",
       "      <td>1.050309e+01</td>\n",
       "      <td>2.252841e+01</td>\n",
       "      <td>4.584549e+00</td>\n",
       "      <td>7.519589e+00</td>\n",
       "      <td>3.517346e+00</td>\n",
       "      <td>3.161220e+01</td>\n",
       "      <td>3.384781e+01</td>\n",
       "      <td>25691.160000</td>\n",
       "      <td>1.000000</td>\n",
       "    </tr>\n",
       "  </tbody>\n",
       "</table>\n",
       "<p>8 rows × 31 columns</p>\n",
       "</div>"
      ],
      "text/plain": [
       "                Time            V1            V2            V3            V4  \\\n",
       "count  284807.000000  2.848070e+05  2.848070e+05  2.848070e+05  2.848070e+05   \n",
       "mean    94813.859575  3.919560e-15  5.688174e-16 -8.769071e-15  2.782312e-15   \n",
       "std     47488.145955  1.958696e+00  1.651309e+00  1.516255e+00  1.415869e+00   \n",
       "min         0.000000 -5.640751e+01 -7.271573e+01 -4.832559e+01 -5.683171e+00   \n",
       "25%     54201.500000 -9.203734e-01 -5.985499e-01 -8.903648e-01 -8.486401e-01   \n",
       "50%     84692.000000  1.810880e-02  6.548556e-02  1.798463e-01 -1.984653e-02   \n",
       "75%    139320.500000  1.315642e+00  8.037239e-01  1.027196e+00  7.433413e-01   \n",
       "max    172792.000000  2.454930e+00  2.205773e+01  9.382558e+00  1.687534e+01   \n",
       "\n",
       "                 V5            V6            V7            V8            V9  \\\n",
       "count  2.848070e+05  2.848070e+05  2.848070e+05  2.848070e+05  2.848070e+05   \n",
       "mean  -1.552563e-15  2.010663e-15 -1.694249e-15 -1.927028e-16 -3.137024e-15   \n",
       "std    1.380247e+00  1.332271e+00  1.237094e+00  1.194353e+00  1.098632e+00   \n",
       "min   -1.137433e+02 -2.616051e+01 -4.355724e+01 -7.321672e+01 -1.343407e+01   \n",
       "25%   -6.915971e-01 -7.682956e-01 -5.540759e-01 -2.086297e-01 -6.430976e-01   \n",
       "50%   -5.433583e-02 -2.741871e-01  4.010308e-02  2.235804e-02 -5.142873e-02   \n",
       "75%    6.119264e-01  3.985649e-01  5.704361e-01  3.273459e-01  5.971390e-01   \n",
       "max    3.480167e+01  7.330163e+01  1.205895e+02  2.000721e+01  1.559499e+01   \n",
       "\n",
       "           ...                 V21           V22           V23           V24  \\\n",
       "count      ...        2.848070e+05  2.848070e+05  2.848070e+05  2.848070e+05   \n",
       "mean       ...        1.537294e-16  7.959909e-16  5.367590e-16  4.458112e-15   \n",
       "std        ...        7.345240e-01  7.257016e-01  6.244603e-01  6.056471e-01   \n",
       "min        ...       -3.483038e+01 -1.093314e+01 -4.480774e+01 -2.836627e+00   \n",
       "25%        ...       -2.283949e-01 -5.423504e-01 -1.618463e-01 -3.545861e-01   \n",
       "50%        ...       -2.945017e-02  6.781943e-03 -1.119293e-02  4.097606e-02   \n",
       "75%        ...        1.863772e-01  5.285536e-01  1.476421e-01  4.395266e-01   \n",
       "max        ...        2.720284e+01  1.050309e+01  2.252841e+01  4.584549e+00   \n",
       "\n",
       "                V25           V26           V27           V28         Amount  \\\n",
       "count  2.848070e+05  2.848070e+05  2.848070e+05  2.848070e+05  284807.000000   \n",
       "mean   1.453003e-15  1.699104e-15 -3.660161e-16 -1.206049e-16      88.349619   \n",
       "std    5.212781e-01  4.822270e-01  4.036325e-01  3.300833e-01     250.120109   \n",
       "min   -1.029540e+01 -2.604551e+00 -2.256568e+01 -1.543008e+01       0.000000   \n",
       "25%   -3.171451e-01 -3.269839e-01 -7.083953e-02 -5.295979e-02       5.600000   \n",
       "50%    1.659350e-02 -5.213911e-02  1.342146e-03  1.124383e-02      22.000000   \n",
       "75%    3.507156e-01  2.409522e-01  9.104512e-02  7.827995e-02      77.165000   \n",
       "max    7.519589e+00  3.517346e+00  3.161220e+01  3.384781e+01   25691.160000   \n",
       "\n",
       "               Class  \n",
       "count  284807.000000  \n",
       "mean        0.001727  \n",
       "std         0.041527  \n",
       "min         0.000000  \n",
       "25%         0.000000  \n",
       "50%         0.000000  \n",
       "75%         0.000000  \n",
       "max         1.000000  \n",
       "\n",
       "[8 rows x 31 columns]"
      ]
     },
     "execution_count": 4,
     "metadata": {},
     "output_type": "execute_result"
    }
   ],
   "source": [
    "df.describe() # Description of statistic features (Sum, Average, Variance, minimum, 1st quartile, 2nd quartile, 3rd Quartile and Maximum)"
   ]
  },
  {
   "cell_type": "code",
   "execution_count": 5,
   "metadata": {
    "_cell_guid": "aaf455b3-f3a1-4316-99c6-cbd4c0a8b33d",
    "_uuid": "346c8874f9118fcbcea8f028804179eed54eca69"
   },
   "outputs": [
    {
     "data": {
      "image/png": "[encoded data removed]",
      "text/plain": [
       "<matplotlib.figure.Figure at 0x7f81019fc240>"
      ]
     },
     "metadata": {},
     "output_type": "display_data"
    }
   ],
   "source": [
    "df_fraud = df[df['Class'] == 1] # Recovery of fraud data\n",
    "plt.figure(figsize=(15,10))\n",
    "plt.scatter(df_fraud['Time'], df_fraud['Amount']) # Display fraud amounts according to their time\n",
    "plt.title('Scratter plot amount fraud')\n",
    "plt.xlabel('Time')\n",
    "plt.ylabel('Amount')\n",
    "plt.xlim([0,175000])\n",
    "plt.ylim([0,2500])\n",
    "plt.show()"
   ]
  },
  {
   "cell_type": "markdown",
   "metadata": {
    "_cell_guid": "970cef6c-01b8-4d61-a3b5-38c3398f9c6f",
    "_uuid": "61c0ec8f7ae47ca9514c2cf3d1e729ba7c528c4e"
   },
   "source": [
    "We notive, first of all, the time doesn't impact the frequency of frauds. Moreover, the majority of frauds are small amounts."
   ]
  },
  {
   "cell_type": "code",
   "execution_count": 6,
   "metadata": {
    "_cell_guid": "8b77e909-ab26-4783-8005-bf591d66cf5b",
    "_uuid": "9a273b886643735328b0666edf70d12807804fe1"
   },
   "outputs": [
    {
     "name": "stdout",
     "output_type": "stream",
     "text": [
      "There are only 9 frauds where the amount was bigger than 1000 over 492 frauds\n"
     ]
    }
   ],
   "source": [
    "nb_big_fraud = df_fraud[df_fraud['Amount'] > 1000].shape[0] # Recovery of frauds over 1000\n",
    "print('There are only '+ str(nb_big_fraud) + ' frauds where the amount was bigger than 1000 over ' + str(df_fraud.shape[0]) + ' frauds')"
   ]
  },
  {
   "cell_type": "markdown",
   "metadata": {
    "_cell_guid": "43c05bc7-c327-4120-9a4b-9b319457a0b5",
    "_uuid": "c5b9104e688e7bcee494645969a7c8360aff515e"
   },
   "source": [
    "**Unbalanced data**"
   ]
  },
  {
   "cell_type": "code",
   "execution_count": 7,
   "metadata": {
    "_cell_guid": "02332e68-9fec-48c5-89cd-06ce360f2e9c",
    "_uuid": "bd071ed3ed6dcf625adc45196f615d62cd462ab1"
   },
   "outputs": [
    {
     "name": "stdout",
     "output_type": "stream",
     "text": [
      "There are only 492 frauds in the original dataset, even though there are 284315 no frauds in the dataset.\n"
     ]
    }
   ],
   "source": [
    "number_fraud = len(data[data.Class == 1])\n",
    "number_no_fraud = len(data[data.Class == 0])\n",
    "print('There are only '+ str(number_fraud) + ' frauds in the original dataset, even though there are ' + str(number_no_fraud) +' no frauds in the dataset.')"
   ]
  },
  {
   "cell_type": "markdown",
   "metadata": {
    "_cell_guid": "a78cfc34-d5a4-45b7-abc1-c70dec7e1c9b",
    "_uuid": "0fa59cb4bb66a0c62d3edb6eb2650d64e19fc113"
   },
   "source": [
    "This dataset is unbalanced which means using the data as it is might result in unwanted behaviour from a supervised classifier.\n",
    "To make it easy to understand if a classifier were to train with this data set trying to achieve the best accuracy possible it would most likely label every transaction as a non-fraud"
   ]
  },
  {
   "cell_type": "code",
   "execution_count": 8,
   "metadata": {
    "_cell_guid": "32763345-e2ac-455b-9265-50bcc304da07",
    "_uuid": "5139011572ad26820d148f408fb3d839899331b5"
   },
   "outputs": [
    {
     "name": "stdout",
     "output_type": "stream",
     "text": [
      "The accuracy of the classifier then would be : 0.998269524998681 which is the number of good classification over the number of tuple to classify\n"
     ]
    }
   ],
   "source": [
    "print(\"The accuracy of the classifier then would be : \"+ str((284315-492)/284315)+ \" which is the number of good classification over the number of tuple to classify\")"
   ]
  },
  {
   "cell_type": "markdown",
   "metadata": {
    "_cell_guid": "527f2804-0aa7-4220-aa9b-03f6b8c0a9fe",
    "_uuid": "8a4df6becaba62481d52118f944612c8c579b8e7"
   },
   "source": [
    "To answer this problem we could use the oversampling principle or the undersampling principle\n",
    "The undersampling principle should be used only if we can be sure that the selected few tuples (in this case non-fraud) are representative of the whole non-fraud transactions of the dataset."
   ]
  },
  {
   "cell_type": "markdown",
   "metadata": {
    "_cell_guid": "934444aa-0a22-4b60-b363-c4af3ab8ffe9",
    "_uuid": "ce9fa83195b843375a102593ee1ece0b9efdad97"
   },
   "source": [
    "# Correlation of features"
   ]
  },
  {
   "cell_type": "code",
   "execution_count": 9,
   "metadata": {
    "_cell_guid": "a575fa45-aa54-42d8-bc41-7901109b0a30",
    "_uuid": "c79fd2aee5021d4f09523411513e43220bede053",
    "collapsed": true
   },
   "outputs": [],
   "source": [
    "df_corr = df.corr() # Calculation of the correlation coefficients in pairs, with the default method:\n",
    "                    # Pearson, Standard Correlation Coefficient"
   ]
  },
  {
   "cell_type": "code",
   "execution_count": 10,
   "metadata": {
    "_cell_guid": "f3fbb40b-c628-45bc-96df-599c83ea1a7f",
    "_uuid": "238eb36a153c7049fef3fd5f4f07f363b4aa92b9"
   },
   "outputs": [
    {
     "data": {
      "image/png": "[encoded data removed]",
      "text/plain": [
       "<matplotlib.figure.Figure at 0x7f81019fc940>"
      ]
     },
     "metadata": {},
     "output_type": "display_data"
    }
   ],
   "source": [
    "plt.figure(figsize=(15,10))\n",
    "seaborn.heatmap(df_corr, cmap=\"YlGnBu\") # Displaying the Heatmap\n",
    "seaborn.set(font_scale=2,style='white')\n",
    "\n",
    "plt.title('Heatmap correlation')\n",
    "plt.show()"
   ]
  },
  {
   "cell_type": "markdown",
   "metadata": {
    "_cell_guid": "41acf9be-3920-47bd-88ec-14182bf970f8",
    "_uuid": "1628a54bdc8639aa5eae20dd6d7c7197fe1cfee5"
   },
   "source": [
    "As we can notice, most of the features are not correlated with each other. This corroborates the fact that a PCA was previously performed on the data."
   ]
  },
  {
   "cell_type": "markdown",
   "metadata": {
    "_cell_guid": "64510cda-f727-4c55-94e2-b5866b61ded6",
    "_uuid": "183412c2da2fac035008f37fd94509c1dd59a343"
   },
   "source": [
    "What can generally be done on a massive dataset is a dimension reduction.\n",
    "By picking th emost important dimensions, there is a possiblity of explaining most of the problem, thus gaining\n",
    "a considerable amount of time while preventing the accuracy to drop too much."
   ]
  },
  {
   "cell_type": "markdown",
   "metadata": {
    "_cell_guid": "2ba2b88a-7b27-4033-8e4a-73af650d1c06",
    "_uuid": "d82ba55efd1b473742de899c8dd6b2c3215b70db"
   },
   "source": [
    "However in this case given the fact that a PCA was previously performed, if the dimension reduction is effective then the PCA wasn't computed in the most effective way. Another way to put it is that no dimension reduction should be computed on a dataset on which a PCA was computed correctly."
   ]
  },
  {
   "cell_type": "code",
   "execution_count": 11,
   "metadata": {
    "_cell_guid": "513071fd-e5e9-4ad5-a45a-bfcfa9376cdc",
    "_uuid": "f5b17abf4e8a26f4f63f4379b1d0b2822b5a3c85",
    "collapsed": true
   },
   "outputs": [],
   "source": [
    "rank = df_corr['Class'] # Retrieving the correlation coefficients per feature in relation to the feature class\n",
    "df_rank = pd.DataFrame(rank) \n",
    "df_rank = np.abs(df_rank).sort_values(by='Class',ascending=False) # Ranking the absolute values of the coefficients\n",
    "                                                                  # in descending order\n",
    "df_rank.dropna(inplace=True) # Removing Missing Data (not a number)"
   ]
  },
  {
   "cell_type": "markdown",
   "metadata": {
    "_cell_guid": "00e91ae9-d53a-40af-a48a-095a4b67dff9",
    "_uuid": "5a154f92f11ecfd72ad4eb2406ead5c24a9d00e3"
   },
   "source": [
    "# Data Selection"
   ]
  },
  {
   "cell_type": "markdown",
   "metadata": {
    "_cell_guid": "a0432f2f-3926-46a0-ac53-a46cf05bb9c8",
    "_uuid": "ecc0c8cd3849db0cbce7dc35e2ab532d13cc052a"
   },
   "source": [
    "OVERSAMPLING"
   ]
  },
  {
   "cell_type": "markdown",
   "metadata": {
    "_cell_guid": "26829a30-0c31-4495-8b16-e96624583a3f",
    "_uuid": "f2b9e864a17a8686b39024341699622a7988d4ff"
   },
   "source": [
    "One way to do oversampling is to replicate the under-represented class tuples until we attain a correct proportion between the class"
   ]
  },
  {
   "cell_type": "markdown",
   "metadata": {
    "_cell_guid": "e87fe2fe-dad5-458a-940b-d94e25e150f8",
    "_uuid": "7ba4b96fce4f0ecbcfc16781dce514baee56e58e"
   },
   "source": [
    "However as we haven't infinite time nor the patience, we are going to run the classifier with the undersampled training data (for those using the undersampling principle if results are really bad just rerun the training dataset definition)"
   ]
  },
  {
   "cell_type": "markdown",
   "metadata": {
    "_cell_guid": "e08a9f1e-090b-402d-b5a3-05ece4881a60",
    "_uuid": "e109c99ad8ae57199c62806c2d5cedb3aa481c41"
   },
   "source": [
    "UNDERSAMPLING"
   ]
  },
  {
   "cell_type": "code",
   "execution_count": 12,
   "metadata": {
    "_cell_guid": "679f5dd1-5665-4de2-942b-6ac95ff1a02f",
    "_uuid": "d5b23951407345e6a89ca312967e582c66e11af3"
   },
   "outputs": [
    {
     "name": "stdout",
     "output_type": "stream",
     "text": [
      "In this dataset, we have 293 frauds so we need to take a similar number of non-fraud\n"
     ]
    }
   ],
   "source": [
    "# We seperate ours data in two groups : a train dataset and a test dataset\n",
    "\n",
    "# First we build our train dataset\n",
    "df_train_all = df[0:150000] # We cut in two the original dataset\n",
    "df_train_1 = df_train_all[df_train_all['Class'] == 1] # We seperate the data which are the frauds and the no frauds\n",
    "df_train_0 = df_train_all[df_train_all['Class'] == 0]\n",
    "print('In this dataset, we have ' + str(len(df_train_1)) +\" frauds so we need to take a similar number of non-fraud\")\n",
    "\n",
    "df_sample=df_train_0.sample(300)\n",
    "df_train = df_train_1.append(df_sample) # We gather the frauds with the no frauds. \n",
    "df_train = df_train.sample(frac=1) # Then we mix our dataset"
   ]
  },
  {
   "cell_type": "code",
   "execution_count": 13,
   "metadata": {
    "_cell_guid": "36f77663-2b2a-412f-a759-0fd3a0bf06ab",
    "_uuid": "d9707da7dc04b2a415608f2833dd5d732dd98925",
    "collapsed": true
   },
   "outputs": [],
   "source": [
    "X_train = df_train.drop(['Time', 'Class'],axis=1) # We drop the features Time (useless), and the Class (label)\n",
    "y_train = df_train['Class'] # We create our label\n",
    "X_train = np.asarray(X_train)\n",
    "y_train = np.asarray(y_train)"
   ]
  },
  {
   "cell_type": "code",
   "execution_count": 14,
   "metadata": {
    "_cell_guid": "d7c350a4-6874-46b8-b699-4c27aa42dade",
    "_uuid": "975a023dc24a60832b3a670aecf2dbe3b9390183",
    "collapsed": true
   },
   "outputs": [],
   "source": [
    "############################## with all the test dataset to see if the model learn correctly ##################\n",
    "df_test_all = df[150000:]\n",
    "\n",
    "X_test_all = df_test_all.drop(['Time', 'Class'],axis=1)\n",
    "y_test_all = df_test_all['Class']\n",
    "X_test_all = np.asarray(X_test_all)\n",
    "y_test_all = np.asarray(y_test_all)"
   ]
  },
  {
   "cell_type": "markdown",
   "metadata": {
    "_cell_guid": "0b4284ab-89fc-4992-919b-b2fce118c601",
    "_uuid": "6506e5ce2aaa631f98c3290a6a35bd2cdc16a62d"
   },
   "source": [
    "Then we define training and testing set after applying a dimension reduction to illustrate the fact that nothing will be gained because a PCA was previously computed"
   ]
  },
  {
   "cell_type": "code",
   "execution_count": 15,
   "metadata": {
    "_cell_guid": "d7246290-1ada-4be9-87a3-833620d23e04",
    "_uuid": "274f5e99f592cdc487e39eb60419a17a1cada5fe",
    "collapsed": true
   },
   "outputs": [],
   "source": [
    "X_train_rank = df_train[df_rank.index[1:11]] # We take the first ten ranked features\n",
    "X_train_rank = np.asarray(X_train_rank)"
   ]
  },
  {
   "cell_type": "code",
   "execution_count": 16,
   "metadata": {
    "_cell_guid": "1c9addbe-d94c-44e8-84a9-1afdd13291be",
    "_uuid": "7a28465f8d7a4577ca6f4d1eb1f372a87da87c63",
    "collapsed": true
   },
   "outputs": [],
   "source": [
    "############################## with all the test dataset to see if the model learn correctly ##################\n",
    "X_test_all_rank = df_test_all[df_rank.index[1:11]]\n",
    "X_test_all_rank = np.asarray(X_test_all_rank)\n",
    "y_test_all = np.asarray(y_test_all)"
   ]
  },
  {
   "cell_type": "markdown",
   "metadata": {
    "_cell_guid": "c54c8f9f-9301-4a96-9c8b-1845946187ff",
    "_uuid": "a6896c291abc000d9d642fcc65bb93d45b118236"
   },
   "source": [
    "# Confusion Matrix"
   ]
  },
  {
   "cell_type": "code",
   "execution_count": 17,
   "metadata": {
    "_cell_guid": "e298b2fd-6569-4e38-97b1-227a0960e4fe",
    "_uuid": "55d1987b1b3963fb9ca5fd1142faae095dfa338b",
    "collapsed": true
   },
   "outputs": [],
   "source": [
    "class_names=np.array(['0','1']) # Binary label, Class = 1 (fraud) and Class = 0 (no fraud)"
   ]
  },
  {
   "cell_type": "code",
   "execution_count": 18,
   "metadata": {
    "_cell_guid": "c57ed880-9e78-4620-9158-bfe626bf75f6",
    "_uuid": "a484397df965faf0e489e17a7e0b0ccf36c8bf84",
    "collapsed": true
   },
   "outputs": [],
   "source": [
    "# Function to plot the confusion Matrix\n",
    "def plot_confusion_matrix(cm, classes,\n",
    "                          title='Confusion matrix',\n",
    "                          cmap=plt.cm.Blues):\n",
    "    \n",
    "    plt.imshow(cm, interpolation='nearest', cmap=cmap)\n",
    "    plt.title(title)\n",
    "    plt.colorbar()\n",
    "    tick_marks = np.arange(len(classes))\n",
    "    plt.xticks(tick_marks, classes, rotation=45)\n",
    "    plt.yticks(tick_marks, classes)\n",
    "\n",
    "    fmt = 'd' \n",
    "    thresh = cm.max() / 2.\n",
    "    for i, j in itertools.product(range(cm.shape[0]), range(cm.shape[1])):\n",
    "        plt.text(j, i, format(cm[i, j], fmt),\n",
    "                 horizontalalignment=\"center\",\n",
    "                 color=\"white\" if cm[i, j] > thresh else \"black\")\n",
    "\n",
    "    plt.tight_layout()\n",
    "    plt.ylabel('True label')\n",
    "    plt.xlabel('Predicted label')"
   ]
  },
  {
   "cell_type": "markdown",
   "metadata": {
    "_cell_guid": "f7de7e6f-e51d-4e83-9d4e-6b0abdd2c726",
    "_uuid": "95ccdb3d1da9c590cb7b984f7f7a3151c316509c"
   },
   "source": [
    "# Model Selection"
   ]
  },
  {
   "cell_type": "markdown",
   "metadata": {
    "_cell_guid": "08c5814b-f154-476b-a91b-09682911a7fc",
    "_uuid": "940007266bccc4c732bfe0d990e7307eddb53293",
    "scrolled": true
   },
   "source": [
    "So now, we'll use a SVM model classifier, with the scikit-learn library."
   ]
  },
  {
   "cell_type": "code",
   "execution_count": 19,
   "metadata": {
    "_cell_guid": "1402594d-a2bf-4bef-a4b1-ffbada37e8b6",
    "_uuid": "54b464be3bacc3a8730ef22a44de83979a541952",
    "collapsed": true
   },
   "outputs": [],
   "source": [
    "classifier = svm.SVC(kernel='linear') # We set a SVM classifier, the default SVM Classifier (Kernel = Radial Basis Function)"
   ]
  },
  {
   "cell_type": "code",
   "execution_count": 20,
   "metadata": {
    "_cell_guid": "671a5ed5-1103-4dd7-b7ef-f4959320b9b8",
    "_uuid": "ae95b7f9abb4c55f97a7b0e844966d766acd14e1"
   },
   "outputs": [
    {
     "data": {
      "text/plain": [
       "SVC(C=1.0, cache_size=200, class_weight=None, coef0=0.0,\n",
       "  decision_function_shape='ovr', degree=3, gamma='auto', kernel='linear',\n",
       "  max_iter=-1, probability=False, random_state=None, shrinking=True,\n",
       "  tol=0.001, verbose=False)"
      ]
     },
     "execution_count": 20,
     "metadata": {},
     "output_type": "execute_result"
    }
   ],
   "source": [
    "classifier.fit(X_train, y_train) # Then we train our model, with our balanced data train."
   ]
  },
  {
   "cell_type": "markdown",
   "metadata": {
    "_cell_guid": "33fd5429-184a-40ac-9b4f-cc66300eb75d",
    "_uuid": "06c6624cc3199d8c61aa462a1ac5daea1af5f044"
   },
   "source": [
    "# Testing the model"
   ]
  },
  {
   "cell_type": "code",
   "execution_count": 21,
   "metadata": {
    "_cell_guid": "b7f42a0d-5dc2-482e-83dd-95be0b709fae",
    "_uuid": "06c4a00a2aeb9989135ef954ade5bf1dd750f8ce",
    "collapsed": true
   },
   "outputs": [],
   "source": [
    "prediction_SVM_all = classifier.predict(X_test_all) #And finally, we predict our data test."
   ]
  },
  {
   "cell_type": "code",
   "execution_count": 22,
   "metadata": {
    "_cell_guid": "5558cbc6-e22c-4748-8640-35cd43358d1c",
    "_uuid": "cf58f6438e736b63903773caf38cd364a73178d4"
   },
   "outputs": [
    {
     "data": {
      "image/png": "[encoded data removed]",
      "text/plain": [
       "<matplotlib.figure.Figure at 0x7f80fe459eb8>"
      ]
     },
     "metadata": {},
     "output_type": "display_data"
    }
   ],
   "source": [
    "cm = confusion_matrix(y_test_all, prediction_SVM_all)\n",
    "plot_confusion_matrix(cm,class_names)"
   ]
  },
  {
   "cell_type": "markdown",
   "metadata": {
    "_cell_guid": "fcc81707-fc91-4a66-945b-93fb7423dfcd",
    "_uuid": "9866599a18a5ff8286d8fac8ce2dd7213ae2d310"
   },
   "source": [
    "In this case we are gonna try to minimize the number of errors in our prediction results. Errors are on the anti-diagonal of the confusion matrix.  But we can infer that being wrong about an actual fraud is far worse than being wrong about a non-fraud transaction. "
   ]
  },
  {
   "cell_type": "markdown",
   "metadata": {
    "_cell_guid": "93871f02-4e10-4ae4-9724-0d673e56c255",
    "_uuid": "b164a5ed0b0b36739ad8b96052a14d515bb277e9"
   },
   "source": [
    "That is why  using the accuracy as only classification criterion could be considered unthoughtful. \n",
    "During the remaining part of this study our criterion will consider precision on the real fraud 4 times more important than the general accuracy.\n",
    "Even though the final tested result is accuracy."
   ]
  },
  {
   "cell_type": "code",
   "execution_count": 23,
   "metadata": {
    "_cell_guid": "21cde17a-738a-4c75-a6b3-16b4c055188b",
    "_uuid": "7000a8cec37987f50f8e398e48894c5ece0a7470"
   },
   "outputs": [
    {
     "name": "stdout",
     "output_type": "stream",
     "text": [
      "Our criterion give a result of 0.905383035408\n"
     ]
    }
   ],
   "source": [
    "print('Our criterion give a result of ' \n",
    "      + str( ( (cm[0][0]+cm[1][1]) / (sum(cm[0]) + sum(cm[1])) + 4 * cm[1][1]/(cm[1][0]+cm[1][1])) / 5))"
   ]
  },
  {
   "cell_type": "code",
   "execution_count": 24,
   "metadata": {
    "_cell_guid": "08447323-4ed7-4e29-a3c1-c86682ff63f0",
    "_uuid": "7c7bb0d2cfffdbdbe10df915a429c88e36a60957"
   },
   "outputs": [
    {
     "name": "stdout",
     "output_type": "stream",
     "text": [
      "We have detected 177 frauds / 199 total frauds.\n",
      "\n",
      "So, the probability to detect a fraud is 0.889447236181\n",
      "the accuracy is : 0.969126232317\n"
     ]
    }
   ],
   "source": [
    "print('We have detected ' + str(cm[1][1]) + ' frauds / ' + str(cm[1][1]+cm[1][0]) + ' total frauds.')\n",
    "print('\\nSo, the probability to detect a fraud is ' + str(cm[1][1]/(cm[1][1]+cm[1][0])))\n",
    "print(\"the accuracy is : \"+str((cm[0][0]+cm[1][1]) / (sum(cm[0]) + sum(cm[1]))))"
   ]
  },
  {
   "cell_type": "markdown",
   "metadata": {
    "_cell_guid": "087b8a01-6a00-4bdd-ade9-08a3b5cd198b",
    "_uuid": "13428d627950722f5c2dab060549bdd519a2981a"
   },
   "source": [
    " # Models Rank"
   ]
  },
  {
   "cell_type": "markdown",
   "metadata": {
    "_cell_guid": "37124bd8-5865-4ddc-b04f-f6d899340968",
    "_uuid": "7bfed5e996206e6863601fcaa09761baf68fb361"
   },
   "source": [
    "There is a need to compute the fit method again, as the dimension of the tuples to predict went from 29 to 10 because of the dimension reduction"
   ]
  },
  {
   "cell_type": "code",
   "execution_count": 25,
   "metadata": {
    "_cell_guid": "5e73fef0-c4d4-450b-9961-e841767e0342",
    "_uuid": "b4247cb1dd4d7af91421d01f7067898799fdbfd8",
    "collapsed": true
   },
   "outputs": [],
   "source": [
    "classifier.fit(X_train_rank, y_train) # Then we train our model, with our balanced data train.\n",
    "prediction_SVM = classifier.predict(X_test_all_rank) #And finally, we predict our data test."
   ]
  },
  {
   "cell_type": "code",
   "execution_count": 26,
   "metadata": {
    "_cell_guid": "e84710c9-59fe-4205-8c05-e989d5942712",
    "_uuid": "bb4defbee6e8ebaff98eebaff7701503d2b65434"
   },
   "outputs": [
    {
     "data": {
      "image/png": "[encoded data removed]",
      "text/plain": [
       "<matplotlib.figure.Figure at 0x7f80fc5826d8>"
      ]
     },
     "metadata": {},
     "output_type": "display_data"
    }
   ],
   "source": [
    "cm = confusion_matrix(y_test_all, prediction_SVM)\n",
    "plot_confusion_matrix(cm,class_names)"
   ]
  },
  {
   "cell_type": "code",
   "execution_count": 27,
   "metadata": {
    "_cell_guid": "d310bf29-6673-4882-8387-e4b6fb53ee86",
    "_uuid": "a0d4e792c37722f84d9b55432b286bfcafec1293"
   },
   "outputs": [
    {
     "name": "stdout",
     "output_type": "stream",
     "text": [
      "Our criterion give a result of 0.912995958898\n"
     ]
    }
   ],
   "source": [
    "print('Our criterion give a result of ' \n",
    "      + str( ( (cm[0][0]+cm[1][1]) / (sum(cm[0]) + sum(cm[1])) + 4 * cm[1][1]/(cm[1][0]+cm[1][1])) / 5))"
   ]
  },
  {
   "cell_type": "code",
   "execution_count": 28,
   "metadata": {
    "_cell_guid": "9fb3cb24-8f70-423c-89c7-aa91d15172ad",
    "_uuid": "f39c12ef5d8c91185b1873483fd93e26c13c3cab"
   },
   "outputs": [
    {
     "name": "stdout",
     "output_type": "stream",
     "text": [
      "We have detected 179 frauds / 199 total frauds.\n",
      "\n",
      "So, the probability to detect a fraud is 0.899497487437\n",
      "the accuracy is : 0.966989844741\n"
     ]
    }
   ],
   "source": [
    "print('We have detected ' + str(cm[1][1]) + ' frauds / ' + str(cm[1][1]+cm[1][0]) + ' total frauds.')\n",
    "print('\\nSo, the probability to detect a fraud is ' + str(cm[1][1]/(cm[1][1]+cm[1][0])))\n",
    "print(\"the accuracy is : \"+str((cm[0][0]+cm[1][1]) / (sum(cm[0]) + sum(cm[1]))))"
   ]
  },
  {
   "cell_type": "markdown",
   "metadata": {
    "_cell_guid": "74782013-18d1-4afb-8d3c-67dc8cae17d2",
    "_uuid": "6b8d59c2aa9b0a07112a405d063120dc0e20e338"
   },
   "source": [
    "We can see that the study using the reduced data is far from unrelevant, which means that the last step of the previously computed PCA could have been done in a more efficient way. Indeed one of the main question we have with the PCA once we calculated the principals components direction, is how many of this component are we gonna keep. This means that some of the 30 dimensions are do not discriminate classes that much."
   ]
  },
  {
   "cell_type": "markdown",
   "metadata": {
    "_cell_guid": "66ca64cd-078d-4a1c-8ecd-d85a247ef5f3",
    "_uuid": "a38206000a28bcc2baf07d0d8e10f7eb1256f993"
   },
   "source": [
    "# Re-balanced class weigh :"
   ]
  },
  {
   "cell_type": "markdown",
   "metadata": {
    "_cell_guid": "10579138-58f9-41db-b5a7-25f6c4741900",
    "_uuid": "6cd3881e06f80ba87e4377c525572db1585e1c84"
   },
   "source": [
    "In this previously used SVM model, the weigh of each class was the same, which means that missing a fraud is as bad as misjudging a non-fraud. The objective, for a bank, is to maximize the number of detected frauds! Even if it means considering more non-fraud tuple as fraudulent operation. So, we need to minimize the False positives : the number of no detected frauds.\n",
    "\n",
    "Indeed, by modifying the class_weight parameter, we can chose which class to give more importance during the training phase. In this case, the class_1 which describes the fraudulent operations will be considered more important than the class_0 (non-fraud operation). However, in this case we will give more importance to the class_0 due to the large number of misclassed non-fraud operation. Of course the goal is to lose as little effective fraud as possible in the process.\n"
   ]
  },
  {
   "cell_type": "code",
   "execution_count": 29,
   "metadata": {
    "_cell_guid": "33f60bc0-38c6-4ee7-a348-e2254bca727c",
    "_uuid": "5c36459b8b55ab20a57097d820f7f24a856c20f7",
    "collapsed": true
   },
   "outputs": [],
   "source": [
    "classifier_b = svm.SVC(kernel='linear',class_weight={0:0.60, 1:0.40})"
   ]
  },
  {
   "cell_type": "code",
   "execution_count": 30,
   "metadata": {
    "_cell_guid": "07b6b2e3-4cd2-4202-b2a9-3d22edadf650",
    "_uuid": "4b29ebf3f9fd2e591498e747d453297ccc9d95f0"
   },
   "outputs": [
    {
     "data": {
      "text/plain": [
       "SVC(C=1.0, cache_size=200, class_weight={0: 0.6, 1: 0.4}, coef0=0.0,\n",
       "  decision_function_shape='ovr', degree=3, gamma='auto', kernel='linear',\n",
       "  max_iter=-1, probability=False, random_state=None, shrinking=True,\n",
       "  tol=0.001, verbose=False)"
      ]
     },
     "execution_count": 30,
     "metadata": {},
     "output_type": "execute_result"
    }
   ],
   "source": [
    "classifier_b.fit(X_train, y_train) # Then we train our model, with our balanced data train."
   ]
  },
  {
   "cell_type": "markdown",
   "metadata": {
    "_cell_guid": "711f7353-4f8d-494e-a2e3-e24c69da17a8",
    "_uuid": "f441734ba20be6e81ead1f4fb1196c09095cc4f6"
   },
   "source": [
    "# Testing the model"
   ]
  },
  {
   "cell_type": "code",
   "execution_count": 31,
   "metadata": {
    "_cell_guid": "63406a9e-e7f7-4bbe-9945-55daf2c384a8",
    "_uuid": "c2b29f36198561711dd23cdef243bd7d9b41bce7",
    "collapsed": true
   },
   "outputs": [],
   "source": [
    "prediction_SVM_b_all = classifier_b.predict(X_test_all) #We predict all the data set."
   ]
  },
  {
   "cell_type": "code",
   "execution_count": 32,
   "metadata": {
    "_cell_guid": "42f417eb-5c5c-4d1d-af59-349d17d77f6f",
    "_uuid": "e462d0526a115a87d27f8a1c24bbb6fd3b9e9eeb"
   },
   "outputs": [
    {
     "data": {
      "image/png": "[encoded data removed]",
      "text/plain": [
       "<matplotlib.figure.Figure at 0x7f80fc49d6d8>"
      ]
     },
     "metadata": {},
     "output_type": "display_data"
    }
   ],
   "source": [
    "cm = confusion_matrix(y_test_all, prediction_SVM_b_all)\n",
    "plot_confusion_matrix(cm,class_names)"
   ]
  },
  {
   "cell_type": "code",
   "execution_count": 33,
   "metadata": {
    "_cell_guid": "9aa0594f-88da-4015-a712-c4e378d276c9",
    "_uuid": "5f80761a24cf70ac29bbf3650a7db0ae6c273600"
   },
   "outputs": [
    {
     "name": "stdout",
     "output_type": "stream",
     "text": [
      "Our criterion give a result of 0.907710807705\n"
     ]
    }
   ],
   "source": [
    "print('Our criterion give a result of ' \n",
    "      + str( ( (cm[0][0]+cm[1][1]) / (sum(cm[0]) + sum(cm[1])) + 4 * cm[1][1]/(cm[1][0]+cm[1][1])) / 5))"
   ]
  },
  {
   "cell_type": "code",
   "execution_count": 34,
   "metadata": {
    "_cell_guid": "d03a28ad-b9e1-4c2c-bed2-06308b1816cf",
    "_uuid": "3d674db8f4eeb8ed4a8583e3d5cd40f8561ae33d"
   },
   "outputs": [
    {
     "name": "stdout",
     "output_type": "stream",
     "text": [
      "We have detected 177 frauds / 199 total frauds.\n",
      "\n",
      "So, the probability to detect a fraud is 0.889447236181\n",
      "the accuracy is : 0.980765093801\n"
     ]
    }
   ],
   "source": [
    "print('We have detected ' + str(cm[1][1]) + ' frauds / ' + str(cm[1][1]+cm[1][0]) + ' total frauds.')\n",
    "print('\\nSo, the probability to detect a fraud is ' + str(cm[1][1]/(cm[1][1]+cm[1][0])))\n",
    "print(\"the accuracy is : \"+str((cm[0][0]+cm[1][1]) / (sum(cm[0]) + sum(cm[1]))))"
   ]
  },
  {
   "cell_type": "markdown",
   "metadata": {
    "_cell_guid": "7950e244-844f-418c-9898-2f06756dc125",
    "_uuid": "f31fdcb8899711ce15b5a0760eced5741a9e1d97"
   },
   "source": [
    " # Models Rank"
   ]
  },
  {
   "cell_type": "code",
   "execution_count": 35,
   "metadata": {
    "_cell_guid": "ef932b2b-72bf-47df-9157-ae3249665467",
    "_uuid": "9d241abdaded4809eafe7e2c885150e63f4ae4d0",
    "collapsed": true
   },
   "outputs": [],
   "source": [
    "classifier_b.fit(X_train_rank, y_train) # Then we train our model, with our balanced data train.\n",
    "prediction_SVM = classifier_b.predict(X_test_all_rank) #And finally, we predict our data test."
   ]
  },
  {
   "cell_type": "code",
   "execution_count": 36,
   "metadata": {
    "_cell_guid": "a9ce5f16-08b3-4932-89ee-1ed934684482",
    "_uuid": "3e6542b40144dbef93f27144198299e9b7a84bbe"
   },
   "outputs": [
    {
     "data": {
      "image/png": "[encoded data removed]",
      "text/plain": [
       "<matplotlib.figure.Figure at 0x7f80f5ff8080>"
      ]
     },
     "metadata": {},
     "output_type": "display_data"
    }
   ],
   "source": [
    "cm = confusion_matrix(y_test_all, prediction_SVM)\n",
    "plot_confusion_matrix(cm,class_names)"
   ]
  },
  {
   "cell_type": "code",
   "execution_count": 37,
   "metadata": {
    "_cell_guid": "ff879d9e-b9c3-40b7-a9a6-dae5ce11a88e",
    "_uuid": "653485d7a5c7feb2052321b7a05b4415b63fdac8"
   },
   "outputs": [
    {
     "name": "stdout",
     "output_type": "stream",
     "text": [
      "Our criterion give a result of 0.8981607616\n"
     ]
    }
   ],
   "source": [
    "print('Our criterion give a result of ' \n",
    "      + str( ( (cm[0][0]+cm[1][1]) / (sum(cm[0]) + sum(cm[1])) + 4 * cm[1][1]/(cm[1][0]+cm[1][1])) / 5))"
   ]
  },
  {
   "cell_type": "code",
   "execution_count": 38,
   "metadata": {
    "_cell_guid": "6aa458bb-3314-492b-b9c3-4d811c5a2db5",
    "_uuid": "725c2ff781e0a1c86eb160eeab0da9723aee91cc"
   },
   "outputs": [
    {
     "name": "stdout",
     "output_type": "stream",
     "text": [
      "We have detected 174 frauds / 199 total frauds.\n",
      "\n",
      "So, the probability to detect a fraud is 0.874371859296\n",
      "the accuracy is : 0.993316370812\n"
     ]
    }
   ],
   "source": [
    "print('We have detected ' + str(cm[1][1]) + ' frauds / ' + str(cm[1][1]+cm[1][0]) + ' total frauds.')\n",
    "print('\\nSo, the probability to detect a fraud is ' + str(cm[1][1]/(cm[1][1]+cm[1][0])))\n",
    "print(\"the accuracy is : \"+str((cm[0][0]+cm[1][1]) / (sum(cm[0]) + sum(cm[1]))))"
   ]
  }
 ],
 "metadata": {
  "anaconda-cloud": {},
  "kernelspec": {
   "display_name": "Python 3",
   "language": "python",
   "name": "python3"
  },
  "language_info": {
   "codemirror_mode": {
    "name": "ipython",
    "version": 3
   },
   "file_extension": ".py",
   "mimetype": "text/x-python",
   "name": "python",
   "nbconvert_exporter": "python",
   "pygments_lexer": "ipython3",
   "version": "3.6.3"
  }
 },
 "nbformat": 4,
 "nbformat_minor": 1
}
